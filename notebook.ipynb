{
 "cells": [
  {
   "cell_type": "markdown",
   "id": "interim-humor",
   "metadata": {},
   "source": [
    "# Kickstarter projects classification model\n",
    "\n",
    "In this coursework ([4iz565](http://4iz565.gitlab.io/)) we will try to find the best model to predict if projects on [Kickstarter](https://www.kickstarter.com/) will be successful or not.\n",
    "\n",
    "We use dataset from kaggle with more than 300 000 Kickstarter projects.\n",
    "\n",
    "- [Link to the dataset on kaggle](https://www.kaggle.com/kemical/kickstarter-projects)\n",
    "\n",
    "## Authors\n",
    "- Aleksandra Golofaeva (gola03@vse.cz)\n",
    "- Dmitrij Tkačenko (tkad06@vse.cz)\n",
    "\n",
    "## Requirements (packages) for running Python scripts\n",
    "- python3\n",
    "- pandas\n",
    "- numpy\n",
    "- matplotlib\n",
    "- sklearn\n",
    "- datetime"
   ]
  },
  {
   "source": [
    "## Goal of the classification"
   ],
   "cell_type": "markdown",
   "metadata": {}
  },
  {
   "source": [
    "In this coursework we try to create classification model, which will **predict if a project from the Kickstarter portal success or fail**.\n",
    "\n",
    "We preprocess dataset to work just with relevant attributes. We derive new columns and remove redundant ones. Also, we should handle missing values.\n",
    "\n",
    "Then, we use and compare two fitting and common algorithms to train model.\n",
    "\n",
    "We select one classifier and tune it's metaparameters.\n",
    "\n",
    "And finally, we evaluate selected and tuned model."
   ],
   "cell_type": "markdown",
   "metadata": {}
  },
  {
   "source": [
    "## Discover dataset"
   ],
   "cell_type": "markdown",
   "metadata": {}
  },
  {
   "source": [
    "Before we will train any models, we should discover our dataset, then we will proceed to preprocessing our data.\n",
    "\n",
    "But first, lets import Kickstarter projects dataset from a `.csv` file and save as a pandas data frame `ksp`."
   ],
   "cell_type": "markdown",
   "metadata": {}
  },
  {
   "cell_type": "code",
   "execution_count": 111,
   "id": "alleged-norwegian",
   "metadata": {},
   "outputs": [
    {
     "output_type": "execute_result",
     "data": {
      "text/plain": [
       "                                                         name        category  \\\n",
       "ID                                                                              \n",
       "1000002330                    The Songs of Adelaide & Abullah          Poetry   \n",
       "1000003930      Greeting From Earth: ZGAC Arts Capsule For ET  Narrative Film   \n",
       "1000004038                                     Where is Hank?  Narrative Film   \n",
       "1000007540  ToshiCapital Rekordz Needs Help to Complete Album           Music   \n",
       "1000011046  Community Film Project: The Art of Neighborhoo...    Film & Video   \n",
       "\n",
       "           main_category currency    deadline     goal             launched  \\\n",
       "ID                                                                            \n",
       "1000002330    Publishing      GBP  2015-10-09   1000.0  2015-08-11 12:12:28   \n",
       "1000003930  Film & Video      USD  2017-11-01  30000.0  2017-09-02 04:43:57   \n",
       "1000004038  Film & Video      USD  2013-02-26  45000.0  2013-01-12 00:20:50   \n",
       "1000007540         Music      USD  2012-04-16   5000.0  2012-03-17 03:24:11   \n",
       "1000011046  Film & Video      USD  2015-08-29  19500.0  2015-07-04 08:35:03   \n",
       "\n",
       "            pledged     state  backers country  usd pledged  usd_pledged_real  \\\n",
       "ID                                                                              \n",
       "1000002330      0.0    failed        0      GB          0.0               0.0   \n",
       "1000003930   2421.0    failed       15      US        100.0            2421.0   \n",
       "1000004038    220.0    failed        3      US        220.0             220.0   \n",
       "1000007540      1.0    failed        1      US          1.0               1.0   \n",
       "1000011046   1283.0  canceled       14      US       1283.0            1283.0   \n",
       "\n",
       "            usd_goal_real  \n",
       "ID                         \n",
       "1000002330        1533.95  \n",
       "1000003930       30000.00  \n",
       "1000004038       45000.00  \n",
       "1000007540        5000.00  \n",
       "1000011046       19500.00  "
      ],
      "text/html": "<div>\n<style scoped>\n    .dataframe tbody tr th:only-of-type {\n        vertical-align: middle;\n    }\n\n    .dataframe tbody tr th {\n        vertical-align: top;\n    }\n\n    .dataframe thead th {\n        text-align: right;\n    }\n</style>\n<table border=\"1\" class=\"dataframe\">\n  <thead>\n    <tr style=\"text-align: right;\">\n      <th></th>\n      <th>name</th>\n      <th>category</th>\n      <th>main_category</th>\n      <th>currency</th>\n      <th>deadline</th>\n      <th>goal</th>\n      <th>launched</th>\n      <th>pledged</th>\n      <th>state</th>\n      <th>backers</th>\n      <th>country</th>\n      <th>usd pledged</th>\n      <th>usd_pledged_real</th>\n      <th>usd_goal_real</th>\n    </tr>\n    <tr>\n      <th>ID</th>\n      <th></th>\n      <th></th>\n      <th></th>\n      <th></th>\n      <th></th>\n      <th></th>\n      <th></th>\n      <th></th>\n      <th></th>\n      <th></th>\n      <th></th>\n      <th></th>\n      <th></th>\n      <th></th>\n    </tr>\n  </thead>\n  <tbody>\n    <tr>\n      <th>1000002330</th>\n      <td>The Songs of Adelaide &amp; Abullah</td>\n      <td>Poetry</td>\n      <td>Publishing</td>\n      <td>GBP</td>\n      <td>2015-10-09</td>\n      <td>1000.0</td>\n      <td>2015-08-11 12:12:28</td>\n      <td>0.0</td>\n      <td>failed</td>\n      <td>0</td>\n      <td>GB</td>\n      <td>0.0</td>\n      <td>0.0</td>\n      <td>1533.95</td>\n    </tr>\n    <tr>\n      <th>1000003930</th>\n      <td>Greeting From Earth: ZGAC Arts Capsule For ET</td>\n      <td>Narrative Film</td>\n      <td>Film &amp; Video</td>\n      <td>USD</td>\n      <td>2017-11-01</td>\n      <td>30000.0</td>\n      <td>2017-09-02 04:43:57</td>\n      <td>2421.0</td>\n      <td>failed</td>\n      <td>15</td>\n      <td>US</td>\n      <td>100.0</td>\n      <td>2421.0</td>\n      <td>30000.00</td>\n    </tr>\n    <tr>\n      <th>1000004038</th>\n      <td>Where is Hank?</td>\n      <td>Narrative Film</td>\n      <td>Film &amp; Video</td>\n      <td>USD</td>\n      <td>2013-02-26</td>\n      <td>45000.0</td>\n      <td>2013-01-12 00:20:50</td>\n      <td>220.0</td>\n      <td>failed</td>\n      <td>3</td>\n      <td>US</td>\n      <td>220.0</td>\n      <td>220.0</td>\n      <td>45000.00</td>\n    </tr>\n    <tr>\n      <th>1000007540</th>\n      <td>ToshiCapital Rekordz Needs Help to Complete Album</td>\n      <td>Music</td>\n      <td>Music</td>\n      <td>USD</td>\n      <td>2012-04-16</td>\n      <td>5000.0</td>\n      <td>2012-03-17 03:24:11</td>\n      <td>1.0</td>\n      <td>failed</td>\n      <td>1</td>\n      <td>US</td>\n      <td>1.0</td>\n      <td>1.0</td>\n      <td>5000.00</td>\n    </tr>\n    <tr>\n      <th>1000011046</th>\n      <td>Community Film Project: The Art of Neighborhoo...</td>\n      <td>Film &amp; Video</td>\n      <td>Film &amp; Video</td>\n      <td>USD</td>\n      <td>2015-08-29</td>\n      <td>19500.0</td>\n      <td>2015-07-04 08:35:03</td>\n      <td>1283.0</td>\n      <td>canceled</td>\n      <td>14</td>\n      <td>US</td>\n      <td>1283.0</td>\n      <td>1283.0</td>\n      <td>19500.00</td>\n    </tr>\n  </tbody>\n</table>\n</div>"
     },
     "metadata": {},
     "execution_count": 111
    }
   ],
   "source": [
    "import pandas as pd\n",
    "\n",
    "# we know that first column is a row ID, so we set index_col to 0.\n",
    "ksp = pd.read_csv(\"ks-projects-201801.csv\", index_col=0)\n",
    "# return data frame with our data\n",
    "ksp.head()"
   ]
  },
  {
   "source": [
    "We see our target column **state** in above data frame. This categorical attribute will be crucial for us while training prediction model and then testing that model.\n",
    "\n",
    "Let's see what values it has. We create bar plot here to visualize our target values and their counts."
   ],
   "cell_type": "markdown",
   "metadata": {}
  },
  {
   "cell_type": "code",
   "execution_count": 112,
   "metadata": {},
   "outputs": [
    {
     "output_type": "display_data",
     "data": {
      "text/plain": "<Figure size 432x288 with 1 Axes>",
      "image/svg+xml": "<?xml version=\"1.0\" encoding=\"utf-8\" standalone=\"no\"?>\n<!DOCTYPE svg PUBLIC \"-//W3C//DTD SVG 1.1//EN\"\n  \"http://www.w3.org/Graphics/SVG/1.1/DTD/svg11.dtd\">\n<svg height=\"248.518125pt\" version=\"1.1\" viewBox=\"0 0 394.375 248.518125\" width=\"394.375pt\" xmlns=\"http://www.w3.org/2000/svg\" xmlns:xlink=\"http://www.w3.org/1999/xlink\">\n <metadata>\n  <rdf:RDF xmlns:cc=\"http://creativecommons.org/ns#\" xmlns:dc=\"http://purl.org/dc/elements/1.1/\" xmlns:rdf=\"http://www.w3.org/1999/02/22-rdf-syntax-ns#\">\n   <cc:Work>\n    <dc:type rdf:resource=\"http://purl.org/dc/dcmitype/StillImage\"/>\n    <dc:date>2021-04-11T20:29:29.957371</dc:date>\n    <dc:format>image/svg+xml</dc:format>\n    <dc:creator>\n     <cc:Agent>\n      <dc:title>Matplotlib v3.4.0, https://matplotlib.org/</dc:title>\n     </cc:Agent>\n    </dc:creator>\n   </cc:Work>\n  </rdf:RDF>\n </metadata>\n <defs>\n  <style type=\"text/css\">*{stroke-linecap:butt;stroke-linejoin:round;}</style>\n </defs>\n <g id=\"figure_1\">\n  <g id=\"patch_1\">\n   <path d=\"M 0 248.518125 \nL 394.375 248.518125 \nL 394.375 0 \nL 0 0 \nz\n\" style=\"fill:none;\"/>\n  </g>\n  <g id=\"axes_1\">\n   <g id=\"patch_2\">\n    <path d=\"M 52.375 224.64 \nL 387.175 224.64 \nL 387.175 7.2 \nL 52.375 7.2 \nz\n\" style=\"fill:#ffffff;\"/>\n   </g>\n   <g id=\"patch_3\">\n    <path clip-path=\"url(#p450e6f9075)\" d=\"M 67.593182 224.64 \nL 109.574373 224.64 \nL 109.574373 17.554286 \nL 67.593182 17.554286 \nz\n\" style=\"fill:#1f77b4;\"/>\n   </g>\n   <g id=\"patch_4\">\n    <path clip-path=\"url(#p450e6f9075)\" d=\"M 120.069671 224.64 \nL 162.050862 224.64 \nL 162.050862 84.337986 \nL 120.069671 84.337986 \nz\n\" style=\"fill:#1f77b4;\"/>\n   </g>\n   <g id=\"patch_5\">\n    <path clip-path=\"url(#p450e6f9075)\" d=\"M 172.54616 224.64 \nL 214.527351 224.64 \nL 214.527351 184.023889 \nL 172.54616 184.023889 \nz\n\" style=\"fill:#1f77b4;\"/>\n   </g>\n   <g id=\"patch_6\">\n    <path clip-path=\"url(#p450e6f9075)\" d=\"M 225.022649 224.64 \nL 267.00384 224.64 \nL 267.00384 220.909254 \nL 225.022649 220.909254 \nz\n\" style=\"fill:#1f77b4;\"/>\n   </g>\n   <g id=\"patch_7\">\n    <path clip-path=\"url(#p450e6f9075)\" d=\"M 277.499138 224.64 \nL 319.480329 224.64 \nL 319.480329 221.708401 \nL 277.499138 221.708401 \nz\n\" style=\"fill:#1f77b4;\"/>\n   </g>\n   <g id=\"patch_8\">\n    <path clip-path=\"url(#p450e6f9075)\" d=\"M 329.975627 224.64 \nL 371.956818 224.64 \nL 371.956818 222.706548 \nL 329.975627 222.706548 \nz\n\" style=\"fill:#1f77b4;\"/>\n   </g>\n   <g id=\"matplotlib.axis_1\">\n    <g id=\"xtick_1\">\n     <g id=\"line2d_1\">\n      <defs>\n       <path d=\"M 0 0 \nL 0 3.5 \n\" id=\"m0adba883fb\" style=\"stroke:#000000;stroke-width:0.8;\"/>\n      </defs>\n      <g>\n       <use style=\"stroke:#000000;stroke-width:0.8;\" x=\"88.583777\" xlink:href=\"#m0adba883fb\" y=\"224.64\"/>\n      </g>\n     </g>\n     <g id=\"text_1\">\n      <!-- failed -->\n      <g transform=\"translate(74.730652 239.238438)scale(0.1 -0.1)\">\n       <defs>\n        <path d=\"M 2375 4863 \nL 2375 4384 \nL 1825 4384 \nQ 1516 4384 1395 4259 \nQ 1275 4134 1275 3809 \nL 1275 3500 \nL 2222 3500 \nL 2222 3053 \nL 1275 3053 \nL 1275 0 \nL 697 0 \nL 697 3053 \nL 147 3053 \nL 147 3500 \nL 697 3500 \nL 697 3744 \nQ 697 4328 969 4595 \nQ 1241 4863 1831 4863 \nL 2375 4863 \nz\n\" id=\"DejaVuSans-66\" transform=\"scale(0.015625)\"/>\n        <path d=\"M 2194 1759 \nQ 1497 1759 1228 1600 \nQ 959 1441 959 1056 \nQ 959 750 1161 570 \nQ 1363 391 1709 391 \nQ 2188 391 2477 730 \nQ 2766 1069 2766 1631 \nL 2766 1759 \nL 2194 1759 \nz\nM 3341 1997 \nL 3341 0 \nL 2766 0 \nL 2766 531 \nQ 2569 213 2275 61 \nQ 1981 -91 1556 -91 \nQ 1019 -91 701 211 \nQ 384 513 384 1019 \nQ 384 1609 779 1909 \nQ 1175 2209 1959 2209 \nL 2766 2209 \nL 2766 2266 \nQ 2766 2663 2505 2880 \nQ 2244 3097 1772 3097 \nQ 1472 3097 1187 3025 \nQ 903 2953 641 2809 \nL 641 3341 \nQ 956 3463 1253 3523 \nQ 1550 3584 1831 3584 \nQ 2591 3584 2966 3190 \nQ 3341 2797 3341 1997 \nz\n\" id=\"DejaVuSans-61\" transform=\"scale(0.015625)\"/>\n        <path d=\"M 603 3500 \nL 1178 3500 \nL 1178 0 \nL 603 0 \nL 603 3500 \nz\nM 603 4863 \nL 1178 4863 \nL 1178 4134 \nL 603 4134 \nL 603 4863 \nz\n\" id=\"DejaVuSans-69\" transform=\"scale(0.015625)\"/>\n        <path d=\"M 603 4863 \nL 1178 4863 \nL 1178 0 \nL 603 0 \nL 603 4863 \nz\n\" id=\"DejaVuSans-6c\" transform=\"scale(0.015625)\"/>\n        <path d=\"M 3597 1894 \nL 3597 1613 \nL 953 1613 \nQ 991 1019 1311 708 \nQ 1631 397 2203 397 \nQ 2534 397 2845 478 \nQ 3156 559 3463 722 \nL 3463 178 \nQ 3153 47 2828 -22 \nQ 2503 -91 2169 -91 \nQ 1331 -91 842 396 \nQ 353 884 353 1716 \nQ 353 2575 817 3079 \nQ 1281 3584 2069 3584 \nQ 2775 3584 3186 3129 \nQ 3597 2675 3597 1894 \nz\nM 3022 2063 \nQ 3016 2534 2758 2815 \nQ 2500 3097 2075 3097 \nQ 1594 3097 1305 2825 \nQ 1016 2553 972 2059 \nL 3022 2063 \nz\n\" id=\"DejaVuSans-65\" transform=\"scale(0.015625)\"/>\n        <path d=\"M 2906 2969 \nL 2906 4863 \nL 3481 4863 \nL 3481 0 \nL 2906 0 \nL 2906 525 \nQ 2725 213 2448 61 \nQ 2172 -91 1784 -91 \nQ 1150 -91 751 415 \nQ 353 922 353 1747 \nQ 353 2572 751 3078 \nQ 1150 3584 1784 3584 \nQ 2172 3584 2448 3432 \nQ 2725 3281 2906 2969 \nz\nM 947 1747 \nQ 947 1113 1208 752 \nQ 1469 391 1925 391 \nQ 2381 391 2643 752 \nQ 2906 1113 2906 1747 \nQ 2906 2381 2643 2742 \nQ 2381 3103 1925 3103 \nQ 1469 3103 1208 2742 \nQ 947 2381 947 1747 \nz\n\" id=\"DejaVuSans-64\" transform=\"scale(0.015625)\"/>\n       </defs>\n       <use xlink:href=\"#DejaVuSans-66\"/>\n       <use x=\"35.205078\" xlink:href=\"#DejaVuSans-61\"/>\n       <use x=\"96.484375\" xlink:href=\"#DejaVuSans-69\"/>\n       <use x=\"124.267578\" xlink:href=\"#DejaVuSans-6c\"/>\n       <use x=\"152.050781\" xlink:href=\"#DejaVuSans-65\"/>\n       <use x=\"213.574219\" xlink:href=\"#DejaVuSans-64\"/>\n      </g>\n     </g>\n    </g>\n    <g id=\"xtick_2\">\n     <g id=\"line2d_2\">\n      <g>\n       <use style=\"stroke:#000000;stroke-width:0.8;\" x=\"141.060266\" xlink:href=\"#m0adba883fb\" y=\"224.64\"/>\n      </g>\n     </g>\n     <g id=\"text_2\">\n      <!-- successful -->\n      <g transform=\"translate(115.184485 239.238438)scale(0.1 -0.1)\">\n       <defs>\n        <path d=\"M 2834 3397 \nL 2834 2853 \nQ 2591 2978 2328 3040 \nQ 2066 3103 1784 3103 \nQ 1356 3103 1142 2972 \nQ 928 2841 928 2578 \nQ 928 2378 1081 2264 \nQ 1234 2150 1697 2047 \nL 1894 2003 \nQ 2506 1872 2764 1633 \nQ 3022 1394 3022 966 \nQ 3022 478 2636 193 \nQ 2250 -91 1575 -91 \nQ 1294 -91 989 -36 \nQ 684 19 347 128 \nL 347 722 \nQ 666 556 975 473 \nQ 1284 391 1588 391 \nQ 1994 391 2212 530 \nQ 2431 669 2431 922 \nQ 2431 1156 2273 1281 \nQ 2116 1406 1581 1522 \nL 1381 1569 \nQ 847 1681 609 1914 \nQ 372 2147 372 2553 \nQ 372 3047 722 3315 \nQ 1072 3584 1716 3584 \nQ 2034 3584 2315 3537 \nQ 2597 3491 2834 3397 \nz\n\" id=\"DejaVuSans-73\" transform=\"scale(0.015625)\"/>\n        <path d=\"M 544 1381 \nL 544 3500 \nL 1119 3500 \nL 1119 1403 \nQ 1119 906 1312 657 \nQ 1506 409 1894 409 \nQ 2359 409 2629 706 \nQ 2900 1003 2900 1516 \nL 2900 3500 \nL 3475 3500 \nL 3475 0 \nL 2900 0 \nL 2900 538 \nQ 2691 219 2414 64 \nQ 2138 -91 1772 -91 \nQ 1169 -91 856 284 \nQ 544 659 544 1381 \nz\nM 1991 3584 \nL 1991 3584 \nz\n\" id=\"DejaVuSans-75\" transform=\"scale(0.015625)\"/>\n        <path d=\"M 3122 3366 \nL 3122 2828 \nQ 2878 2963 2633 3030 \nQ 2388 3097 2138 3097 \nQ 1578 3097 1268 2742 \nQ 959 2388 959 1747 \nQ 959 1106 1268 751 \nQ 1578 397 2138 397 \nQ 2388 397 2633 464 \nQ 2878 531 3122 666 \nL 3122 134 \nQ 2881 22 2623 -34 \nQ 2366 -91 2075 -91 \nQ 1284 -91 818 406 \nQ 353 903 353 1747 \nQ 353 2603 823 3093 \nQ 1294 3584 2113 3584 \nQ 2378 3584 2631 3529 \nQ 2884 3475 3122 3366 \nz\n\" id=\"DejaVuSans-63\" transform=\"scale(0.015625)\"/>\n       </defs>\n       <use xlink:href=\"#DejaVuSans-73\"/>\n       <use x=\"52.099609\" xlink:href=\"#DejaVuSans-75\"/>\n       <use x=\"115.478516\" xlink:href=\"#DejaVuSans-63\"/>\n       <use x=\"170.458984\" xlink:href=\"#DejaVuSans-63\"/>\n       <use x=\"225.439453\" xlink:href=\"#DejaVuSans-65\"/>\n       <use x=\"286.962891\" xlink:href=\"#DejaVuSans-73\"/>\n       <use x=\"339.0625\" xlink:href=\"#DejaVuSans-73\"/>\n       <use x=\"391.162109\" xlink:href=\"#DejaVuSans-66\"/>\n       <use x=\"426.367188\" xlink:href=\"#DejaVuSans-75\"/>\n       <use x=\"489.746094\" xlink:href=\"#DejaVuSans-6c\"/>\n      </g>\n     </g>\n    </g>\n    <g id=\"xtick_3\">\n     <g id=\"line2d_3\">\n      <g>\n       <use style=\"stroke:#000000;stroke-width:0.8;\" x=\"193.536755\" xlink:href=\"#m0adba883fb\" y=\"224.64\"/>\n      </g>\n     </g>\n     <g id=\"text_3\">\n      <!-- canceled -->\n      <g transform=\"translate(171.089099 239.238438)scale(0.1 -0.1)\">\n       <defs>\n        <path d=\"M 3513 2113 \nL 3513 0 \nL 2938 0 \nL 2938 2094 \nQ 2938 2591 2744 2837 \nQ 2550 3084 2163 3084 \nQ 1697 3084 1428 2787 \nQ 1159 2491 1159 1978 \nL 1159 0 \nL 581 0 \nL 581 3500 \nL 1159 3500 \nL 1159 2956 \nQ 1366 3272 1645 3428 \nQ 1925 3584 2291 3584 \nQ 2894 3584 3203 3211 \nQ 3513 2838 3513 2113 \nz\n\" id=\"DejaVuSans-6e\" transform=\"scale(0.015625)\"/>\n       </defs>\n       <use xlink:href=\"#DejaVuSans-63\"/>\n       <use x=\"54.980469\" xlink:href=\"#DejaVuSans-61\"/>\n       <use x=\"116.259766\" xlink:href=\"#DejaVuSans-6e\"/>\n       <use x=\"179.638672\" xlink:href=\"#DejaVuSans-63\"/>\n       <use x=\"234.619141\" xlink:href=\"#DejaVuSans-65\"/>\n       <use x=\"296.142578\" xlink:href=\"#DejaVuSans-6c\"/>\n       <use x=\"323.925781\" xlink:href=\"#DejaVuSans-65\"/>\n       <use x=\"385.449219\" xlink:href=\"#DejaVuSans-64\"/>\n      </g>\n     </g>\n    </g>\n    <g id=\"xtick_4\">\n     <g id=\"line2d_4\">\n      <g>\n       <use style=\"stroke:#000000;stroke-width:0.8;\" x=\"246.013245\" xlink:href=\"#m0adba883fb\" y=\"224.64\"/>\n      </g>\n     </g>\n     <g id=\"text_4\">\n      <!-- undefined -->\n      <g transform=\"translate(220.856213 239.238438)scale(0.1 -0.1)\">\n       <use xlink:href=\"#DejaVuSans-75\"/>\n       <use x=\"63.378906\" xlink:href=\"#DejaVuSans-6e\"/>\n       <use x=\"126.757812\" xlink:href=\"#DejaVuSans-64\"/>\n       <use x=\"190.234375\" xlink:href=\"#DejaVuSans-65\"/>\n       <use x=\"251.757812\" xlink:href=\"#DejaVuSans-66\"/>\n       <use x=\"286.962891\" xlink:href=\"#DejaVuSans-69\"/>\n       <use x=\"314.746094\" xlink:href=\"#DejaVuSans-6e\"/>\n       <use x=\"378.125\" xlink:href=\"#DejaVuSans-65\"/>\n       <use x=\"439.648438\" xlink:href=\"#DejaVuSans-64\"/>\n      </g>\n     </g>\n    </g>\n    <g id=\"xtick_5\">\n     <g id=\"line2d_5\">\n      <g>\n       <use style=\"stroke:#000000;stroke-width:0.8;\" x=\"298.489734\" xlink:href=\"#m0adba883fb\" y=\"224.64\"/>\n      </g>\n     </g>\n     <g id=\"text_5\">\n      <!-- live -->\n      <g transform=\"translate(289.675671 239.238438)scale(0.1 -0.1)\">\n       <defs>\n        <path d=\"M 191 3500 \nL 800 3500 \nL 1894 563 \nL 2988 3500 \nL 3597 3500 \nL 2284 0 \nL 1503 0 \nL 191 3500 \nz\n\" id=\"DejaVuSans-76\" transform=\"scale(0.015625)\"/>\n       </defs>\n       <use xlink:href=\"#DejaVuSans-6c\"/>\n       <use x=\"27.783203\" xlink:href=\"#DejaVuSans-69\"/>\n       <use x=\"55.566406\" xlink:href=\"#DejaVuSans-76\"/>\n       <use x=\"114.746094\" xlink:href=\"#DejaVuSans-65\"/>\n      </g>\n     </g>\n    </g>\n    <g id=\"xtick_6\">\n     <g id=\"line2d_6\">\n      <g>\n       <use style=\"stroke:#000000;stroke-width:0.8;\" x=\"350.966223\" xlink:href=\"#m0adba883fb\" y=\"224.64\"/>\n      </g>\n     </g>\n     <g id=\"text_6\">\n      <!-- suspended -->\n      <g transform=\"translate(323.743566 239.238438)scale(0.1 -0.1)\">\n       <defs>\n        <path d=\"M 1159 525 \nL 1159 -1331 \nL 581 -1331 \nL 581 3500 \nL 1159 3500 \nL 1159 2969 \nQ 1341 3281 1617 3432 \nQ 1894 3584 2278 3584 \nQ 2916 3584 3314 3078 \nQ 3713 2572 3713 1747 \nQ 3713 922 3314 415 \nQ 2916 -91 2278 -91 \nQ 1894 -91 1617 61 \nQ 1341 213 1159 525 \nz\nM 3116 1747 \nQ 3116 2381 2855 2742 \nQ 2594 3103 2138 3103 \nQ 1681 3103 1420 2742 \nQ 1159 2381 1159 1747 \nQ 1159 1113 1420 752 \nQ 1681 391 2138 391 \nQ 2594 391 2855 752 \nQ 3116 1113 3116 1747 \nz\n\" id=\"DejaVuSans-70\" transform=\"scale(0.015625)\"/>\n       </defs>\n       <use xlink:href=\"#DejaVuSans-73\"/>\n       <use x=\"52.099609\" xlink:href=\"#DejaVuSans-75\"/>\n       <use x=\"115.478516\" xlink:href=\"#DejaVuSans-73\"/>\n       <use x=\"167.578125\" xlink:href=\"#DejaVuSans-70\"/>\n       <use x=\"231.054688\" xlink:href=\"#DejaVuSans-65\"/>\n       <use x=\"292.578125\" xlink:href=\"#DejaVuSans-6e\"/>\n       <use x=\"355.957031\" xlink:href=\"#DejaVuSans-64\"/>\n       <use x=\"419.433594\" xlink:href=\"#DejaVuSans-65\"/>\n       <use x=\"480.957031\" xlink:href=\"#DejaVuSans-64\"/>\n      </g>\n     </g>\n    </g>\n   </g>\n   <g id=\"matplotlib.axis_2\">\n    <g id=\"ytick_1\">\n     <g id=\"line2d_7\">\n      <defs>\n       <path d=\"M 0 0 \nL -3.5 0 \n\" id=\"mc19e186512\" style=\"stroke:#000000;stroke-width:0.8;\"/>\n      </defs>\n      <g>\n       <use style=\"stroke:#000000;stroke-width:0.8;\" x=\"52.375\" xlink:href=\"#mc19e186512\" y=\"224.64\"/>\n      </g>\n     </g>\n     <g id=\"text_7\">\n      <!-- 0 -->\n      <g transform=\"translate(39.0125 228.439219)scale(0.1 -0.1)\">\n       <defs>\n        <path d=\"M 2034 4250 \nQ 1547 4250 1301 3770 \nQ 1056 3291 1056 2328 \nQ 1056 1369 1301 889 \nQ 1547 409 2034 409 \nQ 2525 409 2770 889 \nQ 3016 1369 3016 2328 \nQ 3016 3291 2770 3770 \nQ 2525 4250 2034 4250 \nz\nM 2034 4750 \nQ 2819 4750 3233 4129 \nQ 3647 3509 3647 2328 \nQ 3647 1150 3233 529 \nQ 2819 -91 2034 -91 \nQ 1250 -91 836 529 \nQ 422 1150 422 2328 \nQ 422 3509 836 4129 \nQ 1250 4750 2034 4750 \nz\n\" id=\"DejaVuSans-30\" transform=\"scale(0.015625)\"/>\n       </defs>\n       <use xlink:href=\"#DejaVuSans-30\"/>\n      </g>\n     </g>\n    </g>\n    <g id=\"ytick_2\">\n     <g id=\"line2d_8\">\n      <g>\n       <use style=\"stroke:#000000;stroke-width:0.8;\" x=\"52.375\" xlink:href=\"#mc19e186512\" y=\"198.455653\"/>\n      </g>\n     </g>\n     <g id=\"text_8\">\n      <!-- 25000 -->\n      <g transform=\"translate(13.5625 202.254872)scale(0.1 -0.1)\">\n       <defs>\n        <path d=\"M 1228 531 \nL 3431 531 \nL 3431 0 \nL 469 0 \nL 469 531 \nQ 828 903 1448 1529 \nQ 2069 2156 2228 2338 \nQ 2531 2678 2651 2914 \nQ 2772 3150 2772 3378 \nQ 2772 3750 2511 3984 \nQ 2250 4219 1831 4219 \nQ 1534 4219 1204 4116 \nQ 875 4013 500 3803 \nL 500 4441 \nQ 881 4594 1212 4672 \nQ 1544 4750 1819 4750 \nQ 2544 4750 2975 4387 \nQ 3406 4025 3406 3419 \nQ 3406 3131 3298 2873 \nQ 3191 2616 2906 2266 \nQ 2828 2175 2409 1742 \nQ 1991 1309 1228 531 \nz\n\" id=\"DejaVuSans-32\" transform=\"scale(0.015625)\"/>\n        <path d=\"M 691 4666 \nL 3169 4666 \nL 3169 4134 \nL 1269 4134 \nL 1269 2991 \nQ 1406 3038 1543 3061 \nQ 1681 3084 1819 3084 \nQ 2600 3084 3056 2656 \nQ 3513 2228 3513 1497 \nQ 3513 744 3044 326 \nQ 2575 -91 1722 -91 \nQ 1428 -91 1123 -41 \nQ 819 9 494 109 \nL 494 744 \nQ 775 591 1075 516 \nQ 1375 441 1709 441 \nQ 2250 441 2565 725 \nQ 2881 1009 2881 1497 \nQ 2881 1984 2565 2268 \nQ 2250 2553 1709 2553 \nQ 1456 2553 1204 2497 \nQ 953 2441 691 2322 \nL 691 4666 \nz\n\" id=\"DejaVuSans-35\" transform=\"scale(0.015625)\"/>\n       </defs>\n       <use xlink:href=\"#DejaVuSans-32\"/>\n       <use x=\"63.623047\" xlink:href=\"#DejaVuSans-35\"/>\n       <use x=\"127.246094\" xlink:href=\"#DejaVuSans-30\"/>\n       <use x=\"190.869141\" xlink:href=\"#DejaVuSans-30\"/>\n       <use x=\"254.492188\" xlink:href=\"#DejaVuSans-30\"/>\n      </g>\n     </g>\n    </g>\n    <g id=\"ytick_3\">\n     <g id=\"line2d_9\">\n      <g>\n       <use style=\"stroke:#000000;stroke-width:0.8;\" x=\"52.375\" xlink:href=\"#mc19e186512\" y=\"172.271306\"/>\n      </g>\n     </g>\n     <g id=\"text_9\">\n      <!-- 50000 -->\n      <g transform=\"translate(13.5625 176.070525)scale(0.1 -0.1)\">\n       <use xlink:href=\"#DejaVuSans-35\"/>\n       <use x=\"63.623047\" xlink:href=\"#DejaVuSans-30\"/>\n       <use x=\"127.246094\" xlink:href=\"#DejaVuSans-30\"/>\n       <use x=\"190.869141\" xlink:href=\"#DejaVuSans-30\"/>\n       <use x=\"254.492188\" xlink:href=\"#DejaVuSans-30\"/>\n      </g>\n     </g>\n    </g>\n    <g id=\"ytick_4\">\n     <g id=\"line2d_10\">\n      <g>\n       <use style=\"stroke:#000000;stroke-width:0.8;\" x=\"52.375\" xlink:href=\"#mc19e186512\" y=\"146.08696\"/>\n      </g>\n     </g>\n     <g id=\"text_10\">\n      <!-- 75000 -->\n      <g transform=\"translate(13.5625 149.886178)scale(0.1 -0.1)\">\n       <defs>\n        <path d=\"M 525 4666 \nL 3525 4666 \nL 3525 4397 \nL 1831 0 \nL 1172 0 \nL 2766 4134 \nL 525 4134 \nL 525 4666 \nz\n\" id=\"DejaVuSans-37\" transform=\"scale(0.015625)\"/>\n       </defs>\n       <use xlink:href=\"#DejaVuSans-37\"/>\n       <use x=\"63.623047\" xlink:href=\"#DejaVuSans-35\"/>\n       <use x=\"127.246094\" xlink:href=\"#DejaVuSans-30\"/>\n       <use x=\"190.869141\" xlink:href=\"#DejaVuSans-30\"/>\n       <use x=\"254.492188\" xlink:href=\"#DejaVuSans-30\"/>\n      </g>\n     </g>\n    </g>\n    <g id=\"ytick_5\">\n     <g id=\"line2d_11\">\n      <g>\n       <use style=\"stroke:#000000;stroke-width:0.8;\" x=\"52.375\" xlink:href=\"#mc19e186512\" y=\"119.902613\"/>\n      </g>\n     </g>\n     <g id=\"text_11\">\n      <!-- 100000 -->\n      <g transform=\"translate(7.2 123.701832)scale(0.1 -0.1)\">\n       <defs>\n        <path d=\"M 794 531 \nL 1825 531 \nL 1825 4091 \nL 703 3866 \nL 703 4441 \nL 1819 4666 \nL 2450 4666 \nL 2450 531 \nL 3481 531 \nL 3481 0 \nL 794 0 \nL 794 531 \nz\n\" id=\"DejaVuSans-31\" transform=\"scale(0.015625)\"/>\n       </defs>\n       <use xlink:href=\"#DejaVuSans-31\"/>\n       <use x=\"63.623047\" xlink:href=\"#DejaVuSans-30\"/>\n       <use x=\"127.246094\" xlink:href=\"#DejaVuSans-30\"/>\n       <use x=\"190.869141\" xlink:href=\"#DejaVuSans-30\"/>\n       <use x=\"254.492188\" xlink:href=\"#DejaVuSans-30\"/>\n       <use x=\"318.115234\" xlink:href=\"#DejaVuSans-30\"/>\n      </g>\n     </g>\n    </g>\n    <g id=\"ytick_6\">\n     <g id=\"line2d_12\">\n      <g>\n       <use style=\"stroke:#000000;stroke-width:0.8;\" x=\"52.375\" xlink:href=\"#mc19e186512\" y=\"93.718266\"/>\n      </g>\n     </g>\n     <g id=\"text_12\">\n      <!-- 125000 -->\n      <g transform=\"translate(7.2 97.517485)scale(0.1 -0.1)\">\n       <use xlink:href=\"#DejaVuSans-31\"/>\n       <use x=\"63.623047\" xlink:href=\"#DejaVuSans-32\"/>\n       <use x=\"127.246094\" xlink:href=\"#DejaVuSans-35\"/>\n       <use x=\"190.869141\" xlink:href=\"#DejaVuSans-30\"/>\n       <use x=\"254.492188\" xlink:href=\"#DejaVuSans-30\"/>\n       <use x=\"318.115234\" xlink:href=\"#DejaVuSans-30\"/>\n      </g>\n     </g>\n    </g>\n    <g id=\"ytick_7\">\n     <g id=\"line2d_13\">\n      <g>\n       <use style=\"stroke:#000000;stroke-width:0.8;\" x=\"52.375\" xlink:href=\"#mc19e186512\" y=\"67.533919\"/>\n      </g>\n     </g>\n     <g id=\"text_13\">\n      <!-- 150000 -->\n      <g transform=\"translate(7.2 71.333138)scale(0.1 -0.1)\">\n       <use xlink:href=\"#DejaVuSans-31\"/>\n       <use x=\"63.623047\" xlink:href=\"#DejaVuSans-35\"/>\n       <use x=\"127.246094\" xlink:href=\"#DejaVuSans-30\"/>\n       <use x=\"190.869141\" xlink:href=\"#DejaVuSans-30\"/>\n       <use x=\"254.492188\" xlink:href=\"#DejaVuSans-30\"/>\n       <use x=\"318.115234\" xlink:href=\"#DejaVuSans-30\"/>\n      </g>\n     </g>\n    </g>\n    <g id=\"ytick_8\">\n     <g id=\"line2d_14\">\n      <g>\n       <use style=\"stroke:#000000;stroke-width:0.8;\" x=\"52.375\" xlink:href=\"#mc19e186512\" y=\"41.349573\"/>\n      </g>\n     </g>\n     <g id=\"text_14\">\n      <!-- 175000 -->\n      <g transform=\"translate(7.2 45.148791)scale(0.1 -0.1)\">\n       <use xlink:href=\"#DejaVuSans-31\"/>\n       <use x=\"63.623047\" xlink:href=\"#DejaVuSans-37\"/>\n       <use x=\"127.246094\" xlink:href=\"#DejaVuSans-35\"/>\n       <use x=\"190.869141\" xlink:href=\"#DejaVuSans-30\"/>\n       <use x=\"254.492188\" xlink:href=\"#DejaVuSans-30\"/>\n       <use x=\"318.115234\" xlink:href=\"#DejaVuSans-30\"/>\n      </g>\n     </g>\n    </g>\n    <g id=\"ytick_9\">\n     <g id=\"line2d_15\">\n      <g>\n       <use style=\"stroke:#000000;stroke-width:0.8;\" x=\"52.375\" xlink:href=\"#mc19e186512\" y=\"15.165226\"/>\n      </g>\n     </g>\n     <g id=\"text_15\">\n      <!-- 200000 -->\n      <g transform=\"translate(7.2 18.964445)scale(0.1 -0.1)\">\n       <use xlink:href=\"#DejaVuSans-32\"/>\n       <use x=\"63.623047\" xlink:href=\"#DejaVuSans-30\"/>\n       <use x=\"127.246094\" xlink:href=\"#DejaVuSans-30\"/>\n       <use x=\"190.869141\" xlink:href=\"#DejaVuSans-30\"/>\n       <use x=\"254.492188\" xlink:href=\"#DejaVuSans-30\"/>\n       <use x=\"318.115234\" xlink:href=\"#DejaVuSans-30\"/>\n      </g>\n     </g>\n    </g>\n   </g>\n   <g id=\"patch_9\">\n    <path d=\"M 52.375 224.64 \nL 52.375 7.2 \n\" style=\"fill:none;stroke:#000000;stroke-linecap:square;stroke-linejoin:miter;stroke-width:0.8;\"/>\n   </g>\n   <g id=\"patch_10\">\n    <path d=\"M 387.175 224.64 \nL 387.175 7.2 \n\" style=\"fill:none;stroke:#000000;stroke-linecap:square;stroke-linejoin:miter;stroke-width:0.8;\"/>\n   </g>\n   <g id=\"patch_11\">\n    <path d=\"M 52.375 224.64 \nL 387.175 224.64 \n\" style=\"fill:none;stroke:#000000;stroke-linecap:square;stroke-linejoin:miter;stroke-width:0.8;\"/>\n   </g>\n   <g id=\"patch_12\">\n    <path d=\"M 52.375 7.2 \nL 387.175 7.2 \n\" style=\"fill:none;stroke:#000000;stroke-linecap:square;stroke-linejoin:miter;stroke-width:0.8;\"/>\n   </g>\n  </g>\n </g>\n <defs>\n  <clipPath id=\"p450e6f9075\">\n   <rect height=\"217.44\" width=\"334.8\" x=\"52.375\" y=\"7.2\"/>\n  </clipPath>\n </defs>\n</svg>\n",
      "image/png": "[encoded data removed]"
     },
     "metadata": {
      "needs_background": "light"
     }
    }
   ],
   "source": [
    "import matplotlib.pyplot as plt\n",
    "\n",
    "ksp_target_counts = ksp['state'].value_counts()\n",
    "plt.bar(ksp_target_counts.index, ksp_target_counts.values)\n",
    "plt.show()"
   ]
  },
  {
   "source": [
    "As we see in a bar plot above we have 6 target values here (categories).\n",
    "\n",
    "- failed - it has reached deadline, but pledge was not fullfilled\n",
    "- successful\n",
    "- canceled - canceled by a project owner, before deadline reach\n",
    "- undefined\n",
    "- live - project active in the time dataset was created\n",
    "- suspended - suspended due to Trust & Safety team uncovers evidence that it is in violation of Kickstarter's rules\n",
    "\n",
    "Now, we know for sure, that we should get rid of rows whose target value is **live**. We can then extract those rows and use them as a test data.\n",
    "\n",
    "It seems reasonable to transform **canceled** projects to **failed**, same with **suspended**.\n",
    "\n",
    "Then we will remove rows with **undefined** state, reasons will be shown below."
   ],
   "cell_type": "markdown",
   "metadata": {}
  },
  {
   "source": [
    "## Preprocessing"
   ],
   "cell_type": "markdown",
   "metadata": {}
  },
  {
   "source": [
    "1. We would like to have just two target values - **successful** and **failed**.\n",
    "2. We remove undefined rows.\n",
    "3. We derive new columns and remove redundant ones.\n",
    "4. We handle missing values (if present).\n",
    "5. Convert categorical columns from string values to numerical. Sklearn does not know how to work witch categorical properly.\n",
    "6. We extract rows with **live** state and save them to a variable. We will use them for testing in the end."
   ],
   "cell_type": "markdown",
   "metadata": {}
  },
  {
   "source": [
    "### Merge states"
   ],
   "cell_type": "markdown",
   "metadata": {}
  },
  {
   "source": [
    "Here, we set canceled and suspended projects as failed ones."
   ],
   "cell_type": "markdown",
   "metadata": {}
  },
  {
   "cell_type": "code",
   "execution_count": 113,
   "metadata": {},
   "outputs": [
    {
     "output_type": "stream",
     "name": "stdout",
     "text": [
      "Canceled and suspended projects successfully converted to failed projects.\nFailed projects sum:  238344\n"
     ]
    }
   ],
   "source": [
    "# create copy for preprocessing\n",
    "ksp_pre = ksp.copy()\n",
    "\n",
    "# get current sum of rows for each state\n",
    "canceled_proj_len = len(ksp_pre[ksp_pre['state'] == 'canceled']) \n",
    "suspended_proj_len = len(ksp_pre[ksp_pre['state'] == 'suspended'])\n",
    "failed_proj_len = len(ksp_pre[ksp_pre['state'] == 'failed'])\n",
    "\n",
    "# set failed state instead of canceled state\n",
    "ksp_pre.loc[ksp['state'] == 'canceled', ['state']] = 'failed'\n",
    "# set failed state instead of suspended state\n",
    "ksp_pre.loc[ksp['state'] == 'suspended', ['state']] = 'failed'\n",
    "\n",
    "assert len(ksp_pre[ksp_pre['state'] == 'canceled']) == 0, \"Canceled rows length should be 0\"\n",
    "assert len(ksp_pre[ksp_pre['state'] == 'suspended']) == 0, \"Suspended rows length should be 0\"\n",
    "assert len(ksp_pre[ksp_pre['state'] == 'failed']) == failed_proj_len + suspended_proj_len + canceled_proj_len\n",
    "print(\"Canceled and suspended projects successfully converted to failed projects.\")\n",
    "print(\"Failed projects sum: \", failed_proj_len + suspended_proj_len + canceled_proj_len)"
   ]
  },
  {
   "source": [
    "### Handle undefined rows"
   ],
   "cell_type": "markdown",
   "metadata": {}
  },
  {
   "cell_type": "code",
   "execution_count": 114,
   "metadata": {},
   "outputs": [],
   "source": [
    "# Print projects with undefined state\n",
    "ksp_pre[ksp_pre['state'] == 'undefined'].head()\n",
    "undefined_proj_counts = len(ksp_pre[ksp_pre['state'] == 'undefined'])"
   ]
  },
  {
   "source": [
    "All undefined data have null country values. We would like to use country column in our model."
   ],
   "cell_type": "markdown",
   "metadata": {}
  },
  {
   "cell_type": "code",
   "execution_count": 115,
   "metadata": {
    "tags": []
   },
   "outputs": [
    {
     "output_type": "execute_result",
     "data": {
      "text/plain": [
       "                                                         name      category  \\\n",
       "ID                                                                            \n",
       "1000694855                      STREETFIGHTERZ WHEELIE MURICA  Film & Video   \n",
       "100149523                         Duncan Woods - Chameleon EP         Music   \n",
       "1003023003          The Making of Ashley Kelley's Debut Album         Music   \n",
       "1003130892                       Butter Side Down Debut Album         Music   \n",
       "1003629045                            Chase Goehring debut EP         Music   \n",
       "...                                                       ...           ...   \n",
       "997971307   EQUUS International Film Festival®, all-equine...  Film & Video   \n",
       "998319149                             Emily 2050 - Short Film  Film & Video   \n",
       "9988744                                Matthew Stephens Music         Music   \n",
       "999610349      Lady Vendredi: Afrofuturist concept 12 inch EP         Music   \n",
       "999621278                      Jeune auteur a besoin de vous!    Publishing   \n",
       "\n",
       "           main_category currency    deadline    goal             launched  \\\n",
       "ID                                                                           \n",
       "1000694855  Film & Video      USD  2014-09-20  6500.0  2014-08-06 21:28:36   \n",
       "100149523          Music      AUD  2015-08-25  4500.0  2015-08-04 12:05:17   \n",
       "1003023003         Music      USD  2015-04-09  3500.0  2015-03-10 20:06:13   \n",
       "1003130892         Music      USD  2015-11-26  6000.0  2015-11-02 22:09:19   \n",
       "1003629045         Music      USD  2016-03-21  3000.0  2016-02-23 03:09:49   \n",
       "...                  ...      ...         ...     ...                  ...   \n",
       "997971307   Film & Video      USD  2015-02-03  7500.0  2014-12-05 04:19:14   \n",
       "998319149   Film & Video      CAD  2014-05-23  3000.0  2014-04-08 00:30:09   \n",
       "9988744            Music      USD  2016-02-05  5000.0  2016-01-06 21:59:23   \n",
       "999610349          Music      GBP  2015-10-19  2000.0  2015-09-21 22:33:18   \n",
       "999621278     Publishing      EUR  2015-11-20  1600.0  2015-10-21 21:28:13   \n",
       "\n",
       "            pledged      state  backers country  usd pledged  \\\n",
       "ID                                                             \n",
       "1000694855   555.00  undefined        0    N,0\"          NaN   \n",
       "100149523   4767.00  undefined        0    N,0\"          NaN   \n",
       "1003023003  3576.00  undefined        0    N,0\"          NaN   \n",
       "1003130892  7007.80  undefined        0    N,0\"          NaN   \n",
       "1003629045  3660.38  undefined        0    N,0\"          NaN   \n",
       "...             ...        ...      ...     ...          ...   \n",
       "997971307     10.00  undefined        0    N,0\"          NaN   \n",
       "998319149   3102.00  undefined        0    N,0\"          NaN   \n",
       "9988744      235.00  undefined        0    N,0\"          NaN   \n",
       "999610349   2125.00  undefined        0    N,0\"          NaN   \n",
       "999621278      0.00  undefined        0    N,0\"          NaN   \n",
       "\n",
       "            usd_pledged_real  usd_goal_real  \n",
       "ID                                           \n",
       "1000694855            555.00        6500.00  \n",
       "100149523            3402.08        3211.53  \n",
       "1003023003           3576.00        3500.00  \n",
       "1003130892           7007.80        6000.00  \n",
       "1003629045           3660.38        3000.00  \n",
       "...                      ...            ...  \n",
       "997971307              10.00        7500.00  \n",
       "998319149            2845.61        2752.04  \n",
       "9988744               235.00        5000.00  \n",
       "999610349            3273.36        3080.81  \n",
       "999621278               0.00        1710.08  \n",
       "\n",
       "[3797 rows x 14 columns]"
      ],
      "text/html": "<div>\n<style scoped>\n    .dataframe tbody tr th:only-of-type {\n        vertical-align: middle;\n    }\n\n    .dataframe tbody tr th {\n        vertical-align: top;\n    }\n\n    .dataframe thead th {\n        text-align: right;\n    }\n</style>\n<table border=\"1\" class=\"dataframe\">\n  <thead>\n    <tr style=\"text-align: right;\">\n      <th></th>\n      <th>name</th>\n      <th>category</th>\n      <th>main_category</th>\n      <th>currency</th>\n      <th>deadline</th>\n      <th>goal</th>\n      <th>launched</th>\n      <th>pledged</th>\n      <th>state</th>\n      <th>backers</th>\n      <th>country</th>\n      <th>usd pledged</th>\n      <th>usd_pledged_real</th>\n      <th>usd_goal_real</th>\n    </tr>\n    <tr>\n      <th>ID</th>\n      <th></th>\n      <th></th>\n      <th></th>\n      <th></th>\n      <th></th>\n      <th></th>\n      <th></th>\n      <th></th>\n      <th></th>\n      <th></th>\n      <th></th>\n      <th></th>\n      <th></th>\n      <th></th>\n    </tr>\n  </thead>\n  <tbody>\n    <tr>\n      <th>1000694855</th>\n      <td>STREETFIGHTERZ WHEELIE MURICA</td>\n      <td>Film &amp; Video</td>\n      <td>Film &amp; Video</td>\n      <td>USD</td>\n      <td>2014-09-20</td>\n      <td>6500.0</td>\n      <td>2014-08-06 21:28:36</td>\n      <td>555.00</td>\n      <td>undefined</td>\n      <td>0</td>\n      <td>N,0\"</td>\n      <td>NaN</td>\n      <td>555.00</td>\n      <td>6500.00</td>\n    </tr>\n    <tr>\n      <th>100149523</th>\n      <td>Duncan Woods - Chameleon EP</td>\n      <td>Music</td>\n      <td>Music</td>\n      <td>AUD</td>\n      <td>2015-08-25</td>\n      <td>4500.0</td>\n      <td>2015-08-04 12:05:17</td>\n      <td>4767.00</td>\n      <td>undefined</td>\n      <td>0</td>\n      <td>N,0\"</td>\n      <td>NaN</td>\n      <td>3402.08</td>\n      <td>3211.53</td>\n    </tr>\n    <tr>\n      <th>1003023003</th>\n      <td>The Making of Ashley Kelley's Debut Album</td>\n      <td>Music</td>\n      <td>Music</td>\n      <td>USD</td>\n      <td>2015-04-09</td>\n      <td>3500.0</td>\n      <td>2015-03-10 20:06:13</td>\n      <td>3576.00</td>\n      <td>undefined</td>\n      <td>0</td>\n      <td>N,0\"</td>\n      <td>NaN</td>\n      <td>3576.00</td>\n      <td>3500.00</td>\n    </tr>\n    <tr>\n      <th>1003130892</th>\n      <td>Butter Side Down Debut Album</td>\n      <td>Music</td>\n      <td>Music</td>\n      <td>USD</td>\n      <td>2015-11-26</td>\n      <td>6000.0</td>\n      <td>2015-11-02 22:09:19</td>\n      <td>7007.80</td>\n      <td>undefined</td>\n      <td>0</td>\n      <td>N,0\"</td>\n      <td>NaN</td>\n      <td>7007.80</td>\n      <td>6000.00</td>\n    </tr>\n    <tr>\n      <th>1003629045</th>\n      <td>Chase Goehring debut EP</td>\n      <td>Music</td>\n      <td>Music</td>\n      <td>USD</td>\n      <td>2016-03-21</td>\n      <td>3000.0</td>\n      <td>2016-02-23 03:09:49</td>\n      <td>3660.38</td>\n      <td>undefined</td>\n      <td>0</td>\n      <td>N,0\"</td>\n      <td>NaN</td>\n      <td>3660.38</td>\n      <td>3000.00</td>\n    </tr>\n    <tr>\n      <th>...</th>\n      <td>...</td>\n      <td>...</td>\n      <td>...</td>\n      <td>...</td>\n      <td>...</td>\n      <td>...</td>\n      <td>...</td>\n      <td>...</td>\n      <td>...</td>\n      <td>...</td>\n      <td>...</td>\n      <td>...</td>\n      <td>...</td>\n      <td>...</td>\n    </tr>\n    <tr>\n      <th>997971307</th>\n      <td>EQUUS International Film Festival®, all-equine...</td>\n      <td>Film &amp; Video</td>\n      <td>Film &amp; Video</td>\n      <td>USD</td>\n      <td>2015-02-03</td>\n      <td>7500.0</td>\n      <td>2014-12-05 04:19:14</td>\n      <td>10.00</td>\n      <td>undefined</td>\n      <td>0</td>\n      <td>N,0\"</td>\n      <td>NaN</td>\n      <td>10.00</td>\n      <td>7500.00</td>\n    </tr>\n    <tr>\n      <th>998319149</th>\n      <td>Emily 2050 - Short Film</td>\n      <td>Film &amp; Video</td>\n      <td>Film &amp; Video</td>\n      <td>CAD</td>\n      <td>2014-05-23</td>\n      <td>3000.0</td>\n      <td>2014-04-08 00:30:09</td>\n      <td>3102.00</td>\n      <td>undefined</td>\n      <td>0</td>\n      <td>N,0\"</td>\n      <td>NaN</td>\n      <td>2845.61</td>\n      <td>2752.04</td>\n    </tr>\n    <tr>\n      <th>9988744</th>\n      <td>Matthew Stephens Music</td>\n      <td>Music</td>\n      <td>Music</td>\n      <td>USD</td>\n      <td>2016-02-05</td>\n      <td>5000.0</td>\n      <td>2016-01-06 21:59:23</td>\n      <td>235.00</td>\n      <td>undefined</td>\n      <td>0</td>\n      <td>N,0\"</td>\n      <td>NaN</td>\n      <td>235.00</td>\n      <td>5000.00</td>\n    </tr>\n    <tr>\n      <th>999610349</th>\n      <td>Lady Vendredi: Afrofuturist concept 12 inch EP</td>\n      <td>Music</td>\n      <td>Music</td>\n      <td>GBP</td>\n      <td>2015-10-19</td>\n      <td>2000.0</td>\n      <td>2015-09-21 22:33:18</td>\n      <td>2125.00</td>\n      <td>undefined</td>\n      <td>0</td>\n      <td>N,0\"</td>\n      <td>NaN</td>\n      <td>3273.36</td>\n      <td>3080.81</td>\n    </tr>\n    <tr>\n      <th>999621278</th>\n      <td>Jeune auteur a besoin de vous!</td>\n      <td>Publishing</td>\n      <td>Publishing</td>\n      <td>EUR</td>\n      <td>2015-11-20</td>\n      <td>1600.0</td>\n      <td>2015-10-21 21:28:13</td>\n      <td>0.00</td>\n      <td>undefined</td>\n      <td>0</td>\n      <td>N,0\"</td>\n      <td>NaN</td>\n      <td>0.00</td>\n      <td>1710.08</td>\n    </tr>\n  </tbody>\n</table>\n<p>3797 rows × 14 columns</p>\n</div>"
     },
     "metadata": {},
     "execution_count": 115
    }
   ],
   "source": [
    "ksp_pre[ksp_pre['country'] == 'N,0\"']"
   ]
  },
  {
   "source": [
    "We cannot properly set countries of undefined rows, because \n",
    "\n",
    "1. Not always currency is corresponding to a country (for example project here https://www.kickstarter.com/projects/1939925037/duncan-woods-chameleon-ep has AUD currency but project is from Germany).\n",
    "2. We cannot set countries derived from currencies always right, using some general method.\n",
    "\n",
    "That's why we decided to remove rows with undefined state. There is not many of those, so it won't be a significant loss.\n"
   ],
   "cell_type": "markdown",
   "metadata": {}
  },
  {
   "cell_type": "code",
   "execution_count": 116,
   "metadata": {},
   "outputs": [
    {
     "output_type": "stream",
     "name": "stdout",
     "text": [
      "✅ Data with undefined country or state (or both) are dropped.\n"
     ]
    }
   ],
   "source": [
    "ksp_pre.drop(ksp_pre[(ksp_pre['country'] == 'N,0\"') | (ksp_pre['state'] == 'undefined')].index, inplace=True)\n",
    "assert len(ksp_pre[ksp_pre['country'] == 'N,0\"']) == 0, \"Data with undefined country should be dropped.\"\n",
    "assert len(ksp_pre[ksp_pre['state'] == 'undefined']) == 0, \"Data with undefined state should be dropped.\"\n",
    "print(\"✅ Data with undefined country or state (or both) are dropped.\")"
   ]
  },
  {
   "source": [
    "### Remove, derive columns"
   ],
   "cell_type": "markdown",
   "metadata": {}
  },
  {
   "source": [
    "We have here multiple columns, which does not have any meaning for our model or even could have negative effect on our model.\n",
    "\n",
    "- `name` - A lot of distinct values (could be even unique), not categorical, not numerical.\n",
    "- `backers` and `pledged` - If one of them is 0, then the other one too. It shows end-state of a project, but in the beginning it always equals to 0. So all new data, that we have to predict will be predicted as Failed.\n",
    "\n",
    "Column `launched` gives us information about a project beginning datetime on the Kickstarter. It's 99.9% probability that it would be an unique value, because it has even seconds. Also, it gives us nothing for our prediction model.\n",
    "\n",
    "**BUT We can use `launched` values in the other way.** We have available **deadline** date too. We will derive a new column called **duration**, where we pass the difference between launched and deadline dates. The difference will be presented in days. Thus, duration represents how many days a project was/will be active on the Kickstarter.\n",
    "\n",
    "Next, we see some duplicated columns.\n",
    "- `usd_goal_real` -> `goal` converted to $\n",
    "- `usd_pledged_real` -> `pledged` converted to $ by Fixer.io API\n",
    "- `usd_pledged` -> `pledged` converted to $ by the kickstarter\n",
    "\n",
    "We mentioned above that pledged value is useless for us, so duplicate columns like usd_pledged_real and usd_pledged too. We can remove them.\n",
    "\n",
    "At this point currency column does not make sense for us anymore, because we have all project's goals converted to USD. Country column will do the job for categorization.\n",
    "\n",
    "Now, we remove mentioned columns."
   ],
   "cell_type": "markdown",
   "metadata": {}
  },
  {
   "cell_type": "code",
   "execution_count": 117,
   "metadata": {},
   "outputs": [
    {
     "output_type": "execute_result",
     "data": {
      "text/plain": [
       "                  category main_category    deadline             launched  \\\n",
       "ID                                                                          \n",
       "1000002330          Poetry    Publishing  2015-10-09  2015-08-11 12:12:28   \n",
       "1000003930  Narrative Film  Film & Video  2017-11-01  2017-09-02 04:43:57   \n",
       "1000004038  Narrative Film  Film & Video  2013-02-26  2013-01-12 00:20:50   \n",
       "1000007540           Music         Music  2012-04-16  2012-03-17 03:24:11   \n",
       "1000011046    Film & Video  Film & Video  2015-08-29  2015-07-04 08:35:03   \n",
       "\n",
       "             state country  usd_goal_real  \n",
       "ID                                         \n",
       "1000002330  failed      GB        1533.95  \n",
       "1000003930  failed      US       30000.00  \n",
       "1000004038  failed      US       45000.00  \n",
       "1000007540  failed      US        5000.00  \n",
       "1000011046  failed      US       19500.00  "
      ],
      "text/html": "<div>\n<style scoped>\n    .dataframe tbody tr th:only-of-type {\n        vertical-align: middle;\n    }\n\n    .dataframe tbody tr th {\n        vertical-align: top;\n    }\n\n    .dataframe thead th {\n        text-align: right;\n    }\n</style>\n<table border=\"1\" class=\"dataframe\">\n  <thead>\n    <tr style=\"text-align: right;\">\n      <th></th>\n      <th>category</th>\n      <th>main_category</th>\n      <th>deadline</th>\n      <th>launched</th>\n      <th>state</th>\n      <th>country</th>\n      <th>usd_goal_real</th>\n    </tr>\n    <tr>\n      <th>ID</th>\n      <th></th>\n      <th></th>\n      <th></th>\n      <th></th>\n      <th></th>\n      <th></th>\n      <th></th>\n    </tr>\n  </thead>\n  <tbody>\n    <tr>\n      <th>1000002330</th>\n      <td>Poetry</td>\n      <td>Publishing</td>\n      <td>2015-10-09</td>\n      <td>2015-08-11 12:12:28</td>\n      <td>failed</td>\n      <td>GB</td>\n      <td>1533.95</td>\n    </tr>\n    <tr>\n      <th>1000003930</th>\n      <td>Narrative Film</td>\n      <td>Film &amp; Video</td>\n      <td>2017-11-01</td>\n      <td>2017-09-02 04:43:57</td>\n      <td>failed</td>\n      <td>US</td>\n      <td>30000.00</td>\n    </tr>\n    <tr>\n      <th>1000004038</th>\n      <td>Narrative Film</td>\n      <td>Film &amp; Video</td>\n      <td>2013-02-26</td>\n      <td>2013-01-12 00:20:50</td>\n      <td>failed</td>\n      <td>US</td>\n      <td>45000.00</td>\n    </tr>\n    <tr>\n      <th>1000007540</th>\n      <td>Music</td>\n      <td>Music</td>\n      <td>2012-04-16</td>\n      <td>2012-03-17 03:24:11</td>\n      <td>failed</td>\n      <td>US</td>\n      <td>5000.00</td>\n    </tr>\n    <tr>\n      <th>1000011046</th>\n      <td>Film &amp; Video</td>\n      <td>Film &amp; Video</td>\n      <td>2015-08-29</td>\n      <td>2015-07-04 08:35:03</td>\n      <td>failed</td>\n      <td>US</td>\n      <td>19500.00</td>\n    </tr>\n  </tbody>\n</table>\n</div>"
     },
     "metadata": {},
     "execution_count": 117
    }
   ],
   "source": [
    "\n",
    "ksp_pre = ksp_pre.drop(['name', 'currency', 'goal', 'pledged', 'usd pledged', 'usd_pledged_real', 'backers'], axis=1)\n",
    "\n",
    "ksp_pre.head()"
   ]
  },
  {
   "source": [
    "At this point we can derive **duration** column and remove `launched` and `deadline` columns."
   ],
   "cell_type": "markdown",
   "metadata": {}
  },
  {
   "cell_type": "code",
   "execution_count": 118,
   "metadata": {
    "tags": []
   },
   "outputs": [
    {
     "output_type": "execute_result",
     "data": {
      "text/plain": [
       "                  category main_category    deadline             launched  \\\n",
       "ID                                                                          \n",
       "1000002330          Poetry    Publishing  2015-10-09  2015-08-11 12:12:28   \n",
       "1000003930  Narrative Film  Film & Video  2017-11-01  2017-09-02 04:43:57   \n",
       "1000004038  Narrative Film  Film & Video  2013-02-26  2013-01-12 00:20:50   \n",
       "1000007540           Music         Music  2012-04-16  2012-03-17 03:24:11   \n",
       "1000011046    Film & Video  Film & Video  2015-08-29  2015-07-04 08:35:03   \n",
       "\n",
       "             state country  usd_goal_real  duration  \n",
       "ID                                                   \n",
       "1000002330  failed      GB        1533.95        58  \n",
       "1000003930  failed      US       30000.00        59  \n",
       "1000004038  failed      US       45000.00        44  \n",
       "1000007540  failed      US        5000.00        29  \n",
       "1000011046  failed      US       19500.00        55  "
      ],
      "text/html": "<div>\n<style scoped>\n    .dataframe tbody tr th:only-of-type {\n        vertical-align: middle;\n    }\n\n    .dataframe tbody tr th {\n        vertical-align: top;\n    }\n\n    .dataframe thead th {\n        text-align: right;\n    }\n</style>\n<table border=\"1\" class=\"dataframe\">\n  <thead>\n    <tr style=\"text-align: right;\">\n      <th></th>\n      <th>category</th>\n      <th>main_category</th>\n      <th>deadline</th>\n      <th>launched</th>\n      <th>state</th>\n      <th>country</th>\n      <th>usd_goal_real</th>\n      <th>duration</th>\n    </tr>\n    <tr>\n      <th>ID</th>\n      <th></th>\n      <th></th>\n      <th></th>\n      <th></th>\n      <th></th>\n      <th></th>\n      <th></th>\n      <th></th>\n    </tr>\n  </thead>\n  <tbody>\n    <tr>\n      <th>1000002330</th>\n      <td>Poetry</td>\n      <td>Publishing</td>\n      <td>2015-10-09</td>\n      <td>2015-08-11 12:12:28</td>\n      <td>failed</td>\n      <td>GB</td>\n      <td>1533.95</td>\n      <td>58</td>\n    </tr>\n    <tr>\n      <th>1000003930</th>\n      <td>Narrative Film</td>\n      <td>Film &amp; Video</td>\n      <td>2017-11-01</td>\n      <td>2017-09-02 04:43:57</td>\n      <td>failed</td>\n      <td>US</td>\n      <td>30000.00</td>\n      <td>59</td>\n    </tr>\n    <tr>\n      <th>1000004038</th>\n      <td>Narrative Film</td>\n      <td>Film &amp; Video</td>\n      <td>2013-02-26</td>\n      <td>2013-01-12 00:20:50</td>\n      <td>failed</td>\n      <td>US</td>\n      <td>45000.00</td>\n      <td>44</td>\n    </tr>\n    <tr>\n      <th>1000007540</th>\n      <td>Music</td>\n      <td>Music</td>\n      <td>2012-04-16</td>\n      <td>2012-03-17 03:24:11</td>\n      <td>failed</td>\n      <td>US</td>\n      <td>5000.00</td>\n      <td>29</td>\n    </tr>\n    <tr>\n      <th>1000011046</th>\n      <td>Film &amp; Video</td>\n      <td>Film &amp; Video</td>\n      <td>2015-08-29</td>\n      <td>2015-07-04 08:35:03</td>\n      <td>failed</td>\n      <td>US</td>\n      <td>19500.00</td>\n      <td>55</td>\n    </tr>\n  </tbody>\n</table>\n</div>"
     },
     "metadata": {},
     "execution_count": 118
    }
   ],
   "source": [
    "from datetime import datetime\n",
    "\n",
    "# get datetime strings, convert them to datetime objects and return duration in days between two days\n",
    "def parse_and_get_duration_in_days(from_date_str, to_date_str):\n",
    "    from_date = datetime.strptime(from_date_str, '%Y-%m-%d %H:%M:%S')\n",
    "    to_date = datetime.strptime(to_date_str, '%Y-%m-%d')\n",
    "    duration = to_date - from_date\n",
    "    return duration.days\n",
    "\n",
    "# create new column duration and use function above to apply duration value derived from launched and deadline columns\n",
    "ksp_pre['duration'] = ksp_pre.apply(lambda x: parse_and_get_duration_in_days(x['launched'], x['deadline']), axis=1)\n",
    "\n",
    "ksp_pre.head()"
   ]
  },
  {
   "source": [
    "In the table above we see new `duration` column.\n",
    "\n",
    "We should handle durations which are less then 24 hours. We round the number up to 1 day (e.g. from 0 to 1). "
   ],
   "cell_type": "markdown",
   "metadata": {}
  },
  {
   "cell_type": "code",
   "execution_count": 119,
   "metadata": {},
   "outputs": [
    {
     "output_type": "execute_result",
     "data": {
      "text/plain": [
       "                   category main_category    deadline             launched  \\\n",
       "ID                                                                           \n",
       "1004457833      Video Games         Games  2015-06-11  2015-06-10 19:03:39   \n",
       "1004692921  Classical Music         Music  2016-02-19  2016-02-18 04:29:22   \n",
       "1052555922         Software    Technology  2017-03-05  2017-03-04 01:25:03   \n",
       "1062718053     Film & Video  Film & Video  2016-06-15  2016-06-14 02:24:00   \n",
       "1103482181              Art           Art  2016-04-02  2016-04-01 08:38:27   \n",
       "...                     ...           ...         ...                  ...   \n",
       "947786339            Poetry    Publishing  2014-03-02  2014-03-01 13:20:34   \n",
       "959890458       Digital Art           Art  2016-08-02  2016-08-01 21:44:53   \n",
       "967507244    Tabletop Games         Games  2017-08-06  2017-08-05 18:05:40   \n",
       "983988118        Publishing    Publishing  2016-02-28  2016-02-27 04:40:59   \n",
       "993249553               Art           Art  2017-12-15  2017-12-14 09:01:39   \n",
       "\n",
       "                 state country  usd_goal_real  duration  \n",
       "ID                                                       \n",
       "1004457833      failed      GB        7743.29         0  \n",
       "1004692921      failed      US         500.00         0  \n",
       "1052555922      failed      US    10000000.00         0  \n",
       "1062718053  successful      GB         185.73         0  \n",
       "1103482181      failed      US        8888.00         0  \n",
       "...                ...     ...            ...       ...  \n",
       "947786339   successful      GB           8.39         0  \n",
       "959890458   successful      SG           3.73         0  \n",
       "967507244       failed      FR          81.18         0  \n",
       "983988118   successful      US         250.00         0  \n",
       "993249553   successful      US        1000.00         0  \n",
       "\n",
       "[102 rows x 8 columns]"
      ],
      "text/html": "<div>\n<style scoped>\n    .dataframe tbody tr th:only-of-type {\n        vertical-align: middle;\n    }\n\n    .dataframe tbody tr th {\n        vertical-align: top;\n    }\n\n    .dataframe thead th {\n        text-align: right;\n    }\n</style>\n<table border=\"1\" class=\"dataframe\">\n  <thead>\n    <tr style=\"text-align: right;\">\n      <th></th>\n      <th>category</th>\n      <th>main_category</th>\n      <th>deadline</th>\n      <th>launched</th>\n      <th>state</th>\n      <th>country</th>\n      <th>usd_goal_real</th>\n      <th>duration</th>\n    </tr>\n    <tr>\n      <th>ID</th>\n      <th></th>\n      <th></th>\n      <th></th>\n      <th></th>\n      <th></th>\n      <th></th>\n      <th></th>\n      <th></th>\n    </tr>\n  </thead>\n  <tbody>\n    <tr>\n      <th>1004457833</th>\n      <td>Video Games</td>\n      <td>Games</td>\n      <td>2015-06-11</td>\n      <td>2015-06-10 19:03:39</td>\n      <td>failed</td>\n      <td>GB</td>\n      <td>7743.29</td>\n      <td>0</td>\n    </tr>\n    <tr>\n      <th>1004692921</th>\n      <td>Classical Music</td>\n      <td>Music</td>\n      <td>2016-02-19</td>\n      <td>2016-02-18 04:29:22</td>\n      <td>failed</td>\n      <td>US</td>\n      <td>500.00</td>\n      <td>0</td>\n    </tr>\n    <tr>\n      <th>1052555922</th>\n      <td>Software</td>\n      <td>Technology</td>\n      <td>2017-03-05</td>\n      <td>2017-03-04 01:25:03</td>\n      <td>failed</td>\n      <td>US</td>\n      <td>10000000.00</td>\n      <td>0</td>\n    </tr>\n    <tr>\n      <th>1062718053</th>\n      <td>Film &amp; Video</td>\n      <td>Film &amp; Video</td>\n      <td>2016-06-15</td>\n      <td>2016-06-14 02:24:00</td>\n      <td>successful</td>\n      <td>GB</td>\n      <td>185.73</td>\n      <td>0</td>\n    </tr>\n    <tr>\n      <th>1103482181</th>\n      <td>Art</td>\n      <td>Art</td>\n      <td>2016-04-02</td>\n      <td>2016-04-01 08:38:27</td>\n      <td>failed</td>\n      <td>US</td>\n      <td>8888.00</td>\n      <td>0</td>\n    </tr>\n    <tr>\n      <th>...</th>\n      <td>...</td>\n      <td>...</td>\n      <td>...</td>\n      <td>...</td>\n      <td>...</td>\n      <td>...</td>\n      <td>...</td>\n      <td>...</td>\n    </tr>\n    <tr>\n      <th>947786339</th>\n      <td>Poetry</td>\n      <td>Publishing</td>\n      <td>2014-03-02</td>\n      <td>2014-03-01 13:20:34</td>\n      <td>successful</td>\n      <td>GB</td>\n      <td>8.39</td>\n      <td>0</td>\n    </tr>\n    <tr>\n      <th>959890458</th>\n      <td>Digital Art</td>\n      <td>Art</td>\n      <td>2016-08-02</td>\n      <td>2016-08-01 21:44:53</td>\n      <td>successful</td>\n      <td>SG</td>\n      <td>3.73</td>\n      <td>0</td>\n    </tr>\n    <tr>\n      <th>967507244</th>\n      <td>Tabletop Games</td>\n      <td>Games</td>\n      <td>2017-08-06</td>\n      <td>2017-08-05 18:05:40</td>\n      <td>failed</td>\n      <td>FR</td>\n      <td>81.18</td>\n      <td>0</td>\n    </tr>\n    <tr>\n      <th>983988118</th>\n      <td>Publishing</td>\n      <td>Publishing</td>\n      <td>2016-02-28</td>\n      <td>2016-02-27 04:40:59</td>\n      <td>successful</td>\n      <td>US</td>\n      <td>250.00</td>\n      <td>0</td>\n    </tr>\n    <tr>\n      <th>993249553</th>\n      <td>Art</td>\n      <td>Art</td>\n      <td>2017-12-15</td>\n      <td>2017-12-14 09:01:39</td>\n      <td>successful</td>\n      <td>US</td>\n      <td>1000.00</td>\n      <td>0</td>\n    </tr>\n  </tbody>\n</table>\n<p>102 rows × 8 columns</p>\n</div>"
     },
     "metadata": {},
     "execution_count": 119
    }
   ],
   "source": [
    "duration_zero_df = ksp_pre[ksp_pre['duration'] == 0]\n",
    "duration_zero_len = len(duration_zero_df)\n",
    "duration_zero_df"
   ]
  },
  {
   "cell_type": "code",
   "execution_count": 120,
   "metadata": {},
   "outputs": [
    {
     "output_type": "execute_result",
     "data": {
      "text/plain": [
       "                   category main_category    deadline             launched  \\\n",
       "ID                                                                           \n",
       "1032840025            Drama  Film & Video  2015-05-07  2015-05-05 16:32:26   \n",
       "1046567430            Games         Games  2015-01-28  2015-01-26 16:40:02   \n",
       "1048845117   Tabletop Games         Games  2017-12-24  2017-12-22 21:25:33   \n",
       "1051336871      Young Adult    Publishing  2015-04-03  2015-04-01 19:38:46   \n",
       "1083441801      Documentary  Film & Video  2015-07-07  2015-07-05 21:53:50   \n",
       "...                     ...           ...         ...                  ...   \n",
       "944352331        Publishing    Publishing  2015-01-15  2015-01-13 05:34:28   \n",
       "972092973   Performance Art           Art  2013-04-20  2013-04-18 08:07:02   \n",
       "98041241        Periodicals    Publishing  2013-11-21  2013-11-19 21:00:09   \n",
       "989951025            Design        Design  2012-12-23  2012-12-21 18:00:02   \n",
       "991442765               Pop         Music  2015-03-01  2015-02-27 22:43:06   \n",
       "\n",
       "                 state country  usd_goal_real  duration  \n",
       "ID                                                       \n",
       "1032840025      failed      GB        2312.03         1  \n",
       "1046567430      failed      US         500.00         1  \n",
       "1048845117  successful      US         250.00         1  \n",
       "1051336871      failed      US      100000.00         1  \n",
       "1083441801      failed      US        1500.00         1  \n",
       "...                ...     ...            ...       ...  \n",
       "944352331   successful      CA         415.45         1  \n",
       "972092973       failed      US         500.00         1  \n",
       "98041241    successful      US        1000.00         1  \n",
       "989951025   successful      US          13.00         1  \n",
       "991442765       failed      US         500.00         1  \n",
       "\n",
       "[150 rows x 8 columns]"
      ],
      "text/html": "<div>\n<style scoped>\n    .dataframe tbody tr th:only-of-type {\n        vertical-align: middle;\n    }\n\n    .dataframe tbody tr th {\n        vertical-align: top;\n    }\n\n    .dataframe thead th {\n        text-align: right;\n    }\n</style>\n<table border=\"1\" class=\"dataframe\">\n  <thead>\n    <tr style=\"text-align: right;\">\n      <th></th>\n      <th>category</th>\n      <th>main_category</th>\n      <th>deadline</th>\n      <th>launched</th>\n      <th>state</th>\n      <th>country</th>\n      <th>usd_goal_real</th>\n      <th>duration</th>\n    </tr>\n    <tr>\n      <th>ID</th>\n      <th></th>\n      <th></th>\n      <th></th>\n      <th></th>\n      <th></th>\n      <th></th>\n      <th></th>\n      <th></th>\n    </tr>\n  </thead>\n  <tbody>\n    <tr>\n      <th>1032840025</th>\n      <td>Drama</td>\n      <td>Film &amp; Video</td>\n      <td>2015-05-07</td>\n      <td>2015-05-05 16:32:26</td>\n      <td>failed</td>\n      <td>GB</td>\n      <td>2312.03</td>\n      <td>1</td>\n    </tr>\n    <tr>\n      <th>1046567430</th>\n      <td>Games</td>\n      <td>Games</td>\n      <td>2015-01-28</td>\n      <td>2015-01-26 16:40:02</td>\n      <td>failed</td>\n      <td>US</td>\n      <td>500.00</td>\n      <td>1</td>\n    </tr>\n    <tr>\n      <th>1048845117</th>\n      <td>Tabletop Games</td>\n      <td>Games</td>\n      <td>2017-12-24</td>\n      <td>2017-12-22 21:25:33</td>\n      <td>successful</td>\n      <td>US</td>\n      <td>250.00</td>\n      <td>1</td>\n    </tr>\n    <tr>\n      <th>1051336871</th>\n      <td>Young Adult</td>\n      <td>Publishing</td>\n      <td>2015-04-03</td>\n      <td>2015-04-01 19:38:46</td>\n      <td>failed</td>\n      <td>US</td>\n      <td>100000.00</td>\n      <td>1</td>\n    </tr>\n    <tr>\n      <th>1083441801</th>\n      <td>Documentary</td>\n      <td>Film &amp; Video</td>\n      <td>2015-07-07</td>\n      <td>2015-07-05 21:53:50</td>\n      <td>failed</td>\n      <td>US</td>\n      <td>1500.00</td>\n      <td>1</td>\n    </tr>\n    <tr>\n      <th>...</th>\n      <td>...</td>\n      <td>...</td>\n      <td>...</td>\n      <td>...</td>\n      <td>...</td>\n      <td>...</td>\n      <td>...</td>\n      <td>...</td>\n    </tr>\n    <tr>\n      <th>944352331</th>\n      <td>Publishing</td>\n      <td>Publishing</td>\n      <td>2015-01-15</td>\n      <td>2015-01-13 05:34:28</td>\n      <td>successful</td>\n      <td>CA</td>\n      <td>415.45</td>\n      <td>1</td>\n    </tr>\n    <tr>\n      <th>972092973</th>\n      <td>Performance Art</td>\n      <td>Art</td>\n      <td>2013-04-20</td>\n      <td>2013-04-18 08:07:02</td>\n      <td>failed</td>\n      <td>US</td>\n      <td>500.00</td>\n      <td>1</td>\n    </tr>\n    <tr>\n      <th>98041241</th>\n      <td>Periodicals</td>\n      <td>Publishing</td>\n      <td>2013-11-21</td>\n      <td>2013-11-19 21:00:09</td>\n      <td>successful</td>\n      <td>US</td>\n      <td>1000.00</td>\n      <td>1</td>\n    </tr>\n    <tr>\n      <th>989951025</th>\n      <td>Design</td>\n      <td>Design</td>\n      <td>2012-12-23</td>\n      <td>2012-12-21 18:00:02</td>\n      <td>successful</td>\n      <td>US</td>\n      <td>13.00</td>\n      <td>1</td>\n    </tr>\n    <tr>\n      <th>991442765</th>\n      <td>Pop</td>\n      <td>Music</td>\n      <td>2015-03-01</td>\n      <td>2015-02-27 22:43:06</td>\n      <td>failed</td>\n      <td>US</td>\n      <td>500.00</td>\n      <td>1</td>\n    </tr>\n  </tbody>\n</table>\n<p>150 rows × 8 columns</p>\n</div>"
     },
     "metadata": {},
     "execution_count": 120
    }
   ],
   "source": [
    "duration_one_df = ksp_pre[ksp_pre['duration'] == 1]\n",
    "duration_one_len = len(duration_one_df)\n",
    "duration_one_df"
   ]
  },
  {
   "cell_type": "code",
   "execution_count": 121,
   "metadata": {},
   "outputs": [
    {
     "output_type": "execute_result",
     "data": {
      "text/plain": [
       "                   category main_category    deadline             launched  \\\n",
       "ID                                                                           \n",
       "1004457833      Video Games         Games  2015-06-11  2015-06-10 19:03:39   \n",
       "1004692921  Classical Music         Music  2016-02-19  2016-02-18 04:29:22   \n",
       "1032840025            Drama  Film & Video  2015-05-07  2015-05-05 16:32:26   \n",
       "1046567430            Games         Games  2015-01-28  2015-01-26 16:40:02   \n",
       "1048845117   Tabletop Games         Games  2017-12-24  2017-12-22 21:25:33   \n",
       "...                     ...           ...         ...                  ...   \n",
       "98041241        Periodicals    Publishing  2013-11-21  2013-11-19 21:00:09   \n",
       "983988118        Publishing    Publishing  2016-02-28  2016-02-27 04:40:59   \n",
       "989951025            Design        Design  2012-12-23  2012-12-21 18:00:02   \n",
       "991442765               Pop         Music  2015-03-01  2015-02-27 22:43:06   \n",
       "993249553               Art           Art  2017-12-15  2017-12-14 09:01:39   \n",
       "\n",
       "                 state country  usd_goal_real  duration  \n",
       "ID                                                       \n",
       "1004457833      failed      GB        7743.29         1  \n",
       "1004692921      failed      US         500.00         1  \n",
       "1032840025      failed      GB        2312.03         1  \n",
       "1046567430      failed      US         500.00         1  \n",
       "1048845117  successful      US         250.00         1  \n",
       "...                ...     ...            ...       ...  \n",
       "98041241    successful      US        1000.00         1  \n",
       "983988118   successful      US         250.00         1  \n",
       "989951025   successful      US          13.00         1  \n",
       "991442765       failed      US         500.00         1  \n",
       "993249553   successful      US        1000.00         1  \n",
       "\n",
       "[252 rows x 8 columns]"
      ],
      "text/html": "<div>\n<style scoped>\n    .dataframe tbody tr th:only-of-type {\n        vertical-align: middle;\n    }\n\n    .dataframe tbody tr th {\n        vertical-align: top;\n    }\n\n    .dataframe thead th {\n        text-align: right;\n    }\n</style>\n<table border=\"1\" class=\"dataframe\">\n  <thead>\n    <tr style=\"text-align: right;\">\n      <th></th>\n      <th>category</th>\n      <th>main_category</th>\n      <th>deadline</th>\n      <th>launched</th>\n      <th>state</th>\n      <th>country</th>\n      <th>usd_goal_real</th>\n      <th>duration</th>\n    </tr>\n    <tr>\n      <th>ID</th>\n      <th></th>\n      <th></th>\n      <th></th>\n      <th></th>\n      <th></th>\n      <th></th>\n      <th></th>\n      <th></th>\n    </tr>\n  </thead>\n  <tbody>\n    <tr>\n      <th>1004457833</th>\n      <td>Video Games</td>\n      <td>Games</td>\n      <td>2015-06-11</td>\n      <td>2015-06-10 19:03:39</td>\n      <td>failed</td>\n      <td>GB</td>\n      <td>7743.29</td>\n      <td>1</td>\n    </tr>\n    <tr>\n      <th>1004692921</th>\n      <td>Classical Music</td>\n      <td>Music</td>\n      <td>2016-02-19</td>\n      <td>2016-02-18 04:29:22</td>\n      <td>failed</td>\n      <td>US</td>\n      <td>500.00</td>\n      <td>1</td>\n    </tr>\n    <tr>\n      <th>1032840025</th>\n      <td>Drama</td>\n      <td>Film &amp; Video</td>\n      <td>2015-05-07</td>\n      <td>2015-05-05 16:32:26</td>\n      <td>failed</td>\n      <td>GB</td>\n      <td>2312.03</td>\n      <td>1</td>\n    </tr>\n    <tr>\n      <th>1046567430</th>\n      <td>Games</td>\n      <td>Games</td>\n      <td>2015-01-28</td>\n      <td>2015-01-26 16:40:02</td>\n      <td>failed</td>\n      <td>US</td>\n      <td>500.00</td>\n      <td>1</td>\n    </tr>\n    <tr>\n      <th>1048845117</th>\n      <td>Tabletop Games</td>\n      <td>Games</td>\n      <td>2017-12-24</td>\n      <td>2017-12-22 21:25:33</td>\n      <td>successful</td>\n      <td>US</td>\n      <td>250.00</td>\n      <td>1</td>\n    </tr>\n    <tr>\n      <th>...</th>\n      <td>...</td>\n      <td>...</td>\n      <td>...</td>\n      <td>...</td>\n      <td>...</td>\n      <td>...</td>\n      <td>...</td>\n      <td>...</td>\n    </tr>\n    <tr>\n      <th>98041241</th>\n      <td>Periodicals</td>\n      <td>Publishing</td>\n      <td>2013-11-21</td>\n      <td>2013-11-19 21:00:09</td>\n      <td>successful</td>\n      <td>US</td>\n      <td>1000.00</td>\n      <td>1</td>\n    </tr>\n    <tr>\n      <th>983988118</th>\n      <td>Publishing</td>\n      <td>Publishing</td>\n      <td>2016-02-28</td>\n      <td>2016-02-27 04:40:59</td>\n      <td>successful</td>\n      <td>US</td>\n      <td>250.00</td>\n      <td>1</td>\n    </tr>\n    <tr>\n      <th>989951025</th>\n      <td>Design</td>\n      <td>Design</td>\n      <td>2012-12-23</td>\n      <td>2012-12-21 18:00:02</td>\n      <td>successful</td>\n      <td>US</td>\n      <td>13.00</td>\n      <td>1</td>\n    </tr>\n    <tr>\n      <th>991442765</th>\n      <td>Pop</td>\n      <td>Music</td>\n      <td>2015-03-01</td>\n      <td>2015-02-27 22:43:06</td>\n      <td>failed</td>\n      <td>US</td>\n      <td>500.00</td>\n      <td>1</td>\n    </tr>\n    <tr>\n      <th>993249553</th>\n      <td>Art</td>\n      <td>Art</td>\n      <td>2017-12-15</td>\n      <td>2017-12-14 09:01:39</td>\n      <td>successful</td>\n      <td>US</td>\n      <td>1000.00</td>\n      <td>1</td>\n    </tr>\n  </tbody>\n</table>\n<p>252 rows × 8 columns</p>\n</div>"
     },
     "metadata": {},
     "execution_count": 121
    }
   ],
   "source": [
    "ksp_pre['duration'].replace(0, 1, inplace=True)\n",
    "assert len(ksp_pre[ksp_pre['duration'] == 0]) == 0\n",
    "assert len(ksp_pre[ksp_pre['duration'] == 1]) == duration_zero_len + duration_one_len\n",
    "ksp_pre[ksp_pre['duration'] == 1]"
   ]
  },
  {
   "source": [
    "Next, we derive column `launched_month` to have information about time of the year a project was launched."
   ],
   "cell_type": "markdown",
   "metadata": {}
  },
  {
   "cell_type": "code",
   "execution_count": 122,
   "metadata": {
    "tags": []
   },
   "outputs": [
    {
     "output_type": "execute_result",
     "data": {
      "text/plain": [
       "                  category main_category    deadline             launched  \\\n",
       "ID                                                                          \n",
       "1000002330          Poetry    Publishing  2015-10-09  2015-08-11 12:12:28   \n",
       "1000003930  Narrative Film  Film & Video  2017-11-01  2017-09-02 04:43:57   \n",
       "1000004038  Narrative Film  Film & Video  2013-02-26  2013-01-12 00:20:50   \n",
       "1000007540           Music         Music  2012-04-16  2012-03-17 03:24:11   \n",
       "1000011046    Film & Video  Film & Video  2015-08-29  2015-07-04 08:35:03   \n",
       "\n",
       "             state country  usd_goal_real  duration  launched_month  \n",
       "ID                                                                   \n",
       "1000002330  failed      GB        1533.95        58               8  \n",
       "1000003930  failed      US       30000.00        59               9  \n",
       "1000004038  failed      US       45000.00        44               1  \n",
       "1000007540  failed      US        5000.00        29               3  \n",
       "1000011046  failed      US       19500.00        55               7  "
      ],
      "text/html": "<div>\n<style scoped>\n    .dataframe tbody tr th:only-of-type {\n        vertical-align: middle;\n    }\n\n    .dataframe tbody tr th {\n        vertical-align: top;\n    }\n\n    .dataframe thead th {\n        text-align: right;\n    }\n</style>\n<table border=\"1\" class=\"dataframe\">\n  <thead>\n    <tr style=\"text-align: right;\">\n      <th></th>\n      <th>category</th>\n      <th>main_category</th>\n      <th>deadline</th>\n      <th>launched</th>\n      <th>state</th>\n      <th>country</th>\n      <th>usd_goal_real</th>\n      <th>duration</th>\n      <th>launched_month</th>\n    </tr>\n    <tr>\n      <th>ID</th>\n      <th></th>\n      <th></th>\n      <th></th>\n      <th></th>\n      <th></th>\n      <th></th>\n      <th></th>\n      <th></th>\n      <th></th>\n    </tr>\n  </thead>\n  <tbody>\n    <tr>\n      <th>1000002330</th>\n      <td>Poetry</td>\n      <td>Publishing</td>\n      <td>2015-10-09</td>\n      <td>2015-08-11 12:12:28</td>\n      <td>failed</td>\n      <td>GB</td>\n      <td>1533.95</td>\n      <td>58</td>\n      <td>8</td>\n    </tr>\n    <tr>\n      <th>1000003930</th>\n      <td>Narrative Film</td>\n      <td>Film &amp; Video</td>\n      <td>2017-11-01</td>\n      <td>2017-09-02 04:43:57</td>\n      <td>failed</td>\n      <td>US</td>\n      <td>30000.00</td>\n      <td>59</td>\n      <td>9</td>\n    </tr>\n    <tr>\n      <th>1000004038</th>\n      <td>Narrative Film</td>\n      <td>Film &amp; Video</td>\n      <td>2013-02-26</td>\n      <td>2013-01-12 00:20:50</td>\n      <td>failed</td>\n      <td>US</td>\n      <td>45000.00</td>\n      <td>44</td>\n      <td>1</td>\n    </tr>\n    <tr>\n      <th>1000007540</th>\n      <td>Music</td>\n      <td>Music</td>\n      <td>2012-04-16</td>\n      <td>2012-03-17 03:24:11</td>\n      <td>failed</td>\n      <td>US</td>\n      <td>5000.00</td>\n      <td>29</td>\n      <td>3</td>\n    </tr>\n    <tr>\n      <th>1000011046</th>\n      <td>Film &amp; Video</td>\n      <td>Film &amp; Video</td>\n      <td>2015-08-29</td>\n      <td>2015-07-04 08:35:03</td>\n      <td>failed</td>\n      <td>US</td>\n      <td>19500.00</td>\n      <td>55</td>\n      <td>7</td>\n    </tr>\n  </tbody>\n</table>\n</div>"
     },
     "metadata": {},
     "execution_count": 122
    }
   ],
   "source": [
    "# get datetime strings, convert them to datetime objects and return duration in days between two days\n",
    "def get_launched_month(launched_date_str):\n",
    "    launched_date = datetime.strptime(launched_date_str, '%Y-%m-%d %H:%M:%S')\n",
    "    return launched_date.month\n",
    "\n",
    "ksp_pre['launched_month'] = ksp_pre.apply(lambda x: get_launched_month(x['launched']), axis=1)\n",
    "\n",
    "ksp_pre.head()"
   ]
  },
  {
   "source": [
    "We have derived two new columns from dates provided by the dataset - duration and launched_month.\n",
    "\n",
    "We can remove launched and deadline columns as we do not need them anymore."
   ],
   "cell_type": "markdown",
   "metadata": {}
  },
  {
   "cell_type": "code",
   "execution_count": 123,
   "metadata": {},
   "outputs": [],
   "source": [
    "# remove launched and deadline columns\n",
    "ksp_pre = ksp_pre.drop(['launched', 'deadline'], axis=1)"
   ]
  },
  {
   "source": [
    "### Handle missing values"
   ],
   "cell_type": "markdown",
   "metadata": {}
  },
  {
   "cell_type": "code",
   "execution_count": 124,
   "metadata": {},
   "outputs": [
    {
     "output_type": "execute_result",
     "data": {
      "text/plain": [
       "category          0\n",
       "main_category     0\n",
       "state             0\n",
       "country           0\n",
       "usd_goal_real     0\n",
       "duration          0\n",
       "launched_month    0\n",
       "dtype: int64"
      ]
     },
     "metadata": {},
     "execution_count": 124
    }
   ],
   "source": [
    "ksp_pre.isna().sum()"
   ]
  },
  {
   "source": [
    "Above we see that there are no null values.\n",
    "\n",
    "But we know about not valid values such as `'N,\"0'` and `'N,0\"` (from our country case or also from older 2016 dataset)."
   ],
   "cell_type": "markdown",
   "metadata": {}
  },
  {
   "cell_type": "code",
   "execution_count": 125,
   "metadata": {},
   "outputs": [
    {
     "output_type": "execute_result",
     "data": {
      "text/plain": [
       "Empty DataFrame\n",
       "Columns: [category, main_category, state, country, usd_goal_real, duration, launched_month]\n",
       "Index: []"
      ],
      "text/html": "<div>\n<style scoped>\n    .dataframe tbody tr th:only-of-type {\n        vertical-align: middle;\n    }\n\n    .dataframe tbody tr th {\n        vertical-align: top;\n    }\n\n    .dataframe thead th {\n        text-align: right;\n    }\n</style>\n<table border=\"1\" class=\"dataframe\">\n  <thead>\n    <tr style=\"text-align: right;\">\n      <th></th>\n      <th>category</th>\n      <th>main_category</th>\n      <th>state</th>\n      <th>country</th>\n      <th>usd_goal_real</th>\n      <th>duration</th>\n      <th>launched_month</th>\n    </tr>\n    <tr>\n      <th>ID</th>\n      <th></th>\n      <th></th>\n      <th></th>\n      <th></th>\n      <th></th>\n      <th></th>\n      <th></th>\n    </tr>\n  </thead>\n  <tbody>\n  </tbody>\n</table>\n</div>"
     },
     "metadata": {},
     "execution_count": 125
    }
   ],
   "source": [
    "ksp_pre[ksp_pre.isin(['', 'N,\"0', 'N,0\"']).any(axis=1)]"
   ]
  },
  {
   "source": [
    "But again we see above, that no such values have left.\n",
    "\n",
    "Next, we wanted to be sure, that no other issues appear in our dataset. We print all unique values of categorical (nominal) data."
   ],
   "cell_type": "markdown",
   "metadata": {}
  },
  {
   "cell_type": "code",
   "execution_count": 126,
   "metadata": {},
   "outputs": [
    {
     "output_type": "stream",
     "name": "stdout",
     "text": [
      "category ['3D Printing' 'Academic' 'Accessories' 'Action' 'Animals' 'Animation'\n 'Anthologies' 'Apparel' 'Apps' 'Architecture' 'Art' 'Art Books' 'Audio'\n 'Bacon' 'Blues' 'Calendars' 'Camera Equipment' 'Candles' 'Ceramics'\n \"Children's Books\" 'Childrenswear' 'Chiptune' 'Civic Design'\n 'Classical Music' 'Comedy' 'Comic Books' 'Comics' 'Community Gardens'\n 'Conceptual Art' 'Cookbooks' 'Country & Folk' 'Couture' 'Crafts'\n 'Crochet' 'DIY' 'DIY Electronics' 'Dance' 'Design' 'Digital Art'\n 'Documentary' 'Drama' 'Drinks' 'Electronic Music' 'Embroidery' 'Events'\n 'Experimental' 'Fabrication Tools' 'Faith' 'Family' 'Fantasy'\n \"Farmer's Markets\" 'Farms' 'Fashion' 'Festivals' 'Fiction' 'Film & Video'\n 'Fine Art' 'Flight' 'Food' 'Food Trucks' 'Footwear' 'Gadgets' 'Games'\n 'Gaming Hardware' 'Glass' 'Graphic Design' 'Graphic Novels' 'Hardware'\n 'Hip-Hop' 'Horror' 'Illustration' 'Immersive' 'Indie Rock'\n 'Installations' 'Interactive Design' 'Jazz' 'Jewelry' 'Journalism' 'Kids'\n 'Knitting' 'Latin' 'Letterpress' 'Literary Journals' 'Literary Spaces'\n 'Live Games' 'Makerspaces' 'Metal' 'Mixed Media' 'Mobile Games'\n 'Movie Theaters' 'Music' 'Music Videos' 'Musical' 'Narrative Film'\n 'Nature' 'Nonfiction' 'Painting' 'People' 'Performance Art'\n 'Performances' 'Periodicals' 'Pet Fashion' 'Photo' 'Photobooks'\n 'Photography' 'Places' 'Playing Cards' 'Plays' 'Poetry' 'Pop' 'Pottery'\n 'Print' 'Printing' 'Product Design' 'Public Art' 'Publishing' 'Punk'\n 'Puzzles' 'Quilts' 'R&B' 'Radio & Podcasts' 'Ready-to-wear' 'Residencies'\n 'Restaurants' 'Robots' 'Rock' 'Romance' 'Science Fiction' 'Sculpture'\n 'Shorts' 'Small Batch' 'Software' 'Sound' 'Space Exploration' 'Spaces'\n 'Stationery' 'Tabletop Games' 'Taxidermy' 'Technology' 'Television'\n 'Textiles' 'Theater' 'Thrillers' 'Translations' 'Typography' 'Vegan'\n 'Video' 'Video Art' 'Video Games' 'Wearables' 'Weaving' 'Web' 'Webcomics'\n 'Webseries' 'Woodworking' 'Workshops' 'World Music' 'Young Adult' 'Zines']\nmain_category ['Art' 'Comics' 'Crafts' 'Dance' 'Design' 'Fashion' 'Film & Video' 'Food'\n 'Games' 'Journalism' 'Music' 'Photography' 'Publishing' 'Technology'\n 'Theater']\nstate ['failed' 'live' 'successful']\ncountry ['AT' 'AU' 'BE' 'CA' 'CH' 'DE' 'DK' 'ES' 'FR' 'GB' 'HK' 'IE' 'IT' 'JP'\n 'LU' 'MX' 'NL' 'NO' 'NZ' 'SE' 'SG' 'US']\nduration [    1     2     3     4     5     6     7     8     9    10    11    12\n    13    14    15    16    17    18    19    20    21    22    23    24\n    25    26    27    28    29    30    31    32    33    34    35    36\n    37    38    39    40    41    42    43    44    45    46    47    48\n    49    50    51    52    53    54    55    56    57    58    59    60\n    61    62    63    64    65    66    67    68    69    70    71    72\n    73    74    75    76    77    78    79    80    81    82    83    84\n    85    86    87    88    89    90    91 14708 14732 14749 14760 14834\n 14866 16738]\n"
     ]
    }
   ],
   "source": [
    "for column_name in ('category', 'main_category', 'state', 'country', 'duration'):\n",
    "    result = ksp_pre[column_name].unique()\n",
    "    result.sort()\n",
    "    print(column_name, result)"
   ]
  },
  {
   "source": [
    "### Categorical to numerical"
   ],
   "cell_type": "markdown",
   "metadata": {}
  },
  {
   "source": [
    "Now we have to convert our categorical values to numerical for two reasons:\n",
    "\n",
    "1. Sklearn cannot work with non-numerical categorical data.\n",
    "2. We do not want to have these as dummies. It results to a lot of new columns (for each value in a category is generated one column) and it significantly increases time of classification model building.\n",
    "\n",
    "We will apply dummies only for our target column, as it has only two categories, so it will be much easer to create numerical representation of them."
   ],
   "cell_type": "markdown",
   "metadata": {}
  },
  {
   "cell_type": "code",
   "execution_count": 127,
   "metadata": {
    "tags": []
   },
   "outputs": [
    {
     "output_type": "execute_result",
     "data": {
      "text/plain": [
       "            category  main_category   state  country  usd_goal_real  duration  \\\n",
       "ID                                                                              \n",
       "1000002330       109             13  failed       10        1533.95        58   \n",
       "1000003930        94              7  failed       22       30000.00        59   \n",
       "1000004038        94              7  failed       22       45000.00        44   \n",
       "1000007540        91             11  failed       22        5000.00        29   \n",
       "1000011046        56              7  failed       22       19500.00        55   \n",
       "\n",
       "            launched_month  \n",
       "ID                          \n",
       "1000002330               8  \n",
       "1000003930               9  \n",
       "1000004038               1  \n",
       "1000007540               3  \n",
       "1000011046               7  "
      ],
      "text/html": "<div>\n<style scoped>\n    .dataframe tbody tr th:only-of-type {\n        vertical-align: middle;\n    }\n\n    .dataframe tbody tr th {\n        vertical-align: top;\n    }\n\n    .dataframe thead th {\n        text-align: right;\n    }\n</style>\n<table border=\"1\" class=\"dataframe\">\n  <thead>\n    <tr style=\"text-align: right;\">\n      <th></th>\n      <th>category</th>\n      <th>main_category</th>\n      <th>state</th>\n      <th>country</th>\n      <th>usd_goal_real</th>\n      <th>duration</th>\n      <th>launched_month</th>\n    </tr>\n    <tr>\n      <th>ID</th>\n      <th></th>\n      <th></th>\n      <th></th>\n      <th></th>\n      <th></th>\n      <th></th>\n      <th></th>\n    </tr>\n  </thead>\n  <tbody>\n    <tr>\n      <th>1000002330</th>\n      <td>109</td>\n      <td>13</td>\n      <td>failed</td>\n      <td>10</td>\n      <td>1533.95</td>\n      <td>58</td>\n      <td>8</td>\n    </tr>\n    <tr>\n      <th>1000003930</th>\n      <td>94</td>\n      <td>7</td>\n      <td>failed</td>\n      <td>22</td>\n      <td>30000.00</td>\n      <td>59</td>\n      <td>9</td>\n    </tr>\n    <tr>\n      <th>1000004038</th>\n      <td>94</td>\n      <td>7</td>\n      <td>failed</td>\n      <td>22</td>\n      <td>45000.00</td>\n      <td>44</td>\n      <td>1</td>\n    </tr>\n    <tr>\n      <th>1000007540</th>\n      <td>91</td>\n      <td>11</td>\n      <td>failed</td>\n      <td>22</td>\n      <td>5000.00</td>\n      <td>29</td>\n      <td>3</td>\n    </tr>\n    <tr>\n      <th>1000011046</th>\n      <td>56</td>\n      <td>7</td>\n      <td>failed</td>\n      <td>22</td>\n      <td>19500.00</td>\n      <td>55</td>\n      <td>7</td>\n    </tr>\n  </tbody>\n</table>\n</div>"
     },
     "metadata": {},
     "execution_count": 127
    }
   ],
   "source": [
    "# here we will save all dictionaries so we can use it later (two way mapping)\n",
    "replace_dictionary = {}\n",
    "\n",
    "# set columns we want to convert from string categories to numerical categories\n",
    "columns_to_replace = ['country', 'main_category', 'category']\n",
    "\n",
    "# help function for converting\n",
    "def replace_categorical_to_num(column):\n",
    "    # store category names to a list\n",
    "    labels = ksp_pre[column].astype('category').cat.categories.tolist()\n",
    "    # make mapping using dictionary comprehensions ({category: unique number})\n",
    "    replace_map_comp = {column : {k: v for k,v in zip(labels,list(range(1,len(labels)+1)))}}\n",
    "    # just save category dictionary for further usage\n",
    "    replace_dictionary[column] = replace_map_comp[column]\n",
    "    # use mapping function to replace categories for unique numbers\n",
    "    ksp_pre.replace(replace_map_comp, inplace=True)\n",
    "\n",
    "# iterate through columns and call help function\n",
    "for c in columns_to_replace:\n",
    "    replace_categorical_to_num(c)\n",
    "\n",
    "ksp_pre.head()"
   ]
  },
  {
   "source": [
    "### Extract \"live\" projects"
   ],
   "cell_type": "markdown",
   "metadata": {}
  },
  {
   "source": [
    "Live projects are not useful for our model building. We extract them to `ksp_live` variable for further usage (maybe testing our model)."
   ],
   "cell_type": "markdown",
   "metadata": {}
  },
  {
   "cell_type": "code",
   "execution_count": 128,
   "metadata": {},
   "outputs": [
    {
     "output_type": "execute_result",
     "data": {
      "text/plain": [
       "            category  main_category state  country  usd_goal_real  duration  \\\n",
       "ID                                                                            \n",
       "1000149007        96             13  live        4        2396.36        59   \n",
       "1000761521       143              7  live       22        5000.00        44   \n",
       "1002183790        70              7  live       10        1159.38        17   \n",
       "1002599057        56              7  live       22        2000.00        59   \n",
       "1002629894        71              1  live       16          52.32        15   \n",
       "\n",
       "            launched_month  \n",
       "ID                          \n",
       "1000149007              11  \n",
       "1000761521              12  \n",
       "1002183790              12  \n",
       "1002599057              12  \n",
       "1002629894              12  "
      ],
      "text/html": "<div>\n<style scoped>\n    .dataframe tbody tr th:only-of-type {\n        vertical-align: middle;\n    }\n\n    .dataframe tbody tr th {\n        vertical-align: top;\n    }\n\n    .dataframe thead th {\n        text-align: right;\n    }\n</style>\n<table border=\"1\" class=\"dataframe\">\n  <thead>\n    <tr style=\"text-align: right;\">\n      <th></th>\n      <th>category</th>\n      <th>main_category</th>\n      <th>state</th>\n      <th>country</th>\n      <th>usd_goal_real</th>\n      <th>duration</th>\n      <th>launched_month</th>\n    </tr>\n    <tr>\n      <th>ID</th>\n      <th></th>\n      <th></th>\n      <th></th>\n      <th></th>\n      <th></th>\n      <th></th>\n      <th></th>\n    </tr>\n  </thead>\n  <tbody>\n    <tr>\n      <th>1000149007</th>\n      <td>96</td>\n      <td>13</td>\n      <td>live</td>\n      <td>4</td>\n      <td>2396.36</td>\n      <td>59</td>\n      <td>11</td>\n    </tr>\n    <tr>\n      <th>1000761521</th>\n      <td>143</td>\n      <td>7</td>\n      <td>live</td>\n      <td>22</td>\n      <td>5000.00</td>\n      <td>44</td>\n      <td>12</td>\n    </tr>\n    <tr>\n      <th>1002183790</th>\n      <td>70</td>\n      <td>7</td>\n      <td>live</td>\n      <td>10</td>\n      <td>1159.38</td>\n      <td>17</td>\n      <td>12</td>\n    </tr>\n    <tr>\n      <th>1002599057</th>\n      <td>56</td>\n      <td>7</td>\n      <td>live</td>\n      <td>22</td>\n      <td>2000.00</td>\n      <td>59</td>\n      <td>12</td>\n    </tr>\n    <tr>\n      <th>1002629894</th>\n      <td>71</td>\n      <td>1</td>\n      <td>live</td>\n      <td>16</td>\n      <td>52.32</td>\n      <td>15</td>\n      <td>12</td>\n    </tr>\n  </tbody>\n</table>\n</div>"
     },
     "metadata": {},
     "execution_count": 128
    }
   ],
   "source": [
    "# create copy of a live projects and drop them from ksp dataset\n",
    "old_ksp_len = len(ksp_pre)\n",
    "live_projects_index = ksp_pre[ksp_pre['state'] == 'live'].index\n",
    "ksp_live = ksp_pre.filter(items=live_projects_index, axis=0)\n",
    "ksp_live.head()"
   ]
  },
  {
   "cell_type": "code",
   "execution_count": 129,
   "metadata": {},
   "outputs": [
    {
     "output_type": "stream",
     "name": "stdout",
     "text": [
      "✅ 'live' projects extracted successfully.\nKSP data length before: 374864\nKSP data length after: 372066\nKSP 'live' data length: 2798\n"
     ]
    }
   ],
   "source": [
    "ksp_pre.drop(ksp_pre[ksp_pre['state'] == 'live'].index, inplace=True, axis=0)\n",
    "new_ksp_len = len(ksp_pre)\n",
    "assert old_ksp_len - new_ksp_len == len(ksp_live), \"Something went wrong when extracting live projects from a datase. Lengths do not match!\"\n",
    "print(\"✅ 'live' projects extracted successfully.\")\n",
    "print(\"KSP data length before: \" + str(old_ksp_len))\n",
    "print(\"KSP data length after: \" + str(new_ksp_len))\n",
    "print(\"KSP 'live' data length: \" + str(len(ksp_live)))"
   ]
  },
  {
   "source": [
    "## Model building"
   ],
   "cell_type": "markdown",
   "metadata": {}
  },
  {
   "source": [
    "We have preprocessed our Kickstarter projects dataset, so we can pass on to the most interesting part - model building.\n",
    "\n",
    "We will try to build model based on KNeearestNeighbours and DecisionTree algorithms.\n",
    "\n",
    "Last thing before model fitting we need to do is to divide target label from others and get dummies."
   ],
   "cell_type": "markdown",
   "metadata": {}
  },
  {
   "cell_type": "code",
   "execution_count": 130,
   "metadata": {},
   "outputs": [],
   "source": [
    "from sklearn.model_selection import GridSearchCV, RandomizedSearchCV, train_test_split\n",
    "from sklearn.preprocessing import StandardScaler\n",
    "from sklearn.pipeline import Pipeline\n",
    "from sklearn.metrics import classification_report, confusion_matrix, plot_roc_curve, roc_curve\n",
    "import numpy as np\n",
    "\n",
    "# split target data (state) from main dataset collection\n",
    "y = ksp_pre[['state']]\n",
    "X = ksp_pre.drop(['state'], axis=1)\n",
    "# get dummies in target column. Keep one column state_successfull, which will have values 0 (fail) or 1 (success) \n",
    "y = pd.get_dummies(y).drop('state_failed', axis=1).values.ravel()\n",
    "\n",
    "split_random_state=42\n",
    "\n",
    "# split to train/test data (to minimize overfitting)\n",
    "X_train, X_test, y_train, y_test = train_test_split(X,y, test_size=0.3, random_state=split_random_state)\n"
   ]
  },
  {
   "source": [
    "Before fitting model with KNeighborsClassifier we apply standard scaler to scale numerical values. Especially because of usd_goal_real values.\n",
    "It is quite important operation for algorithms which use distance for evaluation (such as KNN).\n",
    "\n",
    "Also, we use Grid Search cross validation to fine-tune hyperparameters of our model. Here we tune n_neighbours parameter."
   ],
   "cell_type": "markdown",
   "metadata": {}
  },
  {
   "cell_type": "code",
   "execution_count": 131,
   "metadata": {
    "tags": []
   },
   "outputs": [
    {
     "output_type": "stream",
     "name": "stdout",
     "text": [
      "Tuned KNeighbours Parameter: {'knn__n_neighbors': 10}\nTuned KNeighbours Accuracy: 0.6679273249119259\n"
     ]
    }
   ],
   "source": [
    "from sklearn.neighbors import KNeighborsClassifier\n",
    "\n",
    "# use standrad scaler here to scale numeric data\n",
    "# n_jobs=-1 tells to use all cores for paralel processing\n",
    "steps = [('scaler', StandardScaler()),\n",
    "('knn', KNeighborsClassifier(n_jobs=-1))]\n",
    "\n",
    "# knn = KNeighborsClassifier()\n",
    "\n",
    "pipeline = Pipeline(steps)\n",
    "\n",
    "# Create the hyperparameter grid\n",
    "param_grid = {'knn__n_neighbors': np.arange(1, 11)}\n",
    "\n",
    "knn_cv = GridSearchCV(pipeline, param_grid=param_grid, cv=5)\n",
    "knn_cv.fit(X_train, y_train)\n",
    "\n",
    "# Print the optimal parameters and best score\n",
    "print(\"Tuned KNeighbours Parameter: {}\".format(knn_cv.best_params_))\n",
    "print(\"Tuned KNeighbours Accuracy: {}\".format(knn_cv.best_score_))"
   ]
  },
  {
   "source": [
    "We fine-tune hyperparameters for Decision Tree classifier using Grid Search too."
   ],
   "cell_type": "markdown",
   "metadata": {}
  },
  {
   "cell_type": "code",
   "execution_count": 132,
   "metadata": {
    "tags": []
   },
   "outputs": [
    {
     "output_type": "stream",
     "name": "stdout",
     "text": [
      "Tuned Decision Tree Parameters: {'criterion': 'entropy', 'max_depth': None, 'max_features': 2, 'min_samples_leaf': 6}\nBest score is 0.661626597928046\n"
     ]
    }
   ],
   "source": [
    "from scipy.stats import randint\n",
    "from sklearn import tree\n",
    "\n",
    "param_dist = {\"max_depth\": [1, 2, 3, 5, None],\n",
    "              \"max_features\": np.arange(1, 7),\n",
    "              \"min_samples_leaf\": np.arange(1, 7),\n",
    "              \"criterion\": [\"gini\", \"entropy\"]}\n",
    "\n",
    "# Instantiate a Decision Tree classifier\n",
    "dtc = tree.DecisionTreeClassifier(random_state=split_random_state)\n",
    "\n",
    "# Instantiate the RandomizedSearchCV\n",
    "# n_jobs=-1 tells to use all cores for paralel processing\n",
    "tree_cv = GridSearchCV(dtc, param_grid=param_dist, cv=5)\n",
    "\n",
    "# Fit it to the data\n",
    "tree_cv.fit(X_train, y_train)\n",
    "\n",
    "# Print the tuned parameters and score\n",
    "print(\"Tuned Decision Tree Parameters: {}\".format(tree_cv.best_params_))\n",
    "print(\"Best score is {}\".format(tree_cv.best_score_))"
   ]
  },
  {
   "source": [
    "## Model evaluation"
   ],
   "cell_type": "markdown",
   "metadata": {}
  },
  {
   "source": [
    "### KNN"
   ],
   "cell_type": "markdown",
   "metadata": {}
  },
  {
   "cell_type": "code",
   "execution_count": 144,
   "metadata": {},
   "outputs": [
    {
     "output_type": "display_data",
     "data": {
      "text/plain": "<Figure size 432x288 with 1 Axes>",
      "image/svg+xml": "<?xml version=\"1.0\" encoding=\"utf-8\" standalone=\"no\"?>\n<!DOCTYPE svg PUBLIC \"-//W3C//DTD SVG 1.1//EN\"\n  \"http://www.w3.org/Graphics/SVG/1.1/DTD/svg11.dtd\">\n<svg height=\"262.19625pt\" version=\"1.1\" viewBox=\"0 0 385.78125 262.19625\" width=\"385.78125pt\" xmlns=\"http://www.w3.org/2000/svg\" xmlns:xlink=\"http://www.w3.org/1999/xlink\">\n <metadata>\n  <rdf:RDF xmlns:cc=\"http://creativecommons.org/ns#\" xmlns:dc=\"http://purl.org/dc/elements/1.1/\" xmlns:rdf=\"http://www.w3.org/1999/02/22-rdf-syntax-ns#\">\n   <cc:Work>\n    <dc:type rdf:resource=\"http://purl.org/dc/dcmitype/StillImage\"/>\n    <dc:date>2021-04-11T21:05:57.127247</dc:date>\n    <dc:format>image/svg+xml</dc:format>\n    <dc:creator>\n     <cc:Agent>\n      <dc:title>Matplotlib v3.4.0, https://matplotlib.org/</dc:title>\n     </cc:Agent>\n    </dc:creator>\n   </cc:Work>\n  </rdf:RDF>\n </metadata>\n <defs>\n  <style type=\"text/css\">*{stroke-linecap:butt;stroke-linejoin:round;}</style>\n </defs>\n <g id=\"figure_1\">\n  <g id=\"patch_1\">\n   <path d=\"M 0 262.19625 \nL 385.78125 262.19625 \nL 385.78125 0 \nL 0 0 \nz\n\" style=\"fill:none;\"/>\n  </g>\n  <g id=\"axes_1\">\n   <g id=\"patch_2\">\n    <path d=\"M 43.78125 224.64 \nL 378.58125 224.64 \nL 378.58125 7.2 \nL 43.78125 7.2 \nz\n\" style=\"fill:#ffffff;\"/>\n   </g>\n   <g id=\"matplotlib.axis_1\">\n    <g id=\"xtick_1\">\n     <g id=\"line2d_1\">\n      <defs>\n       <path d=\"M 0 0 \nL 0 3.5 \n\" id=\"md80614e9bf\" style=\"stroke:#000000;stroke-width:0.8;\"/>\n      </defs>\n      <g>\n       <use style=\"stroke:#000000;stroke-width:0.8;\" x=\"58.999432\" xlink:href=\"#md80614e9bf\" y=\"224.64\"/>\n      </g>\n     </g>\n     <g id=\"text_1\">\n      <!-- 0.0 -->\n      <g transform=\"translate(51.047869 239.238437)scale(0.1 -0.1)\">\n       <defs>\n        <path d=\"M 2034 4250 \nQ 1547 4250 1301 3770 \nQ 1056 3291 1056 2328 \nQ 1056 1369 1301 889 \nQ 1547 409 2034 409 \nQ 2525 409 2770 889 \nQ 3016 1369 3016 2328 \nQ 3016 3291 2770 3770 \nQ 2525 4250 2034 4250 \nz\nM 2034 4750 \nQ 2819 4750 3233 4129 \nQ 3647 3509 3647 2328 \nQ 3647 1150 3233 529 \nQ 2819 -91 2034 -91 \nQ 1250 -91 836 529 \nQ 422 1150 422 2328 \nQ 422 3509 836 4129 \nQ 1250 4750 2034 4750 \nz\n\" id=\"DejaVuSans-30\" transform=\"scale(0.015625)\"/>\n        <path d=\"M 684 794 \nL 1344 794 \nL 1344 0 \nL 684 0 \nL 684 794 \nz\n\" id=\"DejaVuSans-2e\" transform=\"scale(0.015625)\"/>\n       </defs>\n       <use xlink:href=\"#DejaVuSans-30\"/>\n       <use x=\"63.623047\" xlink:href=\"#DejaVuSans-2e\"/>\n       <use x=\"95.410156\" xlink:href=\"#DejaVuSans-30\"/>\n      </g>\n     </g>\n    </g>\n    <g id=\"xtick_2\">\n     <g id=\"line2d_2\">\n      <g>\n       <use style=\"stroke:#000000;stroke-width:0.8;\" x=\"119.872159\" xlink:href=\"#md80614e9bf\" y=\"224.64\"/>\n      </g>\n     </g>\n     <g id=\"text_2\">\n      <!-- 0.2 -->\n      <g transform=\"translate(111.920597 239.238437)scale(0.1 -0.1)\">\n       <defs>\n        <path d=\"M 1228 531 \nL 3431 531 \nL 3431 0 \nL 469 0 \nL 469 531 \nQ 828 903 1448 1529 \nQ 2069 2156 2228 2338 \nQ 2531 2678 2651 2914 \nQ 2772 3150 2772 3378 \nQ 2772 3750 2511 3984 \nQ 2250 4219 1831 4219 \nQ 1534 4219 1204 4116 \nQ 875 4013 500 3803 \nL 500 4441 \nQ 881 4594 1212 4672 \nQ 1544 4750 1819 4750 \nQ 2544 4750 2975 4387 \nQ 3406 4025 3406 3419 \nQ 3406 3131 3298 2873 \nQ 3191 2616 2906 2266 \nQ 2828 2175 2409 1742 \nQ 1991 1309 1228 531 \nz\n\" id=\"DejaVuSans-32\" transform=\"scale(0.015625)\"/>\n       </defs>\n       <use xlink:href=\"#DejaVuSans-30\"/>\n       <use x=\"63.623047\" xlink:href=\"#DejaVuSans-2e\"/>\n       <use x=\"95.410156\" xlink:href=\"#DejaVuSans-32\"/>\n      </g>\n     </g>\n    </g>\n    <g id=\"xtick_3\">\n     <g id=\"line2d_3\">\n      <g>\n       <use style=\"stroke:#000000;stroke-width:0.8;\" x=\"180.744886\" xlink:href=\"#md80614e9bf\" y=\"224.64\"/>\n      </g>\n     </g>\n     <g id=\"text_3\">\n      <!-- 0.4 -->\n      <g transform=\"translate(172.793324 239.238437)scale(0.1 -0.1)\">\n       <defs>\n        <path d=\"M 2419 4116 \nL 825 1625 \nL 2419 1625 \nL 2419 4116 \nz\nM 2253 4666 \nL 3047 4666 \nL 3047 1625 \nL 3713 1625 \nL 3713 1100 \nL 3047 1100 \nL 3047 0 \nL 2419 0 \nL 2419 1100 \nL 313 1100 \nL 313 1709 \nL 2253 4666 \nz\n\" id=\"DejaVuSans-34\" transform=\"scale(0.015625)\"/>\n       </defs>\n       <use xlink:href=\"#DejaVuSans-30\"/>\n       <use x=\"63.623047\" xlink:href=\"#DejaVuSans-2e\"/>\n       <use x=\"95.410156\" xlink:href=\"#DejaVuSans-34\"/>\n      </g>\n     </g>\n    </g>\n    <g id=\"xtick_4\">\n     <g id=\"line2d_4\">\n      <g>\n       <use style=\"stroke:#000000;stroke-width:0.8;\" x=\"241.617614\" xlink:href=\"#md80614e9bf\" y=\"224.64\"/>\n      </g>\n     </g>\n     <g id=\"text_4\">\n      <!-- 0.6 -->\n      <g transform=\"translate(233.666051 239.238437)scale(0.1 -0.1)\">\n       <defs>\n        <path d=\"M 2113 2584 \nQ 1688 2584 1439 2293 \nQ 1191 2003 1191 1497 \nQ 1191 994 1439 701 \nQ 1688 409 2113 409 \nQ 2538 409 2786 701 \nQ 3034 994 3034 1497 \nQ 3034 2003 2786 2293 \nQ 2538 2584 2113 2584 \nz\nM 3366 4563 \nL 3366 3988 \nQ 3128 4100 2886 4159 \nQ 2644 4219 2406 4219 \nQ 1781 4219 1451 3797 \nQ 1122 3375 1075 2522 \nQ 1259 2794 1537 2939 \nQ 1816 3084 2150 3084 \nQ 2853 3084 3261 2657 \nQ 3669 2231 3669 1497 \nQ 3669 778 3244 343 \nQ 2819 -91 2113 -91 \nQ 1303 -91 875 529 \nQ 447 1150 447 2328 \nQ 447 3434 972 4092 \nQ 1497 4750 2381 4750 \nQ 2619 4750 2861 4703 \nQ 3103 4656 3366 4563 \nz\n\" id=\"DejaVuSans-36\" transform=\"scale(0.015625)\"/>\n       </defs>\n       <use xlink:href=\"#DejaVuSans-30\"/>\n       <use x=\"63.623047\" xlink:href=\"#DejaVuSans-2e\"/>\n       <use x=\"95.410156\" xlink:href=\"#DejaVuSans-36\"/>\n      </g>\n     </g>\n    </g>\n    <g id=\"xtick_5\">\n     <g id=\"line2d_5\">\n      <g>\n       <use style=\"stroke:#000000;stroke-width:0.8;\" x=\"302.490341\" xlink:href=\"#md80614e9bf\" y=\"224.64\"/>\n      </g>\n     </g>\n     <g id=\"text_5\">\n      <!-- 0.8 -->\n      <g transform=\"translate(294.538778 239.238437)scale(0.1 -0.1)\">\n       <defs>\n        <path d=\"M 2034 2216 \nQ 1584 2216 1326 1975 \nQ 1069 1734 1069 1313 \nQ 1069 891 1326 650 \nQ 1584 409 2034 409 \nQ 2484 409 2743 651 \nQ 3003 894 3003 1313 \nQ 3003 1734 2745 1975 \nQ 2488 2216 2034 2216 \nz\nM 1403 2484 \nQ 997 2584 770 2862 \nQ 544 3141 544 3541 \nQ 544 4100 942 4425 \nQ 1341 4750 2034 4750 \nQ 2731 4750 3128 4425 \nQ 3525 4100 3525 3541 \nQ 3525 3141 3298 2862 \nQ 3072 2584 2669 2484 \nQ 3125 2378 3379 2068 \nQ 3634 1759 3634 1313 \nQ 3634 634 3220 271 \nQ 2806 -91 2034 -91 \nQ 1263 -91 848 271 \nQ 434 634 434 1313 \nQ 434 1759 690 2068 \nQ 947 2378 1403 2484 \nz\nM 1172 3481 \nQ 1172 3119 1398 2916 \nQ 1625 2713 2034 2713 \nQ 2441 2713 2670 2916 \nQ 2900 3119 2900 3481 \nQ 2900 3844 2670 4047 \nQ 2441 4250 2034 4250 \nQ 1625 4250 1398 4047 \nQ 1172 3844 1172 3481 \nz\n\" id=\"DejaVuSans-38\" transform=\"scale(0.015625)\"/>\n       </defs>\n       <use xlink:href=\"#DejaVuSans-30\"/>\n       <use x=\"63.623047\" xlink:href=\"#DejaVuSans-2e\"/>\n       <use x=\"95.410156\" xlink:href=\"#DejaVuSans-38\"/>\n      </g>\n     </g>\n    </g>\n    <g id=\"xtick_6\">\n     <g id=\"line2d_6\">\n      <g>\n       <use style=\"stroke:#000000;stroke-width:0.8;\" x=\"363.363068\" xlink:href=\"#md80614e9bf\" y=\"224.64\"/>\n      </g>\n     </g>\n     <g id=\"text_6\">\n      <!-- 1.0 -->\n      <g transform=\"translate(355.411506 239.238437)scale(0.1 -0.1)\">\n       <defs>\n        <path d=\"M 794 531 \nL 1825 531 \nL 1825 4091 \nL 703 3866 \nL 703 4441 \nL 1819 4666 \nL 2450 4666 \nL 2450 531 \nL 3481 531 \nL 3481 0 \nL 794 0 \nL 794 531 \nz\n\" id=\"DejaVuSans-31\" transform=\"scale(0.015625)\"/>\n       </defs>\n       <use xlink:href=\"#DejaVuSans-31\"/>\n       <use x=\"63.623047\" xlink:href=\"#DejaVuSans-2e\"/>\n       <use x=\"95.410156\" xlink:href=\"#DejaVuSans-30\"/>\n      </g>\n     </g>\n    </g>\n    <g id=\"text_7\">\n     <!-- False Positive Rate (Positive label: 1) -->\n     <g transform=\"translate(119.815625 252.916562)scale(0.1 -0.1)\">\n      <defs>\n       <path d=\"M 628 4666 \nL 3309 4666 \nL 3309 4134 \nL 1259 4134 \nL 1259 2759 \nL 3109 2759 \nL 3109 2228 \nL 1259 2228 \nL 1259 0 \nL 628 0 \nL 628 4666 \nz\n\" id=\"DejaVuSans-46\" transform=\"scale(0.015625)\"/>\n       <path d=\"M 2194 1759 \nQ 1497 1759 1228 1600 \nQ 959 1441 959 1056 \nQ 959 750 1161 570 \nQ 1363 391 1709 391 \nQ 2188 391 2477 730 \nQ 2766 1069 2766 1631 \nL 2766 1759 \nL 2194 1759 \nz\nM 3341 1997 \nL 3341 0 \nL 2766 0 \nL 2766 531 \nQ 2569 213 2275 61 \nQ 1981 -91 1556 -91 \nQ 1019 -91 701 211 \nQ 384 513 384 1019 \nQ 384 1609 779 1909 \nQ 1175 2209 1959 2209 \nL 2766 2209 \nL 2766 2266 \nQ 2766 2663 2505 2880 \nQ 2244 3097 1772 3097 \nQ 1472 3097 1187 3025 \nQ 903 2953 641 2809 \nL 641 3341 \nQ 956 3463 1253 3523 \nQ 1550 3584 1831 3584 \nQ 2591 3584 2966 3190 \nQ 3341 2797 3341 1997 \nz\n\" id=\"DejaVuSans-61\" transform=\"scale(0.015625)\"/>\n       <path d=\"M 603 4863 \nL 1178 4863 \nL 1178 0 \nL 603 0 \nL 603 4863 \nz\n\" id=\"DejaVuSans-6c\" transform=\"scale(0.015625)\"/>\n       <path d=\"M 2834 3397 \nL 2834 2853 \nQ 2591 2978 2328 3040 \nQ 2066 3103 1784 3103 \nQ 1356 3103 1142 2972 \nQ 928 2841 928 2578 \nQ 928 2378 1081 2264 \nQ 1234 2150 1697 2047 \nL 1894 2003 \nQ 2506 1872 2764 1633 \nQ 3022 1394 3022 966 \nQ 3022 478 2636 193 \nQ 2250 -91 1575 -91 \nQ 1294 -91 989 -36 \nQ 684 19 347 128 \nL 347 722 \nQ 666 556 975 473 \nQ 1284 391 1588 391 \nQ 1994 391 2212 530 \nQ 2431 669 2431 922 \nQ 2431 1156 2273 1281 \nQ 2116 1406 1581 1522 \nL 1381 1569 \nQ 847 1681 609 1914 \nQ 372 2147 372 2553 \nQ 372 3047 722 3315 \nQ 1072 3584 1716 3584 \nQ 2034 3584 2315 3537 \nQ 2597 3491 2834 3397 \nz\n\" id=\"DejaVuSans-73\" transform=\"scale(0.015625)\"/>\n       <path d=\"M 3597 1894 \nL 3597 1613 \nL 953 1613 \nQ 991 1019 1311 708 \nQ 1631 397 2203 397 \nQ 2534 397 2845 478 \nQ 3156 559 3463 722 \nL 3463 178 \nQ 3153 47 2828 -22 \nQ 2503 -91 2169 -91 \nQ 1331 -91 842 396 \nQ 353 884 353 1716 \nQ 353 2575 817 3079 \nQ 1281 3584 2069 3584 \nQ 2775 3584 3186 3129 \nQ 3597 2675 3597 1894 \nz\nM 3022 2063 \nQ 3016 2534 2758 2815 \nQ 2500 3097 2075 3097 \nQ 1594 3097 1305 2825 \nQ 1016 2553 972 2059 \nL 3022 2063 \nz\n\" id=\"DejaVuSans-65\" transform=\"scale(0.015625)\"/>\n       <path id=\"DejaVuSans-20\" transform=\"scale(0.015625)\"/>\n       <path d=\"M 1259 4147 \nL 1259 2394 \nL 2053 2394 \nQ 2494 2394 2734 2622 \nQ 2975 2850 2975 3272 \nQ 2975 3691 2734 3919 \nQ 2494 4147 2053 4147 \nL 1259 4147 \nz\nM 628 4666 \nL 2053 4666 \nQ 2838 4666 3239 4311 \nQ 3641 3956 3641 3272 \nQ 3641 2581 3239 2228 \nQ 2838 1875 2053 1875 \nL 1259 1875 \nL 1259 0 \nL 628 0 \nL 628 4666 \nz\n\" id=\"DejaVuSans-50\" transform=\"scale(0.015625)\"/>\n       <path d=\"M 1959 3097 \nQ 1497 3097 1228 2736 \nQ 959 2375 959 1747 \nQ 959 1119 1226 758 \nQ 1494 397 1959 397 \nQ 2419 397 2687 759 \nQ 2956 1122 2956 1747 \nQ 2956 2369 2687 2733 \nQ 2419 3097 1959 3097 \nz\nM 1959 3584 \nQ 2709 3584 3137 3096 \nQ 3566 2609 3566 1747 \nQ 3566 888 3137 398 \nQ 2709 -91 1959 -91 \nQ 1206 -91 779 398 \nQ 353 888 353 1747 \nQ 353 2609 779 3096 \nQ 1206 3584 1959 3584 \nz\n\" id=\"DejaVuSans-6f\" transform=\"scale(0.015625)\"/>\n       <path d=\"M 603 3500 \nL 1178 3500 \nL 1178 0 \nL 603 0 \nL 603 3500 \nz\nM 603 4863 \nL 1178 4863 \nL 1178 4134 \nL 603 4134 \nL 603 4863 \nz\n\" id=\"DejaVuSans-69\" transform=\"scale(0.015625)\"/>\n       <path d=\"M 1172 4494 \nL 1172 3500 \nL 2356 3500 \nL 2356 3053 \nL 1172 3053 \nL 1172 1153 \nQ 1172 725 1289 603 \nQ 1406 481 1766 481 \nL 2356 481 \nL 2356 0 \nL 1766 0 \nQ 1100 0 847 248 \nQ 594 497 594 1153 \nL 594 3053 \nL 172 3053 \nL 172 3500 \nL 594 3500 \nL 594 4494 \nL 1172 4494 \nz\n\" id=\"DejaVuSans-74\" transform=\"scale(0.015625)\"/>\n       <path d=\"M 191 3500 \nL 800 3500 \nL 1894 563 \nL 2988 3500 \nL 3597 3500 \nL 2284 0 \nL 1503 0 \nL 191 3500 \nz\n\" id=\"DejaVuSans-76\" transform=\"scale(0.015625)\"/>\n       <path d=\"M 2841 2188 \nQ 3044 2119 3236 1894 \nQ 3428 1669 3622 1275 \nL 4263 0 \nL 3584 0 \nL 2988 1197 \nQ 2756 1666 2539 1819 \nQ 2322 1972 1947 1972 \nL 1259 1972 \nL 1259 0 \nL 628 0 \nL 628 4666 \nL 2053 4666 \nQ 2853 4666 3247 4331 \nQ 3641 3997 3641 3322 \nQ 3641 2881 3436 2590 \nQ 3231 2300 2841 2188 \nz\nM 1259 4147 \nL 1259 2491 \nL 2053 2491 \nQ 2509 2491 2742 2702 \nQ 2975 2913 2975 3322 \nQ 2975 3731 2742 3939 \nQ 2509 4147 2053 4147 \nL 1259 4147 \nz\n\" id=\"DejaVuSans-52\" transform=\"scale(0.015625)\"/>\n       <path d=\"M 1984 4856 \nQ 1566 4138 1362 3434 \nQ 1159 2731 1159 2009 \nQ 1159 1288 1364 580 \nQ 1569 -128 1984 -844 \nL 1484 -844 \nQ 1016 -109 783 600 \nQ 550 1309 550 2009 \nQ 550 2706 781 3412 \nQ 1013 4119 1484 4856 \nL 1984 4856 \nz\n\" id=\"DejaVuSans-28\" transform=\"scale(0.015625)\"/>\n       <path d=\"M 3116 1747 \nQ 3116 2381 2855 2742 \nQ 2594 3103 2138 3103 \nQ 1681 3103 1420 2742 \nQ 1159 2381 1159 1747 \nQ 1159 1113 1420 752 \nQ 1681 391 2138 391 \nQ 2594 391 2855 752 \nQ 3116 1113 3116 1747 \nz\nM 1159 2969 \nQ 1341 3281 1617 3432 \nQ 1894 3584 2278 3584 \nQ 2916 3584 3314 3078 \nQ 3713 2572 3713 1747 \nQ 3713 922 3314 415 \nQ 2916 -91 2278 -91 \nQ 1894 -91 1617 61 \nQ 1341 213 1159 525 \nL 1159 0 \nL 581 0 \nL 581 4863 \nL 1159 4863 \nL 1159 2969 \nz\n\" id=\"DejaVuSans-62\" transform=\"scale(0.015625)\"/>\n       <path d=\"M 750 794 \nL 1409 794 \nL 1409 0 \nL 750 0 \nL 750 794 \nz\nM 750 3309 \nL 1409 3309 \nL 1409 2516 \nL 750 2516 \nL 750 3309 \nz\n\" id=\"DejaVuSans-3a\" transform=\"scale(0.015625)\"/>\n       <path d=\"M 513 4856 \nL 1013 4856 \nQ 1481 4119 1714 3412 \nQ 1947 2706 1947 2009 \nQ 1947 1309 1714 600 \nQ 1481 -109 1013 -844 \nL 513 -844 \nQ 928 -128 1133 580 \nQ 1338 1288 1338 2009 \nQ 1338 2731 1133 3434 \nQ 928 4138 513 4856 \nz\n\" id=\"DejaVuSans-29\" transform=\"scale(0.015625)\"/>\n      </defs>\n      <use xlink:href=\"#DejaVuSans-46\"/>\n      <use x=\"48.394531\" xlink:href=\"#DejaVuSans-61\"/>\n      <use x=\"109.673828\" xlink:href=\"#DejaVuSans-6c\"/>\n      <use x=\"137.457031\" xlink:href=\"#DejaVuSans-73\"/>\n      <use x=\"189.556641\" xlink:href=\"#DejaVuSans-65\"/>\n      <use x=\"251.080078\" xlink:href=\"#DejaVuSans-20\"/>\n      <use x=\"282.867188\" xlink:href=\"#DejaVuSans-50\"/>\n      <use x=\"339.544922\" xlink:href=\"#DejaVuSans-6f\"/>\n      <use x=\"400.726562\" xlink:href=\"#DejaVuSans-73\"/>\n      <use x=\"452.826172\" xlink:href=\"#DejaVuSans-69\"/>\n      <use x=\"480.609375\" xlink:href=\"#DejaVuSans-74\"/>\n      <use x=\"519.818359\" xlink:href=\"#DejaVuSans-69\"/>\n      <use x=\"547.601562\" xlink:href=\"#DejaVuSans-76\"/>\n      <use x=\"606.78125\" xlink:href=\"#DejaVuSans-65\"/>\n      <use x=\"668.304688\" xlink:href=\"#DejaVuSans-20\"/>\n      <use x=\"700.091797\" xlink:href=\"#DejaVuSans-52\"/>\n      <use x=\"767.324219\" xlink:href=\"#DejaVuSans-61\"/>\n      <use x=\"828.603516\" xlink:href=\"#DejaVuSans-74\"/>\n      <use x=\"867.8125\" xlink:href=\"#DejaVuSans-65\"/>\n      <use x=\"929.335938\" xlink:href=\"#DejaVuSans-20\"/>\n      <use x=\"961.123047\" xlink:href=\"#DejaVuSans-28\"/>\n      <use x=\"1000.136719\" xlink:href=\"#DejaVuSans-50\"/>\n      <use x=\"1056.814453\" xlink:href=\"#DejaVuSans-6f\"/>\n      <use x=\"1117.996094\" xlink:href=\"#DejaVuSans-73\"/>\n      <use x=\"1170.095703\" xlink:href=\"#DejaVuSans-69\"/>\n      <use x=\"1197.878906\" xlink:href=\"#DejaVuSans-74\"/>\n      <use x=\"1237.087891\" xlink:href=\"#DejaVuSans-69\"/>\n      <use x=\"1264.871094\" xlink:href=\"#DejaVuSans-76\"/>\n      <use x=\"1324.050781\" xlink:href=\"#DejaVuSans-65\"/>\n      <use x=\"1385.574219\" xlink:href=\"#DejaVuSans-20\"/>\n      <use x=\"1417.361328\" xlink:href=\"#DejaVuSans-6c\"/>\n      <use x=\"1445.144531\" xlink:href=\"#DejaVuSans-61\"/>\n      <use x=\"1506.423828\" xlink:href=\"#DejaVuSans-62\"/>\n      <use x=\"1569.900391\" xlink:href=\"#DejaVuSans-65\"/>\n      <use x=\"1631.423828\" xlink:href=\"#DejaVuSans-6c\"/>\n      <use x=\"1659.207031\" xlink:href=\"#DejaVuSans-3a\"/>\n      <use x=\"1692.898438\" xlink:href=\"#DejaVuSans-20\"/>\n      <use x=\"1724.685547\" xlink:href=\"#DejaVuSans-31\"/>\n      <use x=\"1788.308594\" xlink:href=\"#DejaVuSans-29\"/>\n     </g>\n    </g>\n   </g>\n   <g id=\"matplotlib.axis_2\">\n    <g id=\"ytick_1\">\n     <g id=\"line2d_7\">\n      <defs>\n       <path d=\"M 0 0 \nL -3.5 0 \n\" id=\"mb78785597b\" style=\"stroke:#000000;stroke-width:0.8;\"/>\n      </defs>\n      <g>\n       <use style=\"stroke:#000000;stroke-width:0.8;\" x=\"43.78125\" xlink:href=\"#mb78785597b\" y=\"214.756364\"/>\n      </g>\n     </g>\n     <g id=\"text_8\">\n      <!-- 0.0 -->\n      <g transform=\"translate(20.878125 218.555582)scale(0.1 -0.1)\">\n       <use xlink:href=\"#DejaVuSans-30\"/>\n       <use x=\"63.623047\" xlink:href=\"#DejaVuSans-2e\"/>\n       <use x=\"95.410156\" xlink:href=\"#DejaVuSans-30\"/>\n      </g>\n     </g>\n    </g>\n    <g id=\"ytick_2\">\n     <g id=\"line2d_8\">\n      <g>\n       <use style=\"stroke:#000000;stroke-width:0.8;\" x=\"43.78125\" xlink:href=\"#mb78785597b\" y=\"175.221818\"/>\n      </g>\n     </g>\n     <g id=\"text_9\">\n      <!-- 0.2 -->\n      <g transform=\"translate(20.878125 179.021037)scale(0.1 -0.1)\">\n       <use xlink:href=\"#DejaVuSans-30\"/>\n       <use x=\"63.623047\" xlink:href=\"#DejaVuSans-2e\"/>\n       <use x=\"95.410156\" xlink:href=\"#DejaVuSans-32\"/>\n      </g>\n     </g>\n    </g>\n    <g id=\"ytick_3\">\n     <g id=\"line2d_9\">\n      <g>\n       <use style=\"stroke:#000000;stroke-width:0.8;\" x=\"43.78125\" xlink:href=\"#mb78785597b\" y=\"135.687273\"/>\n      </g>\n     </g>\n     <g id=\"text_10\">\n      <!-- 0.4 -->\n      <g transform=\"translate(20.878125 139.486491)scale(0.1 -0.1)\">\n       <use xlink:href=\"#DejaVuSans-30\"/>\n       <use x=\"63.623047\" xlink:href=\"#DejaVuSans-2e\"/>\n       <use x=\"95.410156\" xlink:href=\"#DejaVuSans-34\"/>\n      </g>\n     </g>\n    </g>\n    <g id=\"ytick_4\">\n     <g id=\"line2d_10\">\n      <g>\n       <use style=\"stroke:#000000;stroke-width:0.8;\" x=\"43.78125\" xlink:href=\"#mb78785597b\" y=\"96.152727\"/>\n      </g>\n     </g>\n     <g id=\"text_11\">\n      <!-- 0.6 -->\n      <g transform=\"translate(20.878125 99.951946)scale(0.1 -0.1)\">\n       <use xlink:href=\"#DejaVuSans-30\"/>\n       <use x=\"63.623047\" xlink:href=\"#DejaVuSans-2e\"/>\n       <use x=\"95.410156\" xlink:href=\"#DejaVuSans-36\"/>\n      </g>\n     </g>\n    </g>\n    <g id=\"ytick_5\">\n     <g id=\"line2d_11\">\n      <g>\n       <use style=\"stroke:#000000;stroke-width:0.8;\" x=\"43.78125\" xlink:href=\"#mb78785597b\" y=\"56.618182\"/>\n      </g>\n     </g>\n     <g id=\"text_12\">\n      <!-- 0.8 -->\n      <g transform=\"translate(20.878125 60.417401)scale(0.1 -0.1)\">\n       <use xlink:href=\"#DejaVuSans-30\"/>\n       <use x=\"63.623047\" xlink:href=\"#DejaVuSans-2e\"/>\n       <use x=\"95.410156\" xlink:href=\"#DejaVuSans-38\"/>\n      </g>\n     </g>\n    </g>\n    <g id=\"ytick_6\">\n     <g id=\"line2d_12\">\n      <g>\n       <use style=\"stroke:#000000;stroke-width:0.8;\" x=\"43.78125\" xlink:href=\"#mb78785597b\" y=\"17.083636\"/>\n      </g>\n     </g>\n     <g id=\"text_13\">\n      <!-- 1.0 -->\n      <g transform=\"translate(20.878125 20.882855)scale(0.1 -0.1)\">\n       <use xlink:href=\"#DejaVuSans-31\"/>\n       <use x=\"63.623047\" xlink:href=\"#DejaVuSans-2e\"/>\n       <use x=\"95.410156\" xlink:href=\"#DejaVuSans-30\"/>\n      </g>\n     </g>\n    </g>\n    <g id=\"text_14\">\n     <!-- True Positive Rate (Positive label: 1) -->\n     <g transform=\"translate(14.798438 205.348906)rotate(-90)scale(0.1 -0.1)\">\n      <defs>\n       <path d=\"M -19 4666 \nL 3928 4666 \nL 3928 4134 \nL 2272 4134 \nL 2272 0 \nL 1638 0 \nL 1638 4134 \nL -19 4134 \nL -19 4666 \nz\n\" id=\"DejaVuSans-54\" transform=\"scale(0.015625)\"/>\n       <path d=\"M 2631 2963 \nQ 2534 3019 2420 3045 \nQ 2306 3072 2169 3072 \nQ 1681 3072 1420 2755 \nQ 1159 2438 1159 1844 \nL 1159 0 \nL 581 0 \nL 581 3500 \nL 1159 3500 \nL 1159 2956 \nQ 1341 3275 1631 3429 \nQ 1922 3584 2338 3584 \nQ 2397 3584 2469 3576 \nQ 2541 3569 2628 3553 \nL 2631 2963 \nz\n\" id=\"DejaVuSans-72\" transform=\"scale(0.015625)\"/>\n       <path d=\"M 544 1381 \nL 544 3500 \nL 1119 3500 \nL 1119 1403 \nQ 1119 906 1312 657 \nQ 1506 409 1894 409 \nQ 2359 409 2629 706 \nQ 2900 1003 2900 1516 \nL 2900 3500 \nL 3475 3500 \nL 3475 0 \nL 2900 0 \nL 2900 538 \nQ 2691 219 2414 64 \nQ 2138 -91 1772 -91 \nQ 1169 -91 856 284 \nQ 544 659 544 1381 \nz\nM 1991 3584 \nL 1991 3584 \nz\n\" id=\"DejaVuSans-75\" transform=\"scale(0.015625)\"/>\n      </defs>\n      <use xlink:href=\"#DejaVuSans-54\"/>\n      <use x=\"46.333984\" xlink:href=\"#DejaVuSans-72\"/>\n      <use x=\"87.447266\" xlink:href=\"#DejaVuSans-75\"/>\n      <use x=\"150.826172\" xlink:href=\"#DejaVuSans-65\"/>\n      <use x=\"212.349609\" xlink:href=\"#DejaVuSans-20\"/>\n      <use x=\"244.136719\" xlink:href=\"#DejaVuSans-50\"/>\n      <use x=\"300.814453\" xlink:href=\"#DejaVuSans-6f\"/>\n      <use x=\"361.996094\" xlink:href=\"#DejaVuSans-73\"/>\n      <use x=\"414.095703\" xlink:href=\"#DejaVuSans-69\"/>\n      <use x=\"441.878906\" xlink:href=\"#DejaVuSans-74\"/>\n      <use x=\"481.087891\" xlink:href=\"#DejaVuSans-69\"/>\n      <use x=\"508.871094\" xlink:href=\"#DejaVuSans-76\"/>\n      <use x=\"568.050781\" xlink:href=\"#DejaVuSans-65\"/>\n      <use x=\"629.574219\" xlink:href=\"#DejaVuSans-20\"/>\n      <use x=\"661.361328\" xlink:href=\"#DejaVuSans-52\"/>\n      <use x=\"728.59375\" xlink:href=\"#DejaVuSans-61\"/>\n      <use x=\"789.873047\" xlink:href=\"#DejaVuSans-74\"/>\n      <use x=\"829.082031\" xlink:href=\"#DejaVuSans-65\"/>\n      <use x=\"890.605469\" xlink:href=\"#DejaVuSans-20\"/>\n      <use x=\"922.392578\" xlink:href=\"#DejaVuSans-28\"/>\n      <use x=\"961.40625\" xlink:href=\"#DejaVuSans-50\"/>\n      <use x=\"1018.083984\" xlink:href=\"#DejaVuSans-6f\"/>\n      <use x=\"1079.265625\" xlink:href=\"#DejaVuSans-73\"/>\n      <use x=\"1131.365234\" xlink:href=\"#DejaVuSans-69\"/>\n      <use x=\"1159.148438\" xlink:href=\"#DejaVuSans-74\"/>\n      <use x=\"1198.357422\" xlink:href=\"#DejaVuSans-69\"/>\n      <use x=\"1226.140625\" xlink:href=\"#DejaVuSans-76\"/>\n      <use x=\"1285.320312\" xlink:href=\"#DejaVuSans-65\"/>\n      <use x=\"1346.84375\" xlink:href=\"#DejaVuSans-20\"/>\n      <use x=\"1378.630859\" xlink:href=\"#DejaVuSans-6c\"/>\n      <use x=\"1406.414062\" xlink:href=\"#DejaVuSans-61\"/>\n      <use x=\"1467.693359\" xlink:href=\"#DejaVuSans-62\"/>\n      <use x=\"1531.169922\" xlink:href=\"#DejaVuSans-65\"/>\n      <use x=\"1592.693359\" xlink:href=\"#DejaVuSans-6c\"/>\n      <use x=\"1620.476562\" xlink:href=\"#DejaVuSans-3a\"/>\n      <use x=\"1654.167969\" xlink:href=\"#DejaVuSans-20\"/>\n      <use x=\"1685.955078\" xlink:href=\"#DejaVuSans-31\"/>\n      <use x=\"1749.578125\" xlink:href=\"#DejaVuSans-29\"/>\n     </g>\n    </g>\n   </g>\n   <g id=\"line2d_13\">\n    <path clip-path=\"url(#p8aadceb210)\" d=\"M 58.999432 214.756364 \nL 59.556945 213.041028 \nL 62.059368 206.859904 \nL 68.489915 193.817438 \nL 80.997777 173.967849 \nL 103.14082 146.690067 \nL 136.221326 116.030905 \nL 178.979571 85.854798 \nL 231.530464 57.14757 \nL 284.736753 35.21789 \nL 331.66996 22.145848 \nL 363.363068 17.083636 \n\" style=\"fill:none;stroke:#1f77b4;stroke-linecap:square;stroke-width:1.5;\"/>\n   </g>\n   <g id=\"patch_3\">\n    <path d=\"M 43.78125 224.64 \nL 43.78125 7.2 \n\" style=\"fill:none;stroke:#000000;stroke-linecap:square;stroke-linejoin:miter;stroke-width:0.8;\"/>\n   </g>\n   <g id=\"patch_4\">\n    <path d=\"M 378.58125 224.64 \nL 378.58125 7.2 \n\" style=\"fill:none;stroke:#000000;stroke-linecap:square;stroke-linejoin:miter;stroke-width:0.8;\"/>\n   </g>\n   <g id=\"patch_5\">\n    <path d=\"M 43.78125 224.64 \nL 378.58125 224.64 \n\" style=\"fill:none;stroke:#000000;stroke-linecap:square;stroke-linejoin:miter;stroke-width:0.8;\"/>\n   </g>\n   <g id=\"patch_6\">\n    <path d=\"M 43.78125 7.2 \nL 378.58125 7.2 \n\" style=\"fill:none;stroke:#000000;stroke-linecap:square;stroke-linejoin:miter;stroke-width:0.8;\"/>\n   </g>\n   <g id=\"legend_1\">\n    <g id=\"patch_7\">\n     <path d=\"M 201.295313 219.64 \nL 371.58125 219.64 \nQ 373.58125 219.64 373.58125 217.64 \nL 373.58125 203.961875 \nQ 373.58125 201.961875 371.58125 201.961875 \nL 201.295313 201.961875 \nQ 199.295313 201.961875 199.295313 203.961875 \nL 199.295313 217.64 \nQ 199.295313 219.64 201.295313 219.64 \nz\n\" style=\"fill:#ffffff;opacity:0.8;stroke:#cccccc;stroke-linejoin:miter;\"/>\n    </g>\n    <g id=\"line2d_14\">\n     <path d=\"M 203.295313 210.060312 \nL 223.295313 210.060312 \n\" style=\"fill:none;stroke:#1f77b4;stroke-linecap:square;stroke-width:1.5;\"/>\n    </g>\n    <g id=\"line2d_15\"/>\n    <g id=\"text_15\">\n     <!-- GridSearchCV (AUC = 0.68) -->\n     <g transform=\"translate(231.295313 213.560312)scale(0.1 -0.1)\">\n      <defs>\n       <path d=\"M 3809 666 \nL 3809 1919 \nL 2778 1919 \nL 2778 2438 \nL 4434 2438 \nL 4434 434 \nQ 4069 175 3628 42 \nQ 3188 -91 2688 -91 \nQ 1594 -91 976 548 \nQ 359 1188 359 2328 \nQ 359 3472 976 4111 \nQ 1594 4750 2688 4750 \nQ 3144 4750 3555 4637 \nQ 3966 4525 4313 4306 \nL 4313 3634 \nQ 3963 3931 3569 4081 \nQ 3175 4231 2741 4231 \nQ 1884 4231 1454 3753 \nQ 1025 3275 1025 2328 \nQ 1025 1384 1454 906 \nQ 1884 428 2741 428 \nQ 3075 428 3337 486 \nQ 3600 544 3809 666 \nz\n\" id=\"DejaVuSans-47\" transform=\"scale(0.015625)\"/>\n       <path d=\"M 2906 2969 \nL 2906 4863 \nL 3481 4863 \nL 3481 0 \nL 2906 0 \nL 2906 525 \nQ 2725 213 2448 61 \nQ 2172 -91 1784 -91 \nQ 1150 -91 751 415 \nQ 353 922 353 1747 \nQ 353 2572 751 3078 \nQ 1150 3584 1784 3584 \nQ 2172 3584 2448 3432 \nQ 2725 3281 2906 2969 \nz\nM 947 1747 \nQ 947 1113 1208 752 \nQ 1469 391 1925 391 \nQ 2381 391 2643 752 \nQ 2906 1113 2906 1747 \nQ 2906 2381 2643 2742 \nQ 2381 3103 1925 3103 \nQ 1469 3103 1208 2742 \nQ 947 2381 947 1747 \nz\n\" id=\"DejaVuSans-64\" transform=\"scale(0.015625)\"/>\n       <path d=\"M 3425 4513 \nL 3425 3897 \nQ 3066 4069 2747 4153 \nQ 2428 4238 2131 4238 \nQ 1616 4238 1336 4038 \nQ 1056 3838 1056 3469 \nQ 1056 3159 1242 3001 \nQ 1428 2844 1947 2747 \nL 2328 2669 \nQ 3034 2534 3370 2195 \nQ 3706 1856 3706 1288 \nQ 3706 609 3251 259 \nQ 2797 -91 1919 -91 \nQ 1588 -91 1214 -16 \nQ 841 59 441 206 \nL 441 856 \nQ 825 641 1194 531 \nQ 1563 422 1919 422 \nQ 2459 422 2753 634 \nQ 3047 847 3047 1241 \nQ 3047 1584 2836 1778 \nQ 2625 1972 2144 2069 \nL 1759 2144 \nQ 1053 2284 737 2584 \nQ 422 2884 422 3419 \nQ 422 4038 858 4394 \nQ 1294 4750 2059 4750 \nQ 2388 4750 2728 4690 \nQ 3069 4631 3425 4513 \nz\n\" id=\"DejaVuSans-53\" transform=\"scale(0.015625)\"/>\n       <path d=\"M 3122 3366 \nL 3122 2828 \nQ 2878 2963 2633 3030 \nQ 2388 3097 2138 3097 \nQ 1578 3097 1268 2742 \nQ 959 2388 959 1747 \nQ 959 1106 1268 751 \nQ 1578 397 2138 397 \nQ 2388 397 2633 464 \nQ 2878 531 3122 666 \nL 3122 134 \nQ 2881 22 2623 -34 \nQ 2366 -91 2075 -91 \nQ 1284 -91 818 406 \nQ 353 903 353 1747 \nQ 353 2603 823 3093 \nQ 1294 3584 2113 3584 \nQ 2378 3584 2631 3529 \nQ 2884 3475 3122 3366 \nz\n\" id=\"DejaVuSans-63\" transform=\"scale(0.015625)\"/>\n       <path d=\"M 3513 2113 \nL 3513 0 \nL 2938 0 \nL 2938 2094 \nQ 2938 2591 2744 2837 \nQ 2550 3084 2163 3084 \nQ 1697 3084 1428 2787 \nQ 1159 2491 1159 1978 \nL 1159 0 \nL 581 0 \nL 581 4863 \nL 1159 4863 \nL 1159 2956 \nQ 1366 3272 1645 3428 \nQ 1925 3584 2291 3584 \nQ 2894 3584 3203 3211 \nQ 3513 2838 3513 2113 \nz\n\" id=\"DejaVuSans-68\" transform=\"scale(0.015625)\"/>\n       <path d=\"M 4122 4306 \nL 4122 3641 \nQ 3803 3938 3442 4084 \nQ 3081 4231 2675 4231 \nQ 1875 4231 1450 3742 \nQ 1025 3253 1025 2328 \nQ 1025 1406 1450 917 \nQ 1875 428 2675 428 \nQ 3081 428 3442 575 \nQ 3803 722 4122 1019 \nL 4122 359 \nQ 3791 134 3420 21 \nQ 3050 -91 2638 -91 \nQ 1578 -91 968 557 \nQ 359 1206 359 2328 \nQ 359 3453 968 4101 \nQ 1578 4750 2638 4750 \nQ 3056 4750 3426 4639 \nQ 3797 4528 4122 4306 \nz\n\" id=\"DejaVuSans-43\" transform=\"scale(0.015625)\"/>\n       <path d=\"M 1831 0 \nL 50 4666 \nL 709 4666 \nL 2188 738 \nL 3669 4666 \nL 4325 4666 \nL 2547 0 \nL 1831 0 \nz\n\" id=\"DejaVuSans-56\" transform=\"scale(0.015625)\"/>\n       <path d=\"M 2188 4044 \nL 1331 1722 \nL 3047 1722 \nL 2188 4044 \nz\nM 1831 4666 \nL 2547 4666 \nL 4325 0 \nL 3669 0 \nL 3244 1197 \nL 1141 1197 \nL 716 0 \nL 50 0 \nL 1831 4666 \nz\n\" id=\"DejaVuSans-41\" transform=\"scale(0.015625)\"/>\n       <path d=\"M 556 4666 \nL 1191 4666 \nL 1191 1831 \nQ 1191 1081 1462 751 \nQ 1734 422 2344 422 \nQ 2950 422 3222 751 \nQ 3494 1081 3494 1831 \nL 3494 4666 \nL 4128 4666 \nL 4128 1753 \nQ 4128 841 3676 375 \nQ 3225 -91 2344 -91 \nQ 1459 -91 1007 375 \nQ 556 841 556 1753 \nL 556 4666 \nz\n\" id=\"DejaVuSans-55\" transform=\"scale(0.015625)\"/>\n       <path d=\"M 678 2906 \nL 4684 2906 \nL 4684 2381 \nL 678 2381 \nL 678 2906 \nz\nM 678 1631 \nL 4684 1631 \nL 4684 1100 \nL 678 1100 \nL 678 1631 \nz\n\" id=\"DejaVuSans-3d\" transform=\"scale(0.015625)\"/>\n      </defs>\n      <use xlink:href=\"#DejaVuSans-47\"/>\n      <use x=\"77.490234\" xlink:href=\"#DejaVuSans-72\"/>\n      <use x=\"118.603516\" xlink:href=\"#DejaVuSans-69\"/>\n      <use x=\"146.386719\" xlink:href=\"#DejaVuSans-64\"/>\n      <use x=\"209.863281\" xlink:href=\"#DejaVuSans-53\"/>\n      <use x=\"273.339844\" xlink:href=\"#DejaVuSans-65\"/>\n      <use x=\"334.863281\" xlink:href=\"#DejaVuSans-61\"/>\n      <use x=\"396.142578\" xlink:href=\"#DejaVuSans-72\"/>\n      <use x=\"435.005859\" xlink:href=\"#DejaVuSans-63\"/>\n      <use x=\"489.986328\" xlink:href=\"#DejaVuSans-68\"/>\n      <use x=\"553.365234\" xlink:href=\"#DejaVuSans-43\"/>\n      <use x=\"623.189453\" xlink:href=\"#DejaVuSans-56\"/>\n      <use x=\"691.597656\" xlink:href=\"#DejaVuSans-20\"/>\n      <use x=\"723.384766\" xlink:href=\"#DejaVuSans-28\"/>\n      <use x=\"762.398438\" xlink:href=\"#DejaVuSans-41\"/>\n      <use x=\"830.806641\" xlink:href=\"#DejaVuSans-55\"/>\n      <use x=\"904\" xlink:href=\"#DejaVuSans-43\"/>\n      <use x=\"973.824219\" xlink:href=\"#DejaVuSans-20\"/>\n      <use x=\"1005.611328\" xlink:href=\"#DejaVuSans-3d\"/>\n      <use x=\"1089.400391\" xlink:href=\"#DejaVuSans-20\"/>\n      <use x=\"1121.1875\" xlink:href=\"#DejaVuSans-30\"/>\n      <use x=\"1184.810547\" xlink:href=\"#DejaVuSans-2e\"/>\n      <use x=\"1216.597656\" xlink:href=\"#DejaVuSans-36\"/>\n      <use x=\"1280.220703\" xlink:href=\"#DejaVuSans-38\"/>\n      <use x=\"1343.84375\" xlink:href=\"#DejaVuSans-29\"/>\n     </g>\n    </g>\n   </g>\n  </g>\n </g>\n <defs>\n  <clipPath id=\"p8aadceb210\">\n   <rect height=\"217.44\" width=\"334.8\" x=\"43.78125\" y=\"7.2\"/>\n  </clipPath>\n </defs>\n</svg>\n",
      "image/png": "[encoded data removed]"
     },
     "metadata": {
      "needs_background": "light"
     }
    }
   ],
   "source": [
    "plot_roc_curve(knn_cv, X_test, y_test)\n",
    "plt.show()"
   ]
  },
  {
   "source": [
    "Model built with KNN has AUC score = 0.68.\n",
    "\n",
    "And classification report:"
   ],
   "cell_type": "markdown",
   "metadata": {}
  },
  {
   "cell_type": "code",
   "execution_count": 134,
   "metadata": {},
   "outputs": [
    {
     "output_type": "stream",
     "name": "stdout",
     "text": [
      "              precision    recall  f1-score   support\n\n           0       0.70      0.85      0.77     71517\n           1       0.57      0.34      0.43     40103\n\n    accuracy                           0.67    111620\n   macro avg       0.64      0.60      0.60    111620\nweighted avg       0.65      0.67      0.65    111620\n\n"
     ]
    }
   ],
   "source": [
    "y_true, y_pred_knn = y_test, knn_cv.predict(X_test)\n",
    "print(classification_report(y_test, y_pred_knn))"
   ]
  },
  {
   "source": [
    "### Decision Tree"
   ],
   "cell_type": "markdown",
   "metadata": {}
  },
  {
   "cell_type": "code",
   "execution_count": 146,
   "metadata": {},
   "outputs": [
    {
     "output_type": "display_data",
     "data": {
      "text/plain": "<Figure size 432x288 with 1 Axes>",
      "image/svg+xml": "<?xml version=\"1.0\" encoding=\"utf-8\" standalone=\"no\"?>\n<!DOCTYPE svg PUBLIC \"-//W3C//DTD SVG 1.1//EN\"\n  \"http://www.w3.org/Graphics/SVG/1.1/DTD/svg11.dtd\">\n<svg height=\"262.19625pt\" version=\"1.1\" viewBox=\"0 0 385.78125 262.19625\" width=\"385.78125pt\" xmlns=\"http://www.w3.org/2000/svg\" xmlns:xlink=\"http://www.w3.org/1999/xlink\">\n <metadata>\n  <rdf:RDF xmlns:cc=\"http://creativecommons.org/ns#\" xmlns:dc=\"http://purl.org/dc/elements/1.1/\" xmlns:rdf=\"http://www.w3.org/1999/02/22-rdf-syntax-ns#\">\n   <cc:Work>\n    <dc:type rdf:resource=\"http://purl.org/dc/dcmitype/StillImage\"/>\n    <dc:date>2021-04-11T21:06:07.140762</dc:date>\n    <dc:format>image/svg+xml</dc:format>\n    <dc:creator>\n     <cc:Agent>\n      <dc:title>Matplotlib v3.4.0, https://matplotlib.org/</dc:title>\n     </cc:Agent>\n    </dc:creator>\n   </cc:Work>\n  </rdf:RDF>\n </metadata>\n <defs>\n  <style type=\"text/css\">*{stroke-linecap:butt;stroke-linejoin:round;}</style>\n </defs>\n <g id=\"figure_1\">\n  <g id=\"patch_1\">\n   <path d=\"M 0 262.19625 \nL 385.78125 262.19625 \nL 385.78125 0 \nL 0 0 \nz\n\" style=\"fill:none;\"/>\n  </g>\n  <g id=\"axes_1\">\n   <g id=\"patch_2\">\n    <path d=\"M 43.78125 224.64 \nL 378.58125 224.64 \nL 378.58125 7.2 \nL 43.78125 7.2 \nz\n\" style=\"fill:#ffffff;\"/>\n   </g>\n   <g id=\"matplotlib.axis_1\">\n    <g id=\"xtick_1\">\n     <g id=\"line2d_1\">\n      <defs>\n       <path d=\"M 0 0 \nL 0 3.5 \n\" id=\"mbe5e99b11e\" style=\"stroke:#000000;stroke-width:0.8;\"/>\n      </defs>\n      <g>\n       <use style=\"stroke:#000000;stroke-width:0.8;\" x=\"58.999432\" xlink:href=\"#mbe5e99b11e\" y=\"224.64\"/>\n      </g>\n     </g>\n     <g id=\"text_1\">\n      <!-- 0.0 -->\n      <g transform=\"translate(51.047869 239.238437)scale(0.1 -0.1)\">\n       <defs>\n        <path d=\"M 2034 4250 \nQ 1547 4250 1301 3770 \nQ 1056 3291 1056 2328 \nQ 1056 1369 1301 889 \nQ 1547 409 2034 409 \nQ 2525 409 2770 889 \nQ 3016 1369 3016 2328 \nQ 3016 3291 2770 3770 \nQ 2525 4250 2034 4250 \nz\nM 2034 4750 \nQ 2819 4750 3233 4129 \nQ 3647 3509 3647 2328 \nQ 3647 1150 3233 529 \nQ 2819 -91 2034 -91 \nQ 1250 -91 836 529 \nQ 422 1150 422 2328 \nQ 422 3509 836 4129 \nQ 1250 4750 2034 4750 \nz\n\" id=\"DejaVuSans-30\" transform=\"scale(0.015625)\"/>\n        <path d=\"M 684 794 \nL 1344 794 \nL 1344 0 \nL 684 0 \nL 684 794 \nz\n\" id=\"DejaVuSans-2e\" transform=\"scale(0.015625)\"/>\n       </defs>\n       <use xlink:href=\"#DejaVuSans-30\"/>\n       <use x=\"63.623047\" xlink:href=\"#DejaVuSans-2e\"/>\n       <use x=\"95.410156\" xlink:href=\"#DejaVuSans-30\"/>\n      </g>\n     </g>\n    </g>\n    <g id=\"xtick_2\">\n     <g id=\"line2d_2\">\n      <g>\n       <use style=\"stroke:#000000;stroke-width:0.8;\" x=\"119.872159\" xlink:href=\"#mbe5e99b11e\" y=\"224.64\"/>\n      </g>\n     </g>\n     <g id=\"text_2\">\n      <!-- 0.2 -->\n      <g transform=\"translate(111.920597 239.238437)scale(0.1 -0.1)\">\n       <defs>\n        <path d=\"M 1228 531 \nL 3431 531 \nL 3431 0 \nL 469 0 \nL 469 531 \nQ 828 903 1448 1529 \nQ 2069 2156 2228 2338 \nQ 2531 2678 2651 2914 \nQ 2772 3150 2772 3378 \nQ 2772 3750 2511 3984 \nQ 2250 4219 1831 4219 \nQ 1534 4219 1204 4116 \nQ 875 4013 500 3803 \nL 500 4441 \nQ 881 4594 1212 4672 \nQ 1544 4750 1819 4750 \nQ 2544 4750 2975 4387 \nQ 3406 4025 3406 3419 \nQ 3406 3131 3298 2873 \nQ 3191 2616 2906 2266 \nQ 2828 2175 2409 1742 \nQ 1991 1309 1228 531 \nz\n\" id=\"DejaVuSans-32\" transform=\"scale(0.015625)\"/>\n       </defs>\n       <use xlink:href=\"#DejaVuSans-30\"/>\n       <use x=\"63.623047\" xlink:href=\"#DejaVuSans-2e\"/>\n       <use x=\"95.410156\" xlink:href=\"#DejaVuSans-32\"/>\n      </g>\n     </g>\n    </g>\n    <g id=\"xtick_3\">\n     <g id=\"line2d_3\">\n      <g>\n       <use style=\"stroke:#000000;stroke-width:0.8;\" x=\"180.744886\" xlink:href=\"#mbe5e99b11e\" y=\"224.64\"/>\n      </g>\n     </g>\n     <g id=\"text_3\">\n      <!-- 0.4 -->\n      <g transform=\"translate(172.793324 239.238437)scale(0.1 -0.1)\">\n       <defs>\n        <path d=\"M 2419 4116 \nL 825 1625 \nL 2419 1625 \nL 2419 4116 \nz\nM 2253 4666 \nL 3047 4666 \nL 3047 1625 \nL 3713 1625 \nL 3713 1100 \nL 3047 1100 \nL 3047 0 \nL 2419 0 \nL 2419 1100 \nL 313 1100 \nL 313 1709 \nL 2253 4666 \nz\n\" id=\"DejaVuSans-34\" transform=\"scale(0.015625)\"/>\n       </defs>\n       <use xlink:href=\"#DejaVuSans-30\"/>\n       <use x=\"63.623047\" xlink:href=\"#DejaVuSans-2e\"/>\n       <use x=\"95.410156\" xlink:href=\"#DejaVuSans-34\"/>\n      </g>\n     </g>\n    </g>\n    <g id=\"xtick_4\">\n     <g id=\"line2d_4\">\n      <g>\n       <use style=\"stroke:#000000;stroke-width:0.8;\" x=\"241.617614\" xlink:href=\"#mbe5e99b11e\" y=\"224.64\"/>\n      </g>\n     </g>\n     <g id=\"text_4\">\n      <!-- 0.6 -->\n      <g transform=\"translate(233.666051 239.238437)scale(0.1 -0.1)\">\n       <defs>\n        <path d=\"M 2113 2584 \nQ 1688 2584 1439 2293 \nQ 1191 2003 1191 1497 \nQ 1191 994 1439 701 \nQ 1688 409 2113 409 \nQ 2538 409 2786 701 \nQ 3034 994 3034 1497 \nQ 3034 2003 2786 2293 \nQ 2538 2584 2113 2584 \nz\nM 3366 4563 \nL 3366 3988 \nQ 3128 4100 2886 4159 \nQ 2644 4219 2406 4219 \nQ 1781 4219 1451 3797 \nQ 1122 3375 1075 2522 \nQ 1259 2794 1537 2939 \nQ 1816 3084 2150 3084 \nQ 2853 3084 3261 2657 \nQ 3669 2231 3669 1497 \nQ 3669 778 3244 343 \nQ 2819 -91 2113 -91 \nQ 1303 -91 875 529 \nQ 447 1150 447 2328 \nQ 447 3434 972 4092 \nQ 1497 4750 2381 4750 \nQ 2619 4750 2861 4703 \nQ 3103 4656 3366 4563 \nz\n\" id=\"DejaVuSans-36\" transform=\"scale(0.015625)\"/>\n       </defs>\n       <use xlink:href=\"#DejaVuSans-30\"/>\n       <use x=\"63.623047\" xlink:href=\"#DejaVuSans-2e\"/>\n       <use x=\"95.410156\" xlink:href=\"#DejaVuSans-36\"/>\n      </g>\n     </g>\n    </g>\n    <g id=\"xtick_5\">\n     <g id=\"line2d_5\">\n      <g>\n       <use style=\"stroke:#000000;stroke-width:0.8;\" x=\"302.490341\" xlink:href=\"#mbe5e99b11e\" y=\"224.64\"/>\n      </g>\n     </g>\n     <g id=\"text_5\">\n      <!-- 0.8 -->\n      <g transform=\"translate(294.538778 239.238437)scale(0.1 -0.1)\">\n       <defs>\n        <path d=\"M 2034 2216 \nQ 1584 2216 1326 1975 \nQ 1069 1734 1069 1313 \nQ 1069 891 1326 650 \nQ 1584 409 2034 409 \nQ 2484 409 2743 651 \nQ 3003 894 3003 1313 \nQ 3003 1734 2745 1975 \nQ 2488 2216 2034 2216 \nz\nM 1403 2484 \nQ 997 2584 770 2862 \nQ 544 3141 544 3541 \nQ 544 4100 942 4425 \nQ 1341 4750 2034 4750 \nQ 2731 4750 3128 4425 \nQ 3525 4100 3525 3541 \nQ 3525 3141 3298 2862 \nQ 3072 2584 2669 2484 \nQ 3125 2378 3379 2068 \nQ 3634 1759 3634 1313 \nQ 3634 634 3220 271 \nQ 2806 -91 2034 -91 \nQ 1263 -91 848 271 \nQ 434 634 434 1313 \nQ 434 1759 690 2068 \nQ 947 2378 1403 2484 \nz\nM 1172 3481 \nQ 1172 3119 1398 2916 \nQ 1625 2713 2034 2713 \nQ 2441 2713 2670 2916 \nQ 2900 3119 2900 3481 \nQ 2900 3844 2670 4047 \nQ 2441 4250 2034 4250 \nQ 1625 4250 1398 4047 \nQ 1172 3844 1172 3481 \nz\n\" id=\"DejaVuSans-38\" transform=\"scale(0.015625)\"/>\n       </defs>\n       <use xlink:href=\"#DejaVuSans-30\"/>\n       <use x=\"63.623047\" xlink:href=\"#DejaVuSans-2e\"/>\n       <use x=\"95.410156\" xlink:href=\"#DejaVuSans-38\"/>\n      </g>\n     </g>\n    </g>\n    <g id=\"xtick_6\">\n     <g id=\"line2d_6\">\n      <g>\n       <use style=\"stroke:#000000;stroke-width:0.8;\" x=\"363.363068\" xlink:href=\"#mbe5e99b11e\" y=\"224.64\"/>\n      </g>\n     </g>\n     <g id=\"text_6\">\n      <!-- 1.0 -->\n      <g transform=\"translate(355.411506 239.238437)scale(0.1 -0.1)\">\n       <defs>\n        <path d=\"M 794 531 \nL 1825 531 \nL 1825 4091 \nL 703 3866 \nL 703 4441 \nL 1819 4666 \nL 2450 4666 \nL 2450 531 \nL 3481 531 \nL 3481 0 \nL 794 0 \nL 794 531 \nz\n\" id=\"DejaVuSans-31\" transform=\"scale(0.015625)\"/>\n       </defs>\n       <use xlink:href=\"#DejaVuSans-31\"/>\n       <use x=\"63.623047\" xlink:href=\"#DejaVuSans-2e\"/>\n       <use x=\"95.410156\" xlink:href=\"#DejaVuSans-30\"/>\n      </g>\n     </g>\n    </g>\n    <g id=\"text_7\">\n     <!-- False Positive Rate (Positive label: 1) -->\n     <g transform=\"translate(119.815625 252.916562)scale(0.1 -0.1)\">\n      <defs>\n       <path d=\"M 628 4666 \nL 3309 4666 \nL 3309 4134 \nL 1259 4134 \nL 1259 2759 \nL 3109 2759 \nL 3109 2228 \nL 1259 2228 \nL 1259 0 \nL 628 0 \nL 628 4666 \nz\n\" id=\"DejaVuSans-46\" transform=\"scale(0.015625)\"/>\n       <path d=\"M 2194 1759 \nQ 1497 1759 1228 1600 \nQ 959 1441 959 1056 \nQ 959 750 1161 570 \nQ 1363 391 1709 391 \nQ 2188 391 2477 730 \nQ 2766 1069 2766 1631 \nL 2766 1759 \nL 2194 1759 \nz\nM 3341 1997 \nL 3341 0 \nL 2766 0 \nL 2766 531 \nQ 2569 213 2275 61 \nQ 1981 -91 1556 -91 \nQ 1019 -91 701 211 \nQ 384 513 384 1019 \nQ 384 1609 779 1909 \nQ 1175 2209 1959 2209 \nL 2766 2209 \nL 2766 2266 \nQ 2766 2663 2505 2880 \nQ 2244 3097 1772 3097 \nQ 1472 3097 1187 3025 \nQ 903 2953 641 2809 \nL 641 3341 \nQ 956 3463 1253 3523 \nQ 1550 3584 1831 3584 \nQ 2591 3584 2966 3190 \nQ 3341 2797 3341 1997 \nz\n\" id=\"DejaVuSans-61\" transform=\"scale(0.015625)\"/>\n       <path d=\"M 603 4863 \nL 1178 4863 \nL 1178 0 \nL 603 0 \nL 603 4863 \nz\n\" id=\"DejaVuSans-6c\" transform=\"scale(0.015625)\"/>\n       <path d=\"M 2834 3397 \nL 2834 2853 \nQ 2591 2978 2328 3040 \nQ 2066 3103 1784 3103 \nQ 1356 3103 1142 2972 \nQ 928 2841 928 2578 \nQ 928 2378 1081 2264 \nQ 1234 2150 1697 2047 \nL 1894 2003 \nQ 2506 1872 2764 1633 \nQ 3022 1394 3022 966 \nQ 3022 478 2636 193 \nQ 2250 -91 1575 -91 \nQ 1294 -91 989 -36 \nQ 684 19 347 128 \nL 347 722 \nQ 666 556 975 473 \nQ 1284 391 1588 391 \nQ 1994 391 2212 530 \nQ 2431 669 2431 922 \nQ 2431 1156 2273 1281 \nQ 2116 1406 1581 1522 \nL 1381 1569 \nQ 847 1681 609 1914 \nQ 372 2147 372 2553 \nQ 372 3047 722 3315 \nQ 1072 3584 1716 3584 \nQ 2034 3584 2315 3537 \nQ 2597 3491 2834 3397 \nz\n\" id=\"DejaVuSans-73\" transform=\"scale(0.015625)\"/>\n       <path d=\"M 3597 1894 \nL 3597 1613 \nL 953 1613 \nQ 991 1019 1311 708 \nQ 1631 397 2203 397 \nQ 2534 397 2845 478 \nQ 3156 559 3463 722 \nL 3463 178 \nQ 3153 47 2828 -22 \nQ 2503 -91 2169 -91 \nQ 1331 -91 842 396 \nQ 353 884 353 1716 \nQ 353 2575 817 3079 \nQ 1281 3584 2069 3584 \nQ 2775 3584 3186 3129 \nQ 3597 2675 3597 1894 \nz\nM 3022 2063 \nQ 3016 2534 2758 2815 \nQ 2500 3097 2075 3097 \nQ 1594 3097 1305 2825 \nQ 1016 2553 972 2059 \nL 3022 2063 \nz\n\" id=\"DejaVuSans-65\" transform=\"scale(0.015625)\"/>\n       <path id=\"DejaVuSans-20\" transform=\"scale(0.015625)\"/>\n       <path d=\"M 1259 4147 \nL 1259 2394 \nL 2053 2394 \nQ 2494 2394 2734 2622 \nQ 2975 2850 2975 3272 \nQ 2975 3691 2734 3919 \nQ 2494 4147 2053 4147 \nL 1259 4147 \nz\nM 628 4666 \nL 2053 4666 \nQ 2838 4666 3239 4311 \nQ 3641 3956 3641 3272 \nQ 3641 2581 3239 2228 \nQ 2838 1875 2053 1875 \nL 1259 1875 \nL 1259 0 \nL 628 0 \nL 628 4666 \nz\n\" id=\"DejaVuSans-50\" transform=\"scale(0.015625)\"/>\n       <path d=\"M 1959 3097 \nQ 1497 3097 1228 2736 \nQ 959 2375 959 1747 \nQ 959 1119 1226 758 \nQ 1494 397 1959 397 \nQ 2419 397 2687 759 \nQ 2956 1122 2956 1747 \nQ 2956 2369 2687 2733 \nQ 2419 3097 1959 3097 \nz\nM 1959 3584 \nQ 2709 3584 3137 3096 \nQ 3566 2609 3566 1747 \nQ 3566 888 3137 398 \nQ 2709 -91 1959 -91 \nQ 1206 -91 779 398 \nQ 353 888 353 1747 \nQ 353 2609 779 3096 \nQ 1206 3584 1959 3584 \nz\n\" id=\"DejaVuSans-6f\" transform=\"scale(0.015625)\"/>\n       <path d=\"M 603 3500 \nL 1178 3500 \nL 1178 0 \nL 603 0 \nL 603 3500 \nz\nM 603 4863 \nL 1178 4863 \nL 1178 4134 \nL 603 4134 \nL 603 4863 \nz\n\" id=\"DejaVuSans-69\" transform=\"scale(0.015625)\"/>\n       <path d=\"M 1172 4494 \nL 1172 3500 \nL 2356 3500 \nL 2356 3053 \nL 1172 3053 \nL 1172 1153 \nQ 1172 725 1289 603 \nQ 1406 481 1766 481 \nL 2356 481 \nL 2356 0 \nL 1766 0 \nQ 1100 0 847 248 \nQ 594 497 594 1153 \nL 594 3053 \nL 172 3053 \nL 172 3500 \nL 594 3500 \nL 594 4494 \nL 1172 4494 \nz\n\" id=\"DejaVuSans-74\" transform=\"scale(0.015625)\"/>\n       <path d=\"M 191 3500 \nL 800 3500 \nL 1894 563 \nL 2988 3500 \nL 3597 3500 \nL 2284 0 \nL 1503 0 \nL 191 3500 \nz\n\" id=\"DejaVuSans-76\" transform=\"scale(0.015625)\"/>\n       <path d=\"M 2841 2188 \nQ 3044 2119 3236 1894 \nQ 3428 1669 3622 1275 \nL 4263 0 \nL 3584 0 \nL 2988 1197 \nQ 2756 1666 2539 1819 \nQ 2322 1972 1947 1972 \nL 1259 1972 \nL 1259 0 \nL 628 0 \nL 628 4666 \nL 2053 4666 \nQ 2853 4666 3247 4331 \nQ 3641 3997 3641 3322 \nQ 3641 2881 3436 2590 \nQ 3231 2300 2841 2188 \nz\nM 1259 4147 \nL 1259 2491 \nL 2053 2491 \nQ 2509 2491 2742 2702 \nQ 2975 2913 2975 3322 \nQ 2975 3731 2742 3939 \nQ 2509 4147 2053 4147 \nL 1259 4147 \nz\n\" id=\"DejaVuSans-52\" transform=\"scale(0.015625)\"/>\n       <path d=\"M 1984 4856 \nQ 1566 4138 1362 3434 \nQ 1159 2731 1159 2009 \nQ 1159 1288 1364 580 \nQ 1569 -128 1984 -844 \nL 1484 -844 \nQ 1016 -109 783 600 \nQ 550 1309 550 2009 \nQ 550 2706 781 3412 \nQ 1013 4119 1484 4856 \nL 1984 4856 \nz\n\" id=\"DejaVuSans-28\" transform=\"scale(0.015625)\"/>\n       <path d=\"M 3116 1747 \nQ 3116 2381 2855 2742 \nQ 2594 3103 2138 3103 \nQ 1681 3103 1420 2742 \nQ 1159 2381 1159 1747 \nQ 1159 1113 1420 752 \nQ 1681 391 2138 391 \nQ 2594 391 2855 752 \nQ 3116 1113 3116 1747 \nz\nM 1159 2969 \nQ 1341 3281 1617 3432 \nQ 1894 3584 2278 3584 \nQ 2916 3584 3314 3078 \nQ 3713 2572 3713 1747 \nQ 3713 922 3314 415 \nQ 2916 -91 2278 -91 \nQ 1894 -91 1617 61 \nQ 1341 213 1159 525 \nL 1159 0 \nL 581 0 \nL 581 4863 \nL 1159 4863 \nL 1159 2969 \nz\n\" id=\"DejaVuSans-62\" transform=\"scale(0.015625)\"/>\n       <path d=\"M 750 794 \nL 1409 794 \nL 1409 0 \nL 750 0 \nL 750 794 \nz\nM 750 3309 \nL 1409 3309 \nL 1409 2516 \nL 750 2516 \nL 750 3309 \nz\n\" id=\"DejaVuSans-3a\" transform=\"scale(0.015625)\"/>\n       <path d=\"M 513 4856 \nL 1013 4856 \nQ 1481 4119 1714 3412 \nQ 1947 2706 1947 2009 \nQ 1947 1309 1714 600 \nQ 1481 -109 1013 -844 \nL 513 -844 \nQ 928 -128 1133 580 \nQ 1338 1288 1338 2009 \nQ 1338 2731 1133 3434 \nQ 928 4138 513 4856 \nz\n\" id=\"DejaVuSans-29\" transform=\"scale(0.015625)\"/>\n      </defs>\n      <use xlink:href=\"#DejaVuSans-46\"/>\n      <use x=\"48.394531\" xlink:href=\"#DejaVuSans-61\"/>\n      <use x=\"109.673828\" xlink:href=\"#DejaVuSans-6c\"/>\n      <use x=\"137.457031\" xlink:href=\"#DejaVuSans-73\"/>\n      <use x=\"189.556641\" xlink:href=\"#DejaVuSans-65\"/>\n      <use x=\"251.080078\" xlink:href=\"#DejaVuSans-20\"/>\n      <use x=\"282.867188\" xlink:href=\"#DejaVuSans-50\"/>\n      <use x=\"339.544922\" xlink:href=\"#DejaVuSans-6f\"/>\n      <use x=\"400.726562\" xlink:href=\"#DejaVuSans-73\"/>\n      <use x=\"452.826172\" xlink:href=\"#DejaVuSans-69\"/>\n      <use x=\"480.609375\" xlink:href=\"#DejaVuSans-74\"/>\n      <use x=\"519.818359\" xlink:href=\"#DejaVuSans-69\"/>\n      <use x=\"547.601562\" xlink:href=\"#DejaVuSans-76\"/>\n      <use x=\"606.78125\" xlink:href=\"#DejaVuSans-65\"/>\n      <use x=\"668.304688\" xlink:href=\"#DejaVuSans-20\"/>\n      <use x=\"700.091797\" xlink:href=\"#DejaVuSans-52\"/>\n      <use x=\"767.324219\" xlink:href=\"#DejaVuSans-61\"/>\n      <use x=\"828.603516\" xlink:href=\"#DejaVuSans-74\"/>\n      <use x=\"867.8125\" xlink:href=\"#DejaVuSans-65\"/>\n      <use x=\"929.335938\" xlink:href=\"#DejaVuSans-20\"/>\n      <use x=\"961.123047\" xlink:href=\"#DejaVuSans-28\"/>\n      <use x=\"1000.136719\" xlink:href=\"#DejaVuSans-50\"/>\n      <use x=\"1056.814453\" xlink:href=\"#DejaVuSans-6f\"/>\n      <use x=\"1117.996094\" xlink:href=\"#DejaVuSans-73\"/>\n      <use x=\"1170.095703\" xlink:href=\"#DejaVuSans-69\"/>\n      <use x=\"1197.878906\" xlink:href=\"#DejaVuSans-74\"/>\n      <use x=\"1237.087891\" xlink:href=\"#DejaVuSans-69\"/>\n      <use x=\"1264.871094\" xlink:href=\"#DejaVuSans-76\"/>\n      <use x=\"1324.050781\" xlink:href=\"#DejaVuSans-65\"/>\n      <use x=\"1385.574219\" xlink:href=\"#DejaVuSans-20\"/>\n      <use x=\"1417.361328\" xlink:href=\"#DejaVuSans-6c\"/>\n      <use x=\"1445.144531\" xlink:href=\"#DejaVuSans-61\"/>\n      <use x=\"1506.423828\" xlink:href=\"#DejaVuSans-62\"/>\n      <use x=\"1569.900391\" xlink:href=\"#DejaVuSans-65\"/>\n      <use x=\"1631.423828\" xlink:href=\"#DejaVuSans-6c\"/>\n      <use x=\"1659.207031\" xlink:href=\"#DejaVuSans-3a\"/>\n      <use x=\"1692.898438\" xlink:href=\"#DejaVuSans-20\"/>\n      <use x=\"1724.685547\" xlink:href=\"#DejaVuSans-31\"/>\n      <use x=\"1788.308594\" xlink:href=\"#DejaVuSans-29\"/>\n     </g>\n    </g>\n   </g>\n   <g id=\"matplotlib.axis_2\">\n    <g id=\"ytick_1\">\n     <g id=\"line2d_7\">\n      <defs>\n       <path d=\"M 0 0 \nL -3.5 0 \n\" id=\"mad98fc5edd\" style=\"stroke:#000000;stroke-width:0.8;\"/>\n      </defs>\n      <g>\n       <use style=\"stroke:#000000;stroke-width:0.8;\" x=\"43.78125\" xlink:href=\"#mad98fc5edd\" y=\"214.756364\"/>\n      </g>\n     </g>\n     <g id=\"text_8\">\n      <!-- 0.0 -->\n      <g transform=\"translate(20.878125 218.555582)scale(0.1 -0.1)\">\n       <use xlink:href=\"#DejaVuSans-30\"/>\n       <use x=\"63.623047\" xlink:href=\"#DejaVuSans-2e\"/>\n       <use x=\"95.410156\" xlink:href=\"#DejaVuSans-30\"/>\n      </g>\n     </g>\n    </g>\n    <g id=\"ytick_2\">\n     <g id=\"line2d_8\">\n      <g>\n       <use style=\"stroke:#000000;stroke-width:0.8;\" x=\"43.78125\" xlink:href=\"#mad98fc5edd\" y=\"175.221818\"/>\n      </g>\n     </g>\n     <g id=\"text_9\">\n      <!-- 0.2 -->\n      <g transform=\"translate(20.878125 179.021037)scale(0.1 -0.1)\">\n       <use xlink:href=\"#DejaVuSans-30\"/>\n       <use x=\"63.623047\" xlink:href=\"#DejaVuSans-2e\"/>\n       <use x=\"95.410156\" xlink:href=\"#DejaVuSans-32\"/>\n      </g>\n     </g>\n    </g>\n    <g id=\"ytick_3\">\n     <g id=\"line2d_9\">\n      <g>\n       <use style=\"stroke:#000000;stroke-width:0.8;\" x=\"43.78125\" xlink:href=\"#mad98fc5edd\" y=\"135.687273\"/>\n      </g>\n     </g>\n     <g id=\"text_10\">\n      <!-- 0.4 -->\n      <g transform=\"translate(20.878125 139.486491)scale(0.1 -0.1)\">\n       <use xlink:href=\"#DejaVuSans-30\"/>\n       <use x=\"63.623047\" xlink:href=\"#DejaVuSans-2e\"/>\n       <use x=\"95.410156\" xlink:href=\"#DejaVuSans-34\"/>\n      </g>\n     </g>\n    </g>\n    <g id=\"ytick_4\">\n     <g id=\"line2d_10\">\n      <g>\n       <use style=\"stroke:#000000;stroke-width:0.8;\" x=\"43.78125\" xlink:href=\"#mad98fc5edd\" y=\"96.152727\"/>\n      </g>\n     </g>\n     <g id=\"text_11\">\n      <!-- 0.6 -->\n      <g transform=\"translate(20.878125 99.951946)scale(0.1 -0.1)\">\n       <use xlink:href=\"#DejaVuSans-30\"/>\n       <use x=\"63.623047\" xlink:href=\"#DejaVuSans-2e\"/>\n       <use x=\"95.410156\" xlink:href=\"#DejaVuSans-36\"/>\n      </g>\n     </g>\n    </g>\n    <g id=\"ytick_5\">\n     <g id=\"line2d_11\">\n      <g>\n       <use style=\"stroke:#000000;stroke-width:0.8;\" x=\"43.78125\" xlink:href=\"#mad98fc5edd\" y=\"56.618182\"/>\n      </g>\n     </g>\n     <g id=\"text_12\">\n      <!-- 0.8 -->\n      <g transform=\"translate(20.878125 60.417401)scale(0.1 -0.1)\">\n       <use xlink:href=\"#DejaVuSans-30\"/>\n       <use x=\"63.623047\" xlink:href=\"#DejaVuSans-2e\"/>\n       <use x=\"95.410156\" xlink:href=\"#DejaVuSans-38\"/>\n      </g>\n     </g>\n    </g>\n    <g id=\"ytick_6\">\n     <g id=\"line2d_12\">\n      <g>\n       <use style=\"stroke:#000000;stroke-width:0.8;\" x=\"43.78125\" xlink:href=\"#mad98fc5edd\" y=\"17.083636\"/>\n      </g>\n     </g>\n     <g id=\"text_13\">\n      <!-- 1.0 -->\n      <g transform=\"translate(20.878125 20.882855)scale(0.1 -0.1)\">\n       <use xlink:href=\"#DejaVuSans-31\"/>\n       <use x=\"63.623047\" xlink:href=\"#DejaVuSans-2e\"/>\n       <use x=\"95.410156\" xlink:href=\"#DejaVuSans-30\"/>\n      </g>\n     </g>\n    </g>\n    <g id=\"text_14\">\n     <!-- True Positive Rate (Positive label: 1) -->\n     <g transform=\"translate(14.798438 205.348906)rotate(-90)scale(0.1 -0.1)\">\n      <defs>\n       <path d=\"M -19 4666 \nL 3928 4666 \nL 3928 4134 \nL 2272 4134 \nL 2272 0 \nL 1638 0 \nL 1638 4134 \nL -19 4134 \nL -19 4666 \nz\n\" id=\"DejaVuSans-54\" transform=\"scale(0.015625)\"/>\n       <path d=\"M 2631 2963 \nQ 2534 3019 2420 3045 \nQ 2306 3072 2169 3072 \nQ 1681 3072 1420 2755 \nQ 1159 2438 1159 1844 \nL 1159 0 \nL 581 0 \nL 581 3500 \nL 1159 3500 \nL 1159 2956 \nQ 1341 3275 1631 3429 \nQ 1922 3584 2338 3584 \nQ 2397 3584 2469 3576 \nQ 2541 3569 2628 3553 \nL 2631 2963 \nz\n\" id=\"DejaVuSans-72\" transform=\"scale(0.015625)\"/>\n       <path d=\"M 544 1381 \nL 544 3500 \nL 1119 3500 \nL 1119 1403 \nQ 1119 906 1312 657 \nQ 1506 409 1894 409 \nQ 2359 409 2629 706 \nQ 2900 1003 2900 1516 \nL 2900 3500 \nL 3475 3500 \nL 3475 0 \nL 2900 0 \nL 2900 538 \nQ 2691 219 2414 64 \nQ 2138 -91 1772 -91 \nQ 1169 -91 856 284 \nQ 544 659 544 1381 \nz\nM 1991 3584 \nL 1991 3584 \nz\n\" id=\"DejaVuSans-75\" transform=\"scale(0.015625)\"/>\n      </defs>\n      <use xlink:href=\"#DejaVuSans-54\"/>\n      <use x=\"46.333984\" xlink:href=\"#DejaVuSans-72\"/>\n      <use x=\"87.447266\" xlink:href=\"#DejaVuSans-75\"/>\n      <use x=\"150.826172\" xlink:href=\"#DejaVuSans-65\"/>\n      <use x=\"212.349609\" xlink:href=\"#DejaVuSans-20\"/>\n      <use x=\"244.136719\" xlink:href=\"#DejaVuSans-50\"/>\n      <use x=\"300.814453\" xlink:href=\"#DejaVuSans-6f\"/>\n      <use x=\"361.996094\" xlink:href=\"#DejaVuSans-73\"/>\n      <use x=\"414.095703\" xlink:href=\"#DejaVuSans-69\"/>\n      <use x=\"441.878906\" xlink:href=\"#DejaVuSans-74\"/>\n      <use x=\"481.087891\" xlink:href=\"#DejaVuSans-69\"/>\n      <use x=\"508.871094\" xlink:href=\"#DejaVuSans-76\"/>\n      <use x=\"568.050781\" xlink:href=\"#DejaVuSans-65\"/>\n      <use x=\"629.574219\" xlink:href=\"#DejaVuSans-20\"/>\n      <use x=\"661.361328\" xlink:href=\"#DejaVuSans-52\"/>\n      <use x=\"728.59375\" xlink:href=\"#DejaVuSans-61\"/>\n      <use x=\"789.873047\" xlink:href=\"#DejaVuSans-74\"/>\n      <use x=\"829.082031\" xlink:href=\"#DejaVuSans-65\"/>\n      <use x=\"890.605469\" xlink:href=\"#DejaVuSans-20\"/>\n      <use x=\"922.392578\" xlink:href=\"#DejaVuSans-28\"/>\n      <use x=\"961.40625\" xlink:href=\"#DejaVuSans-50\"/>\n      <use x=\"1018.083984\" xlink:href=\"#DejaVuSans-6f\"/>\n      <use x=\"1079.265625\" xlink:href=\"#DejaVuSans-73\"/>\n      <use x=\"1131.365234\" xlink:href=\"#DejaVuSans-69\"/>\n      <use x=\"1159.148438\" xlink:href=\"#DejaVuSans-74\"/>\n      <use x=\"1198.357422\" xlink:href=\"#DejaVuSans-69\"/>\n      <use x=\"1226.140625\" xlink:href=\"#DejaVuSans-76\"/>\n      <use x=\"1285.320312\" xlink:href=\"#DejaVuSans-65\"/>\n      <use x=\"1346.84375\" xlink:href=\"#DejaVuSans-20\"/>\n      <use x=\"1378.630859\" xlink:href=\"#DejaVuSans-6c\"/>\n      <use x=\"1406.414062\" xlink:href=\"#DejaVuSans-61\"/>\n      <use x=\"1467.693359\" xlink:href=\"#DejaVuSans-62\"/>\n      <use x=\"1531.169922\" xlink:href=\"#DejaVuSans-65\"/>\n      <use x=\"1592.693359\" xlink:href=\"#DejaVuSans-6c\"/>\n      <use x=\"1620.476562\" xlink:href=\"#DejaVuSans-3a\"/>\n      <use x=\"1654.167969\" xlink:href=\"#DejaVuSans-20\"/>\n      <use x=\"1685.955078\" xlink:href=\"#DejaVuSans-31\"/>\n      <use x=\"1749.578125\" xlink:href=\"#DejaVuSans-29\"/>\n     </g>\n    </g>\n   </g>\n   <g id=\"line2d_13\">\n    <path clip-path=\"url(#p7c72a8f871)\" d=\"M 58.999432 214.756364 \nL 62.927556 205.47482 \nL 64.404326 202.763801 \nL 65.689584 200.550623 \nL 65.808747 200.240088 \nL 70.63485 192.875975 \nL 74.716183 185.442853 \nL 74.797044 185.083027 \nL 77.150514 181.785442 \nL 77.427142 181.238309 \nL 78.329376 180.070106 \nL 78.708144 179.281446 \nL 81.678708 175.727546 \nL 83.619363 172.676418 \nL 84.261992 171.503286 \nL 84.385411 171.404703 \nL 84.747156 170.734342 \nL 92.135263 162.561852 \nL 92.484241 162.054152 \nL 92.752358 161.743617 \nL 94.952618 159.397353 \nL 97.81253 156.14413 \nL 98.080647 155.345612 \nL 101.212932 151.698059 \nL 101.442747 151.328374 \nL 103.242959 149.031402 \nL 107.392386 145.176825 \nL 108.243551 144.126922 \nL 108.34569 144.013552 \nL 114.823052 137.54161 \nL 115.167773 136.945186 \nL 115.682728 136.417769 \nL 116.184915 135.855849 \nL 116.853079 135.195346 \nL 131.012199 122.665508 \nL 131.178176 122.409194 \nL 132.718784 120.905811 \nL 136.238349 117.381486 \nL 137.923655 115.952039 \nL 138.166236 115.66615 \nL 140.698451 113.798011 \nL 141.29001 113.285382 \nL 152.231729 104.659412 \nL 152.589218 104.477035 \nL 155.815131 102.120913 \nL 162.335051 97.413598 \nL 171.136091 91.25712 \nL 171.429743 91.138821 \nL 173.132072 90.079059 \nL 173.668305 89.743878 \nL 175.242959 88.689045 \nL 175.289773 88.649612 \nL 190.219198 78.968809 \nL 191.053339 78.549834 \nL 191.146967 78.470968 \nL 192.951436 77.49993 \nL 195.028277 76.31694 \nL 200.382101 73.088362 \nL 200.807683 72.87641 \nL 207.187161 68.942968 \nL 208.817141 68.105016 \nL 209.000141 68.065583 \nL 212.685683 66.212232 \nL 212.753776 66.207303 \nL 213.221917 65.955918 \nL 214.71571 65.329919 \nL 222.823052 60.790194 \nL 224.138101 60.36136 \nL 224.648799 60.036038 \nL 225.210568 59.809298 \nL 225.499964 59.730432 \nL 226.159616 59.533267 \nL 228.17262 58.5573 \nL 228.419458 58.453788 \nL 233.258328 55.856139 \nL 235.952263 55.042833 \nL 238.271686 54.16052 \nL 242.855207 51.769894 \nL 245.106537 50.94673 \nL 249.426196 49.182103 \nL 250.53271 48.891284 \nL 260.865846 43.819214 \nL 262.312826 43.479104 \nL 264.279016 42.784098 \nL 265.828135 42.335547 \nL 273.241777 39.200623 \nL 275.497363 38.574624 \nL 280.740536 36.110062 \nL 282.813121 35.72559 \nL 288.137155 33.709577 \nL 292.005697 32.506871 \nL 292.678117 32.428005 \nL 301.687693 29.726844 \nL 304.168837 29.263506 \nL 305.279607 29.159994 \nL 363.363068 17.083636 \nL 363.363068 17.083636 \n\" style=\"fill:none;stroke:#1f77b4;stroke-linecap:square;stroke-width:1.5;\"/>\n   </g>\n   <g id=\"patch_3\">\n    <path d=\"M 43.78125 224.64 \nL 43.78125 7.2 \n\" style=\"fill:none;stroke:#000000;stroke-linecap:square;stroke-linejoin:miter;stroke-width:0.8;\"/>\n   </g>\n   <g id=\"patch_4\">\n    <path d=\"M 378.58125 224.64 \nL 378.58125 7.2 \n\" style=\"fill:none;stroke:#000000;stroke-linecap:square;stroke-linejoin:miter;stroke-width:0.8;\"/>\n   </g>\n   <g id=\"patch_5\">\n    <path d=\"M 43.78125 224.64 \nL 378.58125 224.64 \n\" style=\"fill:none;stroke:#000000;stroke-linecap:square;stroke-linejoin:miter;stroke-width:0.8;\"/>\n   </g>\n   <g id=\"patch_6\">\n    <path d=\"M 43.78125 7.2 \nL 378.58125 7.2 \n\" style=\"fill:none;stroke:#000000;stroke-linecap:square;stroke-linejoin:miter;stroke-width:0.8;\"/>\n   </g>\n   <g id=\"legend_1\">\n    <g id=\"patch_7\">\n     <path d=\"M 201.295313 219.64 \nL 371.58125 219.64 \nQ 373.58125 219.64 373.58125 217.64 \nL 373.58125 203.961875 \nQ 373.58125 201.961875 371.58125 201.961875 \nL 201.295313 201.961875 \nQ 199.295313 201.961875 199.295313 203.961875 \nL 199.295313 217.64 \nQ 199.295313 219.64 201.295313 219.64 \nz\n\" style=\"fill:#ffffff;opacity:0.8;stroke:#cccccc;stroke-linejoin:miter;\"/>\n    </g>\n    <g id=\"line2d_14\">\n     <path d=\"M 203.295313 210.060312 \nL 223.295313 210.060312 \n\" style=\"fill:none;stroke:#1f77b4;stroke-linecap:square;stroke-width:1.5;\"/>\n    </g>\n    <g id=\"line2d_15\"/>\n    <g id=\"text_15\">\n     <!-- GridSearchCV (AUC = 0.68) -->\n     <g transform=\"translate(231.295313 213.560312)scale(0.1 -0.1)\">\n      <defs>\n       <path d=\"M 3809 666 \nL 3809 1919 \nL 2778 1919 \nL 2778 2438 \nL 4434 2438 \nL 4434 434 \nQ 4069 175 3628 42 \nQ 3188 -91 2688 -91 \nQ 1594 -91 976 548 \nQ 359 1188 359 2328 \nQ 359 3472 976 4111 \nQ 1594 4750 2688 4750 \nQ 3144 4750 3555 4637 \nQ 3966 4525 4313 4306 \nL 4313 3634 \nQ 3963 3931 3569 4081 \nQ 3175 4231 2741 4231 \nQ 1884 4231 1454 3753 \nQ 1025 3275 1025 2328 \nQ 1025 1384 1454 906 \nQ 1884 428 2741 428 \nQ 3075 428 3337 486 \nQ 3600 544 3809 666 \nz\n\" id=\"DejaVuSans-47\" transform=\"scale(0.015625)\"/>\n       <path d=\"M 2906 2969 \nL 2906 4863 \nL 3481 4863 \nL 3481 0 \nL 2906 0 \nL 2906 525 \nQ 2725 213 2448 61 \nQ 2172 -91 1784 -91 \nQ 1150 -91 751 415 \nQ 353 922 353 1747 \nQ 353 2572 751 3078 \nQ 1150 3584 1784 3584 \nQ 2172 3584 2448 3432 \nQ 2725 3281 2906 2969 \nz\nM 947 1747 \nQ 947 1113 1208 752 \nQ 1469 391 1925 391 \nQ 2381 391 2643 752 \nQ 2906 1113 2906 1747 \nQ 2906 2381 2643 2742 \nQ 2381 3103 1925 3103 \nQ 1469 3103 1208 2742 \nQ 947 2381 947 1747 \nz\n\" id=\"DejaVuSans-64\" transform=\"scale(0.015625)\"/>\n       <path d=\"M 3425 4513 \nL 3425 3897 \nQ 3066 4069 2747 4153 \nQ 2428 4238 2131 4238 \nQ 1616 4238 1336 4038 \nQ 1056 3838 1056 3469 \nQ 1056 3159 1242 3001 \nQ 1428 2844 1947 2747 \nL 2328 2669 \nQ 3034 2534 3370 2195 \nQ 3706 1856 3706 1288 \nQ 3706 609 3251 259 \nQ 2797 -91 1919 -91 \nQ 1588 -91 1214 -16 \nQ 841 59 441 206 \nL 441 856 \nQ 825 641 1194 531 \nQ 1563 422 1919 422 \nQ 2459 422 2753 634 \nQ 3047 847 3047 1241 \nQ 3047 1584 2836 1778 \nQ 2625 1972 2144 2069 \nL 1759 2144 \nQ 1053 2284 737 2584 \nQ 422 2884 422 3419 \nQ 422 4038 858 4394 \nQ 1294 4750 2059 4750 \nQ 2388 4750 2728 4690 \nQ 3069 4631 3425 4513 \nz\n\" id=\"DejaVuSans-53\" transform=\"scale(0.015625)\"/>\n       <path d=\"M 3122 3366 \nL 3122 2828 \nQ 2878 2963 2633 3030 \nQ 2388 3097 2138 3097 \nQ 1578 3097 1268 2742 \nQ 959 2388 959 1747 \nQ 959 1106 1268 751 \nQ 1578 397 2138 397 \nQ 2388 397 2633 464 \nQ 2878 531 3122 666 \nL 3122 134 \nQ 2881 22 2623 -34 \nQ 2366 -91 2075 -91 \nQ 1284 -91 818 406 \nQ 353 903 353 1747 \nQ 353 2603 823 3093 \nQ 1294 3584 2113 3584 \nQ 2378 3584 2631 3529 \nQ 2884 3475 3122 3366 \nz\n\" id=\"DejaVuSans-63\" transform=\"scale(0.015625)\"/>\n       <path d=\"M 3513 2113 \nL 3513 0 \nL 2938 0 \nL 2938 2094 \nQ 2938 2591 2744 2837 \nQ 2550 3084 2163 3084 \nQ 1697 3084 1428 2787 \nQ 1159 2491 1159 1978 \nL 1159 0 \nL 581 0 \nL 581 4863 \nL 1159 4863 \nL 1159 2956 \nQ 1366 3272 1645 3428 \nQ 1925 3584 2291 3584 \nQ 2894 3584 3203 3211 \nQ 3513 2838 3513 2113 \nz\n\" id=\"DejaVuSans-68\" transform=\"scale(0.015625)\"/>\n       <path d=\"M 4122 4306 \nL 4122 3641 \nQ 3803 3938 3442 4084 \nQ 3081 4231 2675 4231 \nQ 1875 4231 1450 3742 \nQ 1025 3253 1025 2328 \nQ 1025 1406 1450 917 \nQ 1875 428 2675 428 \nQ 3081 428 3442 575 \nQ 3803 722 4122 1019 \nL 4122 359 \nQ 3791 134 3420 21 \nQ 3050 -91 2638 -91 \nQ 1578 -91 968 557 \nQ 359 1206 359 2328 \nQ 359 3453 968 4101 \nQ 1578 4750 2638 4750 \nQ 3056 4750 3426 4639 \nQ 3797 4528 4122 4306 \nz\n\" id=\"DejaVuSans-43\" transform=\"scale(0.015625)\"/>\n       <path d=\"M 1831 0 \nL 50 4666 \nL 709 4666 \nL 2188 738 \nL 3669 4666 \nL 4325 4666 \nL 2547 0 \nL 1831 0 \nz\n\" id=\"DejaVuSans-56\" transform=\"scale(0.015625)\"/>\n       <path d=\"M 2188 4044 \nL 1331 1722 \nL 3047 1722 \nL 2188 4044 \nz\nM 1831 4666 \nL 2547 4666 \nL 4325 0 \nL 3669 0 \nL 3244 1197 \nL 1141 1197 \nL 716 0 \nL 50 0 \nL 1831 4666 \nz\n\" id=\"DejaVuSans-41\" transform=\"scale(0.015625)\"/>\n       <path d=\"M 556 4666 \nL 1191 4666 \nL 1191 1831 \nQ 1191 1081 1462 751 \nQ 1734 422 2344 422 \nQ 2950 422 3222 751 \nQ 3494 1081 3494 1831 \nL 3494 4666 \nL 4128 4666 \nL 4128 1753 \nQ 4128 841 3676 375 \nQ 3225 -91 2344 -91 \nQ 1459 -91 1007 375 \nQ 556 841 556 1753 \nL 556 4666 \nz\n\" id=\"DejaVuSans-55\" transform=\"scale(0.015625)\"/>\n       <path d=\"M 678 2906 \nL 4684 2906 \nL 4684 2381 \nL 678 2381 \nL 678 2906 \nz\nM 678 1631 \nL 4684 1631 \nL 4684 1100 \nL 678 1100 \nL 678 1631 \nz\n\" id=\"DejaVuSans-3d\" transform=\"scale(0.015625)\"/>\n      </defs>\n      <use xlink:href=\"#DejaVuSans-47\"/>\n      <use x=\"77.490234\" xlink:href=\"#DejaVuSans-72\"/>\n      <use x=\"118.603516\" xlink:href=\"#DejaVuSans-69\"/>\n      <use x=\"146.386719\" xlink:href=\"#DejaVuSans-64\"/>\n      <use x=\"209.863281\" xlink:href=\"#DejaVuSans-53\"/>\n      <use x=\"273.339844\" xlink:href=\"#DejaVuSans-65\"/>\n      <use x=\"334.863281\" xlink:href=\"#DejaVuSans-61\"/>\n      <use x=\"396.142578\" xlink:href=\"#DejaVuSans-72\"/>\n      <use x=\"435.005859\" xlink:href=\"#DejaVuSans-63\"/>\n      <use x=\"489.986328\" xlink:href=\"#DejaVuSans-68\"/>\n      <use x=\"553.365234\" xlink:href=\"#DejaVuSans-43\"/>\n      <use x=\"623.189453\" xlink:href=\"#DejaVuSans-56\"/>\n      <use x=\"691.597656\" xlink:href=\"#DejaVuSans-20\"/>\n      <use x=\"723.384766\" xlink:href=\"#DejaVuSans-28\"/>\n      <use x=\"762.398438\" xlink:href=\"#DejaVuSans-41\"/>\n      <use x=\"830.806641\" xlink:href=\"#DejaVuSans-55\"/>\n      <use x=\"904\" xlink:href=\"#DejaVuSans-43\"/>\n      <use x=\"973.824219\" xlink:href=\"#DejaVuSans-20\"/>\n      <use x=\"1005.611328\" xlink:href=\"#DejaVuSans-3d\"/>\n      <use x=\"1089.400391\" xlink:href=\"#DejaVuSans-20\"/>\n      <use x=\"1121.1875\" xlink:href=\"#DejaVuSans-30\"/>\n      <use x=\"1184.810547\" xlink:href=\"#DejaVuSans-2e\"/>\n      <use x=\"1216.597656\" xlink:href=\"#DejaVuSans-36\"/>\n      <use x=\"1280.220703\" xlink:href=\"#DejaVuSans-38\"/>\n      <use x=\"1343.84375\" xlink:href=\"#DejaVuSans-29\"/>\n     </g>\n    </g>\n   </g>\n  </g>\n </g>\n <defs>\n  <clipPath id=\"p7c72a8f871\">\n   <rect height=\"217.44\" width=\"334.8\" x=\"43.78125\" y=\"7.2\"/>\n  </clipPath>\n </defs>\n</svg>\n",
      "image/png": "[encoded data removed]"
     },
     "metadata": {
      "needs_background": "light"
     }
    }
   ],
   "source": [
    "plot_roc_curve(tree_cv, X_test, y_test)\n",
    "plt.show()"
   ]
  },
  {
   "source": [
    "Model built with Decision Tree has AUC score = 0.68.\n",
    "\n",
    "And classification report:"
   ],
   "cell_type": "markdown",
   "metadata": {}
  },
  {
   "cell_type": "code",
   "execution_count": 137,
   "metadata": {},
   "outputs": [
    {
     "output_type": "stream",
     "name": "stdout",
     "text": [
      "              precision    recall  f1-score   support\n\n           0       0.71      0.81      0.76     71517\n           1       0.54      0.40      0.46     40103\n\n    accuracy                           0.66    111620\n   macro avg       0.63      0.61      0.61    111620\nweighted avg       0.65      0.66      0.65    111620\n\n"
     ]
    }
   ],
   "source": [
    "y_true, y_pred_tree = y_test, tree_cv.predict(X_test)\n",
    "print(classification_report(y_test, y_pred_tree))"
   ]
  },
  {
   "source": [
    "Both models have similar accuracy. Both are not as good as we would like to see :( \n",
    "    \n",
    "![gif](https://media.giphy.com/media/9oF7EAvaFUOEU/giphy.gif)\n",
    "\n",
    "But we expected such a result, because of available attributes are not so rich.\n",
    "It would be nice to have more information about owners of projects, how much content projects have in an overview or even some economical features (inflation, GDP etc.)\n"
   ],
   "cell_type": "markdown",
   "metadata": {}
  },
  {
   "source": [],
   "cell_type": "markdown",
   "metadata": {}
  }
 ],
 "metadata": {
  "kernelspec": {
   "display_name": "Python 3",
   "language": "python",
   "name": "python3"
  },
  "language_info": {
   "codemirror_mode": {
    "name": "ipython",
    "version": 3
   },
   "file_extension": ".py",
   "mimetype": "text/x-python",
   "name": "python",
   "nbconvert_exporter": "python",
   "pygments_lexer": "ipython3",
   "version": "3.8.6"
  }
 },
 "nbformat": 4,
 "nbformat_minor": 5
}