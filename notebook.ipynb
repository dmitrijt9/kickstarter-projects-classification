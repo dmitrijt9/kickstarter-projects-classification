{
 "cells": [
  {
   "cell_type": "markdown",
   "id": "interim-humor",
   "metadata": {},
   "source": [
    "# Kickstarter projects classification model\n",
    "\n",
    "In this coursework ([4iz565](http://4iz565.gitlab.io/)) we will try to find the best model to predict if projects on [Kickstarter](https://www.kickstarter.com/) will be successful or not.\n",
    "\n",
    "We use dataset from kaggle with more than 300 000 Kickstarter projects.\n",
    "\n",
    "- [Link to the dataset on kaggle](https://www.kaggle.com/kemical/kickstarter-projects)\n",
    "\n",
    "## Authors\n",
    "- Aleksandra Golofaeva (gola03@vse.cz)\n",
    "- Dmitrij Tkačenko (tkad06@vse.cz)\n",
    "\n",
    "## Requirements (packages) for running Python scripts\n",
    "- python3\n",
    "- pandas\n",
    "- matplotlib\n",
    "- sklearn\n",
    "- datetime"
   ]
  },
  {
   "source": [
    "## Goal of the classification"
   ],
   "cell_type": "markdown",
   "metadata": {}
  },
  {
   "source": [
    "In this coursework we try to create classification model, which will **predict if a project from the Kickstarter portal success or fail**.\n",
    "\n",
    "We preprocess dataset to work just with relevant attributes. We derive new columns and remove redundant ones. Also, we should handle missing values.\n",
    "\n",
    "Then, we use and compare two fitting and common algorithms to train model.\n",
    "\n",
    "We select one classifier and tune it's metaparameters.\n",
    "\n",
    "And finally, we evaluate selected and tuned model."
   ],
   "cell_type": "markdown",
   "metadata": {}
  },
  {
   "source": [
    "## Discover dataset"
   ],
   "cell_type": "markdown",
   "metadata": {}
  },
  {
   "source": [
    "Before we will train any models, we should discover our dataset, then we will proceed to preprocessing our data.\n",
    "\n",
    "But first, lets import Kickstarter projects dataset from a `.csv` file and save as a pandas data frame `ksp`."
   ],
   "cell_type": "markdown",
   "metadata": {}
  },
  {
   "cell_type": "code",
   "execution_count": 266,
   "id": "alleged-norwegian",
   "metadata": {},
   "outputs": [
    {
     "output_type": "execute_result",
     "data": {
      "text/plain": [
       "                                                         name        category  \\\n",
       "ID                                                                              \n",
       "1000002330                    The Songs of Adelaide & Abullah          Poetry   \n",
       "1000003930      Greeting From Earth: ZGAC Arts Capsule For ET  Narrative Film   \n",
       "1000004038                                     Where is Hank?  Narrative Film   \n",
       "1000007540  ToshiCapital Rekordz Needs Help to Complete Album           Music   \n",
       "1000011046  Community Film Project: The Art of Neighborhoo...    Film & Video   \n",
       "\n",
       "           main_category currency    deadline     goal             launched  \\\n",
       "ID                                                                            \n",
       "1000002330    Publishing      GBP  2015-10-09   1000.0  2015-08-11 12:12:28   \n",
       "1000003930  Film & Video      USD  2017-11-01  30000.0  2017-09-02 04:43:57   \n",
       "1000004038  Film & Video      USD  2013-02-26  45000.0  2013-01-12 00:20:50   \n",
       "1000007540         Music      USD  2012-04-16   5000.0  2012-03-17 03:24:11   \n",
       "1000011046  Film & Video      USD  2015-08-29  19500.0  2015-07-04 08:35:03   \n",
       "\n",
       "            pledged     state  backers country  usd pledged  usd_pledged_real  \\\n",
       "ID                                                                              \n",
       "1000002330      0.0    failed        0      GB          0.0               0.0   \n",
       "1000003930   2421.0    failed       15      US        100.0            2421.0   \n",
       "1000004038    220.0    failed        3      US        220.0             220.0   \n",
       "1000007540      1.0    failed        1      US          1.0               1.0   \n",
       "1000011046   1283.0  canceled       14      US       1283.0            1283.0   \n",
       "\n",
       "            usd_goal_real  \n",
       "ID                         \n",
       "1000002330        1533.95  \n",
       "1000003930       30000.00  \n",
       "1000004038       45000.00  \n",
       "1000007540        5000.00  \n",
       "1000011046       19500.00  "
      ],
      "text/html": "<div>\n<style scoped>\n    .dataframe tbody tr th:only-of-type {\n        vertical-align: middle;\n    }\n\n    .dataframe tbody tr th {\n        vertical-align: top;\n    }\n\n    .dataframe thead th {\n        text-align: right;\n    }\n</style>\n<table border=\"1\" class=\"dataframe\">\n  <thead>\n    <tr style=\"text-align: right;\">\n      <th></th>\n      <th>name</th>\n      <th>category</th>\n      <th>main_category</th>\n      <th>currency</th>\n      <th>deadline</th>\n      <th>goal</th>\n      <th>launched</th>\n      <th>pledged</th>\n      <th>state</th>\n      <th>backers</th>\n      <th>country</th>\n      <th>usd pledged</th>\n      <th>usd_pledged_real</th>\n      <th>usd_goal_real</th>\n    </tr>\n    <tr>\n      <th>ID</th>\n      <th></th>\n      <th></th>\n      <th></th>\n      <th></th>\n      <th></th>\n      <th></th>\n      <th></th>\n      <th></th>\n      <th></th>\n      <th></th>\n      <th></th>\n      <th></th>\n      <th></th>\n      <th></th>\n    </tr>\n  </thead>\n  <tbody>\n    <tr>\n      <th>1000002330</th>\n      <td>The Songs of Adelaide &amp; Abullah</td>\n      <td>Poetry</td>\n      <td>Publishing</td>\n      <td>GBP</td>\n      <td>2015-10-09</td>\n      <td>1000.0</td>\n      <td>2015-08-11 12:12:28</td>\n      <td>0.0</td>\n      <td>failed</td>\n      <td>0</td>\n      <td>GB</td>\n      <td>0.0</td>\n      <td>0.0</td>\n      <td>1533.95</td>\n    </tr>\n    <tr>\n      <th>1000003930</th>\n      <td>Greeting From Earth: ZGAC Arts Capsule For ET</td>\n      <td>Narrative Film</td>\n      <td>Film &amp; Video</td>\n      <td>USD</td>\n      <td>2017-11-01</td>\n      <td>30000.0</td>\n      <td>2017-09-02 04:43:57</td>\n      <td>2421.0</td>\n      <td>failed</td>\n      <td>15</td>\n      <td>US</td>\n      <td>100.0</td>\n      <td>2421.0</td>\n      <td>30000.00</td>\n    </tr>\n    <tr>\n      <th>1000004038</th>\n      <td>Where is Hank?</td>\n      <td>Narrative Film</td>\n      <td>Film &amp; Video</td>\n      <td>USD</td>\n      <td>2013-02-26</td>\n      <td>45000.0</td>\n      <td>2013-01-12 00:20:50</td>\n      <td>220.0</td>\n      <td>failed</td>\n      <td>3</td>\n      <td>US</td>\n      <td>220.0</td>\n      <td>220.0</td>\n      <td>45000.00</td>\n    </tr>\n    <tr>\n      <th>1000007540</th>\n      <td>ToshiCapital Rekordz Needs Help to Complete Album</td>\n      <td>Music</td>\n      <td>Music</td>\n      <td>USD</td>\n      <td>2012-04-16</td>\n      <td>5000.0</td>\n      <td>2012-03-17 03:24:11</td>\n      <td>1.0</td>\n      <td>failed</td>\n      <td>1</td>\n      <td>US</td>\n      <td>1.0</td>\n      <td>1.0</td>\n      <td>5000.00</td>\n    </tr>\n    <tr>\n      <th>1000011046</th>\n      <td>Community Film Project: The Art of Neighborhoo...</td>\n      <td>Film &amp; Video</td>\n      <td>Film &amp; Video</td>\n      <td>USD</td>\n      <td>2015-08-29</td>\n      <td>19500.0</td>\n      <td>2015-07-04 08:35:03</td>\n      <td>1283.0</td>\n      <td>canceled</td>\n      <td>14</td>\n      <td>US</td>\n      <td>1283.0</td>\n      <td>1283.0</td>\n      <td>19500.00</td>\n    </tr>\n  </tbody>\n</table>\n</div>"
     },
     "metadata": {},
     "execution_count": 266
    }
   ],
   "source": [
    "import pandas as pd\n",
    "\n",
    "# we know that first column is a row ID, so we set index_col to 0.\n",
    "ksp = pd.read_csv(\"ks-projects-201801.csv\", index_col=0)\n",
    "# return data frame with our data\n",
    "ksp.head()"
   ]
  },
  {
   "source": [
    "We see our target column **state** in above data frame. This categorical attribute will be crucial for us while training prediction model and then testing that model.\n",
    "\n",
    "Let's see what values it has. We create bar plot here to visualize our target values and their counts."
   ],
   "cell_type": "markdown",
   "metadata": {}
  },
  {
   "cell_type": "code",
   "execution_count": 267,
   "metadata": {},
   "outputs": [
    {
     "output_type": "display_data",
     "data": {
      "text/plain": "<Figure size 432x288 with 1 Axes>",
      "image/svg+xml": "<?xml version=\"1.0\" encoding=\"utf-8\" standalone=\"no\"?>\n<!DOCTYPE svg PUBLIC \"-//W3C//DTD SVG 1.1//EN\"\n  \"http://www.w3.org/Graphics/SVG/1.1/DTD/svg11.dtd\">\n<svg height=\"248.518125pt\" version=\"1.1\" viewBox=\"0 0 394.375 248.518125\" width=\"394.375pt\" xmlns=\"http://www.w3.org/2000/svg\" xmlns:xlink=\"http://www.w3.org/1999/xlink\">\n <metadata>\n  <rdf:RDF xmlns:cc=\"http://creativecommons.org/ns#\" xmlns:dc=\"http://purl.org/dc/elements/1.1/\" xmlns:rdf=\"http://www.w3.org/1999/02/22-rdf-syntax-ns#\">\n   <cc:Work>\n    <dc:type rdf:resource=\"http://purl.org/dc/dcmitype/StillImage\"/>\n    <dc:date>2021-04-09T19:51:53.592433</dc:date>\n    <dc:format>image/svg+xml</dc:format>\n    <dc:creator>\n     <cc:Agent>\n      <dc:title>Matplotlib v3.4.0, https://matplotlib.org/</dc:title>\n     </cc:Agent>\n    </dc:creator>\n   </cc:Work>\n  </rdf:RDF>\n </metadata>\n <defs>\n  <style type=\"text/css\">*{stroke-linecap:butt;stroke-linejoin:round;}</style>\n </defs>\n <g id=\"figure_1\">\n  <g id=\"patch_1\">\n   <path d=\"M 0 248.518125 \nL 394.375 248.518125 \nL 394.375 0 \nL 0 0 \nz\n\" style=\"fill:none;\"/>\n  </g>\n  <g id=\"axes_1\">\n   <g id=\"patch_2\">\n    <path d=\"M 52.375 224.64 \nL 387.175 224.64 \nL 387.175 7.2 \nL 52.375 7.2 \nz\n\" style=\"fill:#ffffff;\"/>\n   </g>\n   <g id=\"patch_3\">\n    <path clip-path=\"url(#p030599459d)\" d=\"M 67.593182 224.64 \nL 109.574373 224.64 \nL 109.574373 17.554286 \nL 67.593182 17.554286 \nz\n\" style=\"fill:#1f77b4;\"/>\n   </g>\n   <g id=\"patch_4\">\n    <path clip-path=\"url(#p030599459d)\" d=\"M 120.069671 224.64 \nL 162.050862 224.64 \nL 162.050862 84.337986 \nL 120.069671 84.337986 \nz\n\" style=\"fill:#1f77b4;\"/>\n   </g>\n   <g id=\"patch_5\">\n    <path clip-path=\"url(#p030599459d)\" d=\"M 172.54616 224.64 \nL 214.527351 224.64 \nL 214.527351 184.023889 \nL 172.54616 184.023889 \nz\n\" style=\"fill:#1f77b4;\"/>\n   </g>\n   <g id=\"patch_6\">\n    <path clip-path=\"url(#p030599459d)\" d=\"M 225.022649 224.64 \nL 267.00384 224.64 \nL 267.00384 220.909254 \nL 225.022649 220.909254 \nz\n\" style=\"fill:#1f77b4;\"/>\n   </g>\n   <g id=\"patch_7\">\n    <path clip-path=\"url(#p030599459d)\" d=\"M 277.499138 224.64 \nL 319.480329 224.64 \nL 319.480329 221.708401 \nL 277.499138 221.708401 \nz\n\" style=\"fill:#1f77b4;\"/>\n   </g>\n   <g id=\"patch_8\">\n    <path clip-path=\"url(#p030599459d)\" d=\"M 329.975627 224.64 \nL 371.956818 224.64 \nL 371.956818 222.706548 \nL 329.975627 222.706548 \nz\n\" style=\"fill:#1f77b4;\"/>\n   </g>\n   <g id=\"matplotlib.axis_1\">\n    <g id=\"xtick_1\">\n     <g id=\"line2d_1\">\n      <defs>\n       <path d=\"M 0 0 \nL 0 3.5 \n\" id=\"mf766552030\" style=\"stroke:#000000;stroke-width:0.8;\"/>\n      </defs>\n      <g>\n       <use style=\"stroke:#000000;stroke-width:0.8;\" x=\"88.583777\" xlink:href=\"#mf766552030\" y=\"224.64\"/>\n      </g>\n     </g>\n     <g id=\"text_1\">\n      <!-- failed -->\n      <g transform=\"translate(74.730652 239.238438)scale(0.1 -0.1)\">\n       <defs>\n        <path d=\"M 2375 4863 \nL 2375 4384 \nL 1825 4384 \nQ 1516 4384 1395 4259 \nQ 1275 4134 1275 3809 \nL 1275 3500 \nL 2222 3500 \nL 2222 3053 \nL 1275 3053 \nL 1275 0 \nL 697 0 \nL 697 3053 \nL 147 3053 \nL 147 3500 \nL 697 3500 \nL 697 3744 \nQ 697 4328 969 4595 \nQ 1241 4863 1831 4863 \nL 2375 4863 \nz\n\" id=\"DejaVuSans-66\" transform=\"scale(0.015625)\"/>\n        <path d=\"M 2194 1759 \nQ 1497 1759 1228 1600 \nQ 959 1441 959 1056 \nQ 959 750 1161 570 \nQ 1363 391 1709 391 \nQ 2188 391 2477 730 \nQ 2766 1069 2766 1631 \nL 2766 1759 \nL 2194 1759 \nz\nM 3341 1997 \nL 3341 0 \nL 2766 0 \nL 2766 531 \nQ 2569 213 2275 61 \nQ 1981 -91 1556 -91 \nQ 1019 -91 701 211 \nQ 384 513 384 1019 \nQ 384 1609 779 1909 \nQ 1175 2209 1959 2209 \nL 2766 2209 \nL 2766 2266 \nQ 2766 2663 2505 2880 \nQ 2244 3097 1772 3097 \nQ 1472 3097 1187 3025 \nQ 903 2953 641 2809 \nL 641 3341 \nQ 956 3463 1253 3523 \nQ 1550 3584 1831 3584 \nQ 2591 3584 2966 3190 \nQ 3341 2797 3341 1997 \nz\n\" id=\"DejaVuSans-61\" transform=\"scale(0.015625)\"/>\n        <path d=\"M 603 3500 \nL 1178 3500 \nL 1178 0 \nL 603 0 \nL 603 3500 \nz\nM 603 4863 \nL 1178 4863 \nL 1178 4134 \nL 603 4134 \nL 603 4863 \nz\n\" id=\"DejaVuSans-69\" transform=\"scale(0.015625)\"/>\n        <path d=\"M 603 4863 \nL 1178 4863 \nL 1178 0 \nL 603 0 \nL 603 4863 \nz\n\" id=\"DejaVuSans-6c\" transform=\"scale(0.015625)\"/>\n        <path d=\"M 3597 1894 \nL 3597 1613 \nL 953 1613 \nQ 991 1019 1311 708 \nQ 1631 397 2203 397 \nQ 2534 397 2845 478 \nQ 3156 559 3463 722 \nL 3463 178 \nQ 3153 47 2828 -22 \nQ 2503 -91 2169 -91 \nQ 1331 -91 842 396 \nQ 353 884 353 1716 \nQ 353 2575 817 3079 \nQ 1281 3584 2069 3584 \nQ 2775 3584 3186 3129 \nQ 3597 2675 3597 1894 \nz\nM 3022 2063 \nQ 3016 2534 2758 2815 \nQ 2500 3097 2075 3097 \nQ 1594 3097 1305 2825 \nQ 1016 2553 972 2059 \nL 3022 2063 \nz\n\" id=\"DejaVuSans-65\" transform=\"scale(0.015625)\"/>\n        <path d=\"M 2906 2969 \nL 2906 4863 \nL 3481 4863 \nL 3481 0 \nL 2906 0 \nL 2906 525 \nQ 2725 213 2448 61 \nQ 2172 -91 1784 -91 \nQ 1150 -91 751 415 \nQ 353 922 353 1747 \nQ 353 2572 751 3078 \nQ 1150 3584 1784 3584 \nQ 2172 3584 2448 3432 \nQ 2725 3281 2906 2969 \nz\nM 947 1747 \nQ 947 1113 1208 752 \nQ 1469 391 1925 391 \nQ 2381 391 2643 752 \nQ 2906 1113 2906 1747 \nQ 2906 2381 2643 2742 \nQ 2381 3103 1925 3103 \nQ 1469 3103 1208 2742 \nQ 947 2381 947 1747 \nz\n\" id=\"DejaVuSans-64\" transform=\"scale(0.015625)\"/>\n       </defs>\n       <use xlink:href=\"#DejaVuSans-66\"/>\n       <use x=\"35.205078\" xlink:href=\"#DejaVuSans-61\"/>\n       <use x=\"96.484375\" xlink:href=\"#DejaVuSans-69\"/>\n       <use x=\"124.267578\" xlink:href=\"#DejaVuSans-6c\"/>\n       <use x=\"152.050781\" xlink:href=\"#DejaVuSans-65\"/>\n       <use x=\"213.574219\" xlink:href=\"#DejaVuSans-64\"/>\n      </g>\n     </g>\n    </g>\n    <g id=\"xtick_2\">\n     <g id=\"line2d_2\">\n      <g>\n       <use style=\"stroke:#000000;stroke-width:0.8;\" x=\"141.060266\" xlink:href=\"#mf766552030\" y=\"224.64\"/>\n      </g>\n     </g>\n     <g id=\"text_2\">\n      <!-- successful -->\n      <g transform=\"translate(115.184485 239.238438)scale(0.1 -0.1)\">\n       <defs>\n        <path d=\"M 2834 3397 \nL 2834 2853 \nQ 2591 2978 2328 3040 \nQ 2066 3103 1784 3103 \nQ 1356 3103 1142 2972 \nQ 928 2841 928 2578 \nQ 928 2378 1081 2264 \nQ 1234 2150 1697 2047 \nL 1894 2003 \nQ 2506 1872 2764 1633 \nQ 3022 1394 3022 966 \nQ 3022 478 2636 193 \nQ 2250 -91 1575 -91 \nQ 1294 -91 989 -36 \nQ 684 19 347 128 \nL 347 722 \nQ 666 556 975 473 \nQ 1284 391 1588 391 \nQ 1994 391 2212 530 \nQ 2431 669 2431 922 \nQ 2431 1156 2273 1281 \nQ 2116 1406 1581 1522 \nL 1381 1569 \nQ 847 1681 609 1914 \nQ 372 2147 372 2553 \nQ 372 3047 722 3315 \nQ 1072 3584 1716 3584 \nQ 2034 3584 2315 3537 \nQ 2597 3491 2834 3397 \nz\n\" id=\"DejaVuSans-73\" transform=\"scale(0.015625)\"/>\n        <path d=\"M 544 1381 \nL 544 3500 \nL 1119 3500 \nL 1119 1403 \nQ 1119 906 1312 657 \nQ 1506 409 1894 409 \nQ 2359 409 2629 706 \nQ 2900 1003 2900 1516 \nL 2900 3500 \nL 3475 3500 \nL 3475 0 \nL 2900 0 \nL 2900 538 \nQ 2691 219 2414 64 \nQ 2138 -91 1772 -91 \nQ 1169 -91 856 284 \nQ 544 659 544 1381 \nz\nM 1991 3584 \nL 1991 3584 \nz\n\" id=\"DejaVuSans-75\" transform=\"scale(0.015625)\"/>\n        <path d=\"M 3122 3366 \nL 3122 2828 \nQ 2878 2963 2633 3030 \nQ 2388 3097 2138 3097 \nQ 1578 3097 1268 2742 \nQ 959 2388 959 1747 \nQ 959 1106 1268 751 \nQ 1578 397 2138 397 \nQ 2388 397 2633 464 \nQ 2878 531 3122 666 \nL 3122 134 \nQ 2881 22 2623 -34 \nQ 2366 -91 2075 -91 \nQ 1284 -91 818 406 \nQ 353 903 353 1747 \nQ 353 2603 823 3093 \nQ 1294 3584 2113 3584 \nQ 2378 3584 2631 3529 \nQ 2884 3475 3122 3366 \nz\n\" id=\"DejaVuSans-63\" transform=\"scale(0.015625)\"/>\n       </defs>\n       <use xlink:href=\"#DejaVuSans-73\"/>\n       <use x=\"52.099609\" xlink:href=\"#DejaVuSans-75\"/>\n       <use x=\"115.478516\" xlink:href=\"#DejaVuSans-63\"/>\n       <use x=\"170.458984\" xlink:href=\"#DejaVuSans-63\"/>\n       <use x=\"225.439453\" xlink:href=\"#DejaVuSans-65\"/>\n       <use x=\"286.962891\" xlink:href=\"#DejaVuSans-73\"/>\n       <use x=\"339.0625\" xlink:href=\"#DejaVuSans-73\"/>\n       <use x=\"391.162109\" xlink:href=\"#DejaVuSans-66\"/>\n       <use x=\"426.367188\" xlink:href=\"#DejaVuSans-75\"/>\n       <use x=\"489.746094\" xlink:href=\"#DejaVuSans-6c\"/>\n      </g>\n     </g>\n    </g>\n    <g id=\"xtick_3\">\n     <g id=\"line2d_3\">\n      <g>\n       <use style=\"stroke:#000000;stroke-width:0.8;\" x=\"193.536755\" xlink:href=\"#mf766552030\" y=\"224.64\"/>\n      </g>\n     </g>\n     <g id=\"text_3\">\n      <!-- canceled -->\n      <g transform=\"translate(171.089099 239.238438)scale(0.1 -0.1)\">\n       <defs>\n        <path d=\"M 3513 2113 \nL 3513 0 \nL 2938 0 \nL 2938 2094 \nQ 2938 2591 2744 2837 \nQ 2550 3084 2163 3084 \nQ 1697 3084 1428 2787 \nQ 1159 2491 1159 1978 \nL 1159 0 \nL 581 0 \nL 581 3500 \nL 1159 3500 \nL 1159 2956 \nQ 1366 3272 1645 3428 \nQ 1925 3584 2291 3584 \nQ 2894 3584 3203 3211 \nQ 3513 2838 3513 2113 \nz\n\" id=\"DejaVuSans-6e\" transform=\"scale(0.015625)\"/>\n       </defs>\n       <use xlink:href=\"#DejaVuSans-63\"/>\n       <use x=\"54.980469\" xlink:href=\"#DejaVuSans-61\"/>\n       <use x=\"116.259766\" xlink:href=\"#DejaVuSans-6e\"/>\n       <use x=\"179.638672\" xlink:href=\"#DejaVuSans-63\"/>\n       <use x=\"234.619141\" xlink:href=\"#DejaVuSans-65\"/>\n       <use x=\"296.142578\" xlink:href=\"#DejaVuSans-6c\"/>\n       <use x=\"323.925781\" xlink:href=\"#DejaVuSans-65\"/>\n       <use x=\"385.449219\" xlink:href=\"#DejaVuSans-64\"/>\n      </g>\n     </g>\n    </g>\n    <g id=\"xtick_4\">\n     <g id=\"line2d_4\">\n      <g>\n       <use style=\"stroke:#000000;stroke-width:0.8;\" x=\"246.013245\" xlink:href=\"#mf766552030\" y=\"224.64\"/>\n      </g>\n     </g>\n     <g id=\"text_4\">\n      <!-- undefined -->\n      <g transform=\"translate(220.856213 239.238438)scale(0.1 -0.1)\">\n       <use xlink:href=\"#DejaVuSans-75\"/>\n       <use x=\"63.378906\" xlink:href=\"#DejaVuSans-6e\"/>\n       <use x=\"126.757812\" xlink:href=\"#DejaVuSans-64\"/>\n       <use x=\"190.234375\" xlink:href=\"#DejaVuSans-65\"/>\n       <use x=\"251.757812\" xlink:href=\"#DejaVuSans-66\"/>\n       <use x=\"286.962891\" xlink:href=\"#DejaVuSans-69\"/>\n       <use x=\"314.746094\" xlink:href=\"#DejaVuSans-6e\"/>\n       <use x=\"378.125\" xlink:href=\"#DejaVuSans-65\"/>\n       <use x=\"439.648438\" xlink:href=\"#DejaVuSans-64\"/>\n      </g>\n     </g>\n    </g>\n    <g id=\"xtick_5\">\n     <g id=\"line2d_5\">\n      <g>\n       <use style=\"stroke:#000000;stroke-width:0.8;\" x=\"298.489734\" xlink:href=\"#mf766552030\" y=\"224.64\"/>\n      </g>\n     </g>\n     <g id=\"text_5\">\n      <!-- live -->\n      <g transform=\"translate(289.675671 239.238438)scale(0.1 -0.1)\">\n       <defs>\n        <path d=\"M 191 3500 \nL 800 3500 \nL 1894 563 \nL 2988 3500 \nL 3597 3500 \nL 2284 0 \nL 1503 0 \nL 191 3500 \nz\n\" id=\"DejaVuSans-76\" transform=\"scale(0.015625)\"/>\n       </defs>\n       <use xlink:href=\"#DejaVuSans-6c\"/>\n       <use x=\"27.783203\" xlink:href=\"#DejaVuSans-69\"/>\n       <use x=\"55.566406\" xlink:href=\"#DejaVuSans-76\"/>\n       <use x=\"114.746094\" xlink:href=\"#DejaVuSans-65\"/>\n      </g>\n     </g>\n    </g>\n    <g id=\"xtick_6\">\n     <g id=\"line2d_6\">\n      <g>\n       <use style=\"stroke:#000000;stroke-width:0.8;\" x=\"350.966223\" xlink:href=\"#mf766552030\" y=\"224.64\"/>\n      </g>\n     </g>\n     <g id=\"text_6\">\n      <!-- suspended -->\n      <g transform=\"translate(323.743566 239.238438)scale(0.1 -0.1)\">\n       <defs>\n        <path d=\"M 1159 525 \nL 1159 -1331 \nL 581 -1331 \nL 581 3500 \nL 1159 3500 \nL 1159 2969 \nQ 1341 3281 1617 3432 \nQ 1894 3584 2278 3584 \nQ 2916 3584 3314 3078 \nQ 3713 2572 3713 1747 \nQ 3713 922 3314 415 \nQ 2916 -91 2278 -91 \nQ 1894 -91 1617 61 \nQ 1341 213 1159 525 \nz\nM 3116 1747 \nQ 3116 2381 2855 2742 \nQ 2594 3103 2138 3103 \nQ 1681 3103 1420 2742 \nQ 1159 2381 1159 1747 \nQ 1159 1113 1420 752 \nQ 1681 391 2138 391 \nQ 2594 391 2855 752 \nQ 3116 1113 3116 1747 \nz\n\" id=\"DejaVuSans-70\" transform=\"scale(0.015625)\"/>\n       </defs>\n       <use xlink:href=\"#DejaVuSans-73\"/>\n       <use x=\"52.099609\" xlink:href=\"#DejaVuSans-75\"/>\n       <use x=\"115.478516\" xlink:href=\"#DejaVuSans-73\"/>\n       <use x=\"167.578125\" xlink:href=\"#DejaVuSans-70\"/>\n       <use x=\"231.054688\" xlink:href=\"#DejaVuSans-65\"/>\n       <use x=\"292.578125\" xlink:href=\"#DejaVuSans-6e\"/>\n       <use x=\"355.957031\" xlink:href=\"#DejaVuSans-64\"/>\n       <use x=\"419.433594\" xlink:href=\"#DejaVuSans-65\"/>\n       <use x=\"480.957031\" xlink:href=\"#DejaVuSans-64\"/>\n      </g>\n     </g>\n    </g>\n   </g>\n   <g id=\"matplotlib.axis_2\">\n    <g id=\"ytick_1\">\n     <g id=\"line2d_7\">\n      <defs>\n       <path d=\"M 0 0 \nL -3.5 0 \n\" id=\"m7db574929f\" style=\"stroke:#000000;stroke-width:0.8;\"/>\n      </defs>\n      <g>\n       <use style=\"stroke:#000000;stroke-width:0.8;\" x=\"52.375\" xlink:href=\"#m7db574929f\" y=\"224.64\"/>\n      </g>\n     </g>\n     <g id=\"text_7\">\n      <!-- 0 -->\n      <g transform=\"translate(39.0125 228.439219)scale(0.1 -0.1)\">\n       <defs>\n        <path d=\"M 2034 4250 \nQ 1547 4250 1301 3770 \nQ 1056 3291 1056 2328 \nQ 1056 1369 1301 889 \nQ 1547 409 2034 409 \nQ 2525 409 2770 889 \nQ 3016 1369 3016 2328 \nQ 3016 3291 2770 3770 \nQ 2525 4250 2034 4250 \nz\nM 2034 4750 \nQ 2819 4750 3233 4129 \nQ 3647 3509 3647 2328 \nQ 3647 1150 3233 529 \nQ 2819 -91 2034 -91 \nQ 1250 -91 836 529 \nQ 422 1150 422 2328 \nQ 422 3509 836 4129 \nQ 1250 4750 2034 4750 \nz\n\" id=\"DejaVuSans-30\" transform=\"scale(0.015625)\"/>\n       </defs>\n       <use xlink:href=\"#DejaVuSans-30\"/>\n      </g>\n     </g>\n    </g>\n    <g id=\"ytick_2\">\n     <g id=\"line2d_8\">\n      <g>\n       <use style=\"stroke:#000000;stroke-width:0.8;\" x=\"52.375\" xlink:href=\"#m7db574929f\" y=\"198.455653\"/>\n      </g>\n     </g>\n     <g id=\"text_8\">\n      <!-- 25000 -->\n      <g transform=\"translate(13.5625 202.254872)scale(0.1 -0.1)\">\n       <defs>\n        <path d=\"M 1228 531 \nL 3431 531 \nL 3431 0 \nL 469 0 \nL 469 531 \nQ 828 903 1448 1529 \nQ 2069 2156 2228 2338 \nQ 2531 2678 2651 2914 \nQ 2772 3150 2772 3378 \nQ 2772 3750 2511 3984 \nQ 2250 4219 1831 4219 \nQ 1534 4219 1204 4116 \nQ 875 4013 500 3803 \nL 500 4441 \nQ 881 4594 1212 4672 \nQ 1544 4750 1819 4750 \nQ 2544 4750 2975 4387 \nQ 3406 4025 3406 3419 \nQ 3406 3131 3298 2873 \nQ 3191 2616 2906 2266 \nQ 2828 2175 2409 1742 \nQ 1991 1309 1228 531 \nz\n\" id=\"DejaVuSans-32\" transform=\"scale(0.015625)\"/>\n        <path d=\"M 691 4666 \nL 3169 4666 \nL 3169 4134 \nL 1269 4134 \nL 1269 2991 \nQ 1406 3038 1543 3061 \nQ 1681 3084 1819 3084 \nQ 2600 3084 3056 2656 \nQ 3513 2228 3513 1497 \nQ 3513 744 3044 326 \nQ 2575 -91 1722 -91 \nQ 1428 -91 1123 -41 \nQ 819 9 494 109 \nL 494 744 \nQ 775 591 1075 516 \nQ 1375 441 1709 441 \nQ 2250 441 2565 725 \nQ 2881 1009 2881 1497 \nQ 2881 1984 2565 2268 \nQ 2250 2553 1709 2553 \nQ 1456 2553 1204 2497 \nQ 953 2441 691 2322 \nL 691 4666 \nz\n\" id=\"DejaVuSans-35\" transform=\"scale(0.015625)\"/>\n       </defs>\n       <use xlink:href=\"#DejaVuSans-32\"/>\n       <use x=\"63.623047\" xlink:href=\"#DejaVuSans-35\"/>\n       <use x=\"127.246094\" xlink:href=\"#DejaVuSans-30\"/>\n       <use x=\"190.869141\" xlink:href=\"#DejaVuSans-30\"/>\n       <use x=\"254.492188\" xlink:href=\"#DejaVuSans-30\"/>\n      </g>\n     </g>\n    </g>\n    <g id=\"ytick_3\">\n     <g id=\"line2d_9\">\n      <g>\n       <use style=\"stroke:#000000;stroke-width:0.8;\" x=\"52.375\" xlink:href=\"#m7db574929f\" y=\"172.271306\"/>\n      </g>\n     </g>\n     <g id=\"text_9\">\n      <!-- 50000 -->\n      <g transform=\"translate(13.5625 176.070525)scale(0.1 -0.1)\">\n       <use xlink:href=\"#DejaVuSans-35\"/>\n       <use x=\"63.623047\" xlink:href=\"#DejaVuSans-30\"/>\n       <use x=\"127.246094\" xlink:href=\"#DejaVuSans-30\"/>\n       <use x=\"190.869141\" xlink:href=\"#DejaVuSans-30\"/>\n       <use x=\"254.492188\" xlink:href=\"#DejaVuSans-30\"/>\n      </g>\n     </g>\n    </g>\n    <g id=\"ytick_4\">\n     <g id=\"line2d_10\">\n      <g>\n       <use style=\"stroke:#000000;stroke-width:0.8;\" x=\"52.375\" xlink:href=\"#m7db574929f\" y=\"146.08696\"/>\n      </g>\n     </g>\n     <g id=\"text_10\">\n      <!-- 75000 -->\n      <g transform=\"translate(13.5625 149.886178)scale(0.1 -0.1)\">\n       <defs>\n        <path d=\"M 525 4666 \nL 3525 4666 \nL 3525 4397 \nL 1831 0 \nL 1172 0 \nL 2766 4134 \nL 525 4134 \nL 525 4666 \nz\n\" id=\"DejaVuSans-37\" transform=\"scale(0.015625)\"/>\n       </defs>\n       <use xlink:href=\"#DejaVuSans-37\"/>\n       <use x=\"63.623047\" xlink:href=\"#DejaVuSans-35\"/>\n       <use x=\"127.246094\" xlink:href=\"#DejaVuSans-30\"/>\n       <use x=\"190.869141\" xlink:href=\"#DejaVuSans-30\"/>\n       <use x=\"254.492188\" xlink:href=\"#DejaVuSans-30\"/>\n      </g>\n     </g>\n    </g>\n    <g id=\"ytick_5\">\n     <g id=\"line2d_11\">\n      <g>\n       <use style=\"stroke:#000000;stroke-width:0.8;\" x=\"52.375\" xlink:href=\"#m7db574929f\" y=\"119.902613\"/>\n      </g>\n     </g>\n     <g id=\"text_11\">\n      <!-- 100000 -->\n      <g transform=\"translate(7.2 123.701832)scale(0.1 -0.1)\">\n       <defs>\n        <path d=\"M 794 531 \nL 1825 531 \nL 1825 4091 \nL 703 3866 \nL 703 4441 \nL 1819 4666 \nL 2450 4666 \nL 2450 531 \nL 3481 531 \nL 3481 0 \nL 794 0 \nL 794 531 \nz\n\" id=\"DejaVuSans-31\" transform=\"scale(0.015625)\"/>\n       </defs>\n       <use xlink:href=\"#DejaVuSans-31\"/>\n       <use x=\"63.623047\" xlink:href=\"#DejaVuSans-30\"/>\n       <use x=\"127.246094\" xlink:href=\"#DejaVuSans-30\"/>\n       <use x=\"190.869141\" xlink:href=\"#DejaVuSans-30\"/>\n       <use x=\"254.492188\" xlink:href=\"#DejaVuSans-30\"/>\n       <use x=\"318.115234\" xlink:href=\"#DejaVuSans-30\"/>\n      </g>\n     </g>\n    </g>\n    <g id=\"ytick_6\">\n     <g id=\"line2d_12\">\n      <g>\n       <use style=\"stroke:#000000;stroke-width:0.8;\" x=\"52.375\" xlink:href=\"#m7db574929f\" y=\"93.718266\"/>\n      </g>\n     </g>\n     <g id=\"text_12\">\n      <!-- 125000 -->\n      <g transform=\"translate(7.2 97.517485)scale(0.1 -0.1)\">\n       <use xlink:href=\"#DejaVuSans-31\"/>\n       <use x=\"63.623047\" xlink:href=\"#DejaVuSans-32\"/>\n       <use x=\"127.246094\" xlink:href=\"#DejaVuSans-35\"/>\n       <use x=\"190.869141\" xlink:href=\"#DejaVuSans-30\"/>\n       <use x=\"254.492188\" xlink:href=\"#DejaVuSans-30\"/>\n       <use x=\"318.115234\" xlink:href=\"#DejaVuSans-30\"/>\n      </g>\n     </g>\n    </g>\n    <g id=\"ytick_7\">\n     <g id=\"line2d_13\">\n      <g>\n       <use style=\"stroke:#000000;stroke-width:0.8;\" x=\"52.375\" xlink:href=\"#m7db574929f\" y=\"67.533919\"/>\n      </g>\n     </g>\n     <g id=\"text_13\">\n      <!-- 150000 -->\n      <g transform=\"translate(7.2 71.333138)scale(0.1 -0.1)\">\n       <use xlink:href=\"#DejaVuSans-31\"/>\n       <use x=\"63.623047\" xlink:href=\"#DejaVuSans-35\"/>\n       <use x=\"127.246094\" xlink:href=\"#DejaVuSans-30\"/>\n       <use x=\"190.869141\" xlink:href=\"#DejaVuSans-30\"/>\n       <use x=\"254.492188\" xlink:href=\"#DejaVuSans-30\"/>\n       <use x=\"318.115234\" xlink:href=\"#DejaVuSans-30\"/>\n      </g>\n     </g>\n    </g>\n    <g id=\"ytick_8\">\n     <g id=\"line2d_14\">\n      <g>\n       <use style=\"stroke:#000000;stroke-width:0.8;\" x=\"52.375\" xlink:href=\"#m7db574929f\" y=\"41.349573\"/>\n      </g>\n     </g>\n     <g id=\"text_14\">\n      <!-- 175000 -->\n      <g transform=\"translate(7.2 45.148791)scale(0.1 -0.1)\">\n       <use xlink:href=\"#DejaVuSans-31\"/>\n       <use x=\"63.623047\" xlink:href=\"#DejaVuSans-37\"/>\n       <use x=\"127.246094\" xlink:href=\"#DejaVuSans-35\"/>\n       <use x=\"190.869141\" xlink:href=\"#DejaVuSans-30\"/>\n       <use x=\"254.492188\" xlink:href=\"#DejaVuSans-30\"/>\n       <use x=\"318.115234\" xlink:href=\"#DejaVuSans-30\"/>\n      </g>\n     </g>\n    </g>\n    <g id=\"ytick_9\">\n     <g id=\"line2d_15\">\n      <g>\n       <use style=\"stroke:#000000;stroke-width:0.8;\" x=\"52.375\" xlink:href=\"#m7db574929f\" y=\"15.165226\"/>\n      </g>\n     </g>\n     <g id=\"text_15\">\n      <!-- 200000 -->\n      <g transform=\"translate(7.2 18.964445)scale(0.1 -0.1)\">\n       <use xlink:href=\"#DejaVuSans-32\"/>\n       <use x=\"63.623047\" xlink:href=\"#DejaVuSans-30\"/>\n       <use x=\"127.246094\" xlink:href=\"#DejaVuSans-30\"/>\n       <use x=\"190.869141\" xlink:href=\"#DejaVuSans-30\"/>\n       <use x=\"254.492188\" xlink:href=\"#DejaVuSans-30\"/>\n       <use x=\"318.115234\" xlink:href=\"#DejaVuSans-30\"/>\n      </g>\n     </g>\n    </g>\n   </g>\n   <g id=\"patch_9\">\n    <path d=\"M 52.375 224.64 \nL 52.375 7.2 \n\" style=\"fill:none;stroke:#000000;stroke-linecap:square;stroke-linejoin:miter;stroke-width:0.8;\"/>\n   </g>\n   <g id=\"patch_10\">\n    <path d=\"M 387.175 224.64 \nL 387.175 7.2 \n\" style=\"fill:none;stroke:#000000;stroke-linecap:square;stroke-linejoin:miter;stroke-width:0.8;\"/>\n   </g>\n   <g id=\"patch_11\">\n    <path d=\"M 52.375 224.64 \nL 387.175 224.64 \n\" style=\"fill:none;stroke:#000000;stroke-linecap:square;stroke-linejoin:miter;stroke-width:0.8;\"/>\n   </g>\n   <g id=\"patch_12\">\n    <path d=\"M 52.375 7.2 \nL 387.175 7.2 \n\" style=\"fill:none;stroke:#000000;stroke-linecap:square;stroke-linejoin:miter;stroke-width:0.8;\"/>\n   </g>\n  </g>\n </g>\n <defs>\n  <clipPath id=\"p030599459d\">\n   <rect height=\"217.44\" width=\"334.8\" x=\"52.375\" y=\"7.2\"/>\n  </clipPath>\n </defs>\n</svg>\n",
      "image/png": "[encoded data removed]"
     },
     "metadata": {
      "needs_background": "light"
     }
    }
   ],
   "source": [
    "import matplotlib.pyplot as plt\n",
    "\n",
    "ksp_target_counts = ksp['state'].value_counts()\n",
    "plt.bar(ksp_target_counts.index, ksp_target_counts.values)\n",
    "plt.show()"
   ]
  },
  {
   "source": [
    "As we see in a bar plot above we have 6 target values here (categories).\n",
    "\n",
    "- failed - it has reached deadline, but pledge was not fullfilled\n",
    "- successful\n",
    "- canceled - canceled by a project owner, before deadline reach\n",
    "- undefined\n",
    "- live - project active in the time dataset was created\n",
    "- suspended - suspended due to Trust & Safety team uncovers evidence that it is in violation of Kickstarter's rules\n",
    "\n",
    "Now, we know for sure, that we should get rid of rows whose target value is **live**. We can then extract those rows and use them as a test data.\n",
    "\n",
    "It seems reasonable to transform **canceled** projects to **failed**, same with **suspended**.\n",
    "\n",
    "*🚧 Nejsem si jistej se suspended... Jestli to nenechat zvlast?*"
   ],
   "cell_type": "markdown",
   "metadata": {}
  },
  {
   "source": [
    "## Preprocessing"
   ],
   "cell_type": "markdown",
   "metadata": {}
  },
  {
   "source": [
    "1. We would like to have just two target values - **successful** and **failed**.\n",
    "2. We assign one of above states to rows with **undefined** rows.\n",
    "3. We derive new columns and remove redundant ones.\n",
    "4. We handle missing values (if present).\n",
    "5. We extract rows with **live** state and save them to a variable. We will use them for testing in the end."
   ],
   "cell_type": "markdown",
   "metadata": {}
  },
  {
   "source": [
    "### Merge states"
   ],
   "cell_type": "markdown",
   "metadata": {}
  },
  {
   "source": [
    "Here, we set canceled and suspended projects as failed ones."
   ],
   "cell_type": "markdown",
   "metadata": {}
  },
  {
   "cell_type": "code",
   "execution_count": 268,
   "metadata": {},
   "outputs": [
    {
     "output_type": "stream",
     "name": "stdout",
     "text": [
      "Canceled and suspended projects successfully converted to failed projects.\nFailed projects sum:  238344\n"
     ]
    }
   ],
   "source": [
    "# create copy for preprocessing\n",
    "ksp_pre = ksp.copy()\n",
    "\n",
    "# get current sum of rows for each state\n",
    "canceled_proj_len = len(ksp_pre[ksp_pre['state'] == 'canceled']) \n",
    "suspended_proj_len = len(ksp_pre[ksp_pre['state'] == 'suspended'])\n",
    "failed_proj_len = len(ksp_pre[ksp_pre['state'] == 'failed'])\n",
    "\n",
    "# set failed state instead of canceled state\n",
    "ksp_pre.loc[ksp['state'] == 'canceled', ['state']] = 'failed'\n",
    "# set failed state instead of suspended state\n",
    "ksp_pre.loc[ksp['state'] == 'suspended', ['state']] = 'failed'\n",
    "\n",
    "assert len(ksp_pre[ksp_pre['state'] == 'canceled']) == 0, \"Canceled rows length should be 0\"\n",
    "assert len(ksp_pre[ksp_pre['state'] == 'suspended']) == 0, \"Suspended rows length should be 0\"\n",
    "assert len(ksp_pre[ksp_pre['state'] == 'failed']) == failed_proj_len + suspended_proj_len + canceled_proj_len\n",
    "print(\"Canceled and suspended projects successfully converted to failed projects.\")\n",
    "print(\"Failed projects sum: \", failed_proj_len + suspended_proj_len + canceled_proj_len)"
   ]
  },
  {
   "source": [
    "### Handle undefined rows"
   ],
   "cell_type": "markdown",
   "metadata": {}
  },
  {
   "cell_type": "code",
   "execution_count": 269,
   "metadata": {},
   "outputs": [
    {
     "output_type": "execute_result",
     "data": {
      "text/plain": [
       "                                                 name      category  \\\n",
       "ID                                                                    \n",
       "1000694855              STREETFIGHTERZ WHEELIE MURICA  Film & Video   \n",
       "100149523                 Duncan Woods - Chameleon EP         Music   \n",
       "1003023003  The Making of Ashley Kelley's Debut Album         Music   \n",
       "1003130892               Butter Side Down Debut Album         Music   \n",
       "1003629045                    Chase Goehring debut EP         Music   \n",
       "\n",
       "           main_category currency    deadline    goal             launched  \\\n",
       "ID                                                                           \n",
       "1000694855  Film & Video      USD  2014-09-20  6500.0  2014-08-06 21:28:36   \n",
       "100149523          Music      AUD  2015-08-25  4500.0  2015-08-04 12:05:17   \n",
       "1003023003         Music      USD  2015-04-09  3500.0  2015-03-10 20:06:13   \n",
       "1003130892         Music      USD  2015-11-26  6000.0  2015-11-02 22:09:19   \n",
       "1003629045         Music      USD  2016-03-21  3000.0  2016-02-23 03:09:49   \n",
       "\n",
       "            pledged      state  backers country  usd pledged  \\\n",
       "ID                                                             \n",
       "1000694855   555.00  undefined        0    N,0\"          NaN   \n",
       "100149523   4767.00  undefined        0    N,0\"          NaN   \n",
       "1003023003  3576.00  undefined        0    N,0\"          NaN   \n",
       "1003130892  7007.80  undefined        0    N,0\"          NaN   \n",
       "1003629045  3660.38  undefined        0    N,0\"          NaN   \n",
       "\n",
       "            usd_pledged_real  usd_goal_real  \n",
       "ID                                           \n",
       "1000694855            555.00        6500.00  \n",
       "100149523            3402.08        3211.53  \n",
       "1003023003           3576.00        3500.00  \n",
       "1003130892           7007.80        6000.00  \n",
       "1003629045           3660.38        3000.00  "
      ],
      "text/html": "<div>\n<style scoped>\n    .dataframe tbody tr th:only-of-type {\n        vertical-align: middle;\n    }\n\n    .dataframe tbody tr th {\n        vertical-align: top;\n    }\n\n    .dataframe thead th {\n        text-align: right;\n    }\n</style>\n<table border=\"1\" class=\"dataframe\">\n  <thead>\n    <tr style=\"text-align: right;\">\n      <th></th>\n      <th>name</th>\n      <th>category</th>\n      <th>main_category</th>\n      <th>currency</th>\n      <th>deadline</th>\n      <th>goal</th>\n      <th>launched</th>\n      <th>pledged</th>\n      <th>state</th>\n      <th>backers</th>\n      <th>country</th>\n      <th>usd pledged</th>\n      <th>usd_pledged_real</th>\n      <th>usd_goal_real</th>\n    </tr>\n    <tr>\n      <th>ID</th>\n      <th></th>\n      <th></th>\n      <th></th>\n      <th></th>\n      <th></th>\n      <th></th>\n      <th></th>\n      <th></th>\n      <th></th>\n      <th></th>\n      <th></th>\n      <th></th>\n      <th></th>\n      <th></th>\n    </tr>\n  </thead>\n  <tbody>\n    <tr>\n      <th>1000694855</th>\n      <td>STREETFIGHTERZ WHEELIE MURICA</td>\n      <td>Film &amp; Video</td>\n      <td>Film &amp; Video</td>\n      <td>USD</td>\n      <td>2014-09-20</td>\n      <td>6500.0</td>\n      <td>2014-08-06 21:28:36</td>\n      <td>555.00</td>\n      <td>undefined</td>\n      <td>0</td>\n      <td>N,0\"</td>\n      <td>NaN</td>\n      <td>555.00</td>\n      <td>6500.00</td>\n    </tr>\n    <tr>\n      <th>100149523</th>\n      <td>Duncan Woods - Chameleon EP</td>\n      <td>Music</td>\n      <td>Music</td>\n      <td>AUD</td>\n      <td>2015-08-25</td>\n      <td>4500.0</td>\n      <td>2015-08-04 12:05:17</td>\n      <td>4767.00</td>\n      <td>undefined</td>\n      <td>0</td>\n      <td>N,0\"</td>\n      <td>NaN</td>\n      <td>3402.08</td>\n      <td>3211.53</td>\n    </tr>\n    <tr>\n      <th>1003023003</th>\n      <td>The Making of Ashley Kelley's Debut Album</td>\n      <td>Music</td>\n      <td>Music</td>\n      <td>USD</td>\n      <td>2015-04-09</td>\n      <td>3500.0</td>\n      <td>2015-03-10 20:06:13</td>\n      <td>3576.00</td>\n      <td>undefined</td>\n      <td>0</td>\n      <td>N,0\"</td>\n      <td>NaN</td>\n      <td>3576.00</td>\n      <td>3500.00</td>\n    </tr>\n    <tr>\n      <th>1003130892</th>\n      <td>Butter Side Down Debut Album</td>\n      <td>Music</td>\n      <td>Music</td>\n      <td>USD</td>\n      <td>2015-11-26</td>\n      <td>6000.0</td>\n      <td>2015-11-02 22:09:19</td>\n      <td>7007.80</td>\n      <td>undefined</td>\n      <td>0</td>\n      <td>N,0\"</td>\n      <td>NaN</td>\n      <td>7007.80</td>\n      <td>6000.00</td>\n    </tr>\n    <tr>\n      <th>1003629045</th>\n      <td>Chase Goehring debut EP</td>\n      <td>Music</td>\n      <td>Music</td>\n      <td>USD</td>\n      <td>2016-03-21</td>\n      <td>3000.0</td>\n      <td>2016-02-23 03:09:49</td>\n      <td>3660.38</td>\n      <td>undefined</td>\n      <td>0</td>\n      <td>N,0\"</td>\n      <td>NaN</td>\n      <td>3660.38</td>\n      <td>3000.00</td>\n    </tr>\n  </tbody>\n</table>\n</div>"
     },
     "metadata": {},
     "execution_count": 269
    }
   ],
   "source": [
    "# Print projects with undefined state\n",
    "ksp_pre[ksp_pre['state'] == 'undefined'].head()"
   ]
  },
  {
   "source": [
    "We apply this rules on projects with state undefined:\n",
    "- country will be set as currency without last letter\n",
    "    - *currency: EUR, country: EU* or\n",
    "    - *currency: CAD, country: CA*\n",
    "- if project's **goal is reached then state is successful**, otherwise failed.\n",
    "\n",
    "Let's start with first rule."
   ],
   "cell_type": "markdown",
   "metadata": {}
  },
  {
   "cell_type": "code",
   "execution_count": 270,
   "metadata": {
    "tags": []
   },
   "outputs": [
    {
     "output_type": "execute_result",
     "data": {
      "text/plain": [
       "                state currency country\n",
       "ID                                    \n",
       "1000694855  undefined      USD      US\n",
       "100149523   undefined      AUD      AU\n",
       "1003023003  undefined      USD      US\n",
       "1003130892  undefined      USD      US\n",
       "1003629045  undefined      USD      US"
      ],
      "text/html": "<div>\n<style scoped>\n    .dataframe tbody tr th:only-of-type {\n        vertical-align: middle;\n    }\n\n    .dataframe tbody tr th {\n        vertical-align: top;\n    }\n\n    .dataframe thead th {\n        text-align: right;\n    }\n</style>\n<table border=\"1\" class=\"dataframe\">\n  <thead>\n    <tr style=\"text-align: right;\">\n      <th></th>\n      <th>state</th>\n      <th>currency</th>\n      <th>country</th>\n    </tr>\n    <tr>\n      <th>ID</th>\n      <th></th>\n      <th></th>\n      <th></th>\n    </tr>\n  </thead>\n  <tbody>\n    <tr>\n      <th>1000694855</th>\n      <td>undefined</td>\n      <td>USD</td>\n      <td>US</td>\n    </tr>\n    <tr>\n      <th>100149523</th>\n      <td>undefined</td>\n      <td>AUD</td>\n      <td>AU</td>\n    </tr>\n    <tr>\n      <th>1003023003</th>\n      <td>undefined</td>\n      <td>USD</td>\n      <td>US</td>\n    </tr>\n    <tr>\n      <th>1003130892</th>\n      <td>undefined</td>\n      <td>USD</td>\n      <td>US</td>\n    </tr>\n    <tr>\n      <th>1003629045</th>\n      <td>undefined</td>\n      <td>USD</td>\n      <td>US</td>\n    </tr>\n  </tbody>\n</table>\n</div>"
     },
     "metadata": {},
     "execution_count": 270
    }
   ],
   "source": [
    "# remove last character from currency and resulted string set as a country\n",
    "ksp_pre.loc[ksp_pre['state'] == 'undefined', 'country'] = ksp_pre.apply(lambda p: p['currency'][:-1], axis=1)\n",
    "# print undefined projects\n",
    "ksp_pre.loc[ksp_pre['state'] == 'undefined',['state', 'currency', 'country']].head()"
   ]
  },
  {
   "source": [
    "We see now country values derived from currency.\n",
    "\n",
    "And now, we apply second rule - assign successful or failed state based on goal and pledge."
   ],
   "cell_type": "markdown",
   "metadata": {}
  },
  {
   "cell_type": "code",
   "execution_count": 271,
   "metadata": {},
   "outputs": [
    {
     "output_type": "stream",
     "name": "stdout",
     "text": [
      "Project with state undefined successfuly identified.\n"
     ]
    }
   ],
   "source": [
    "# get current sums of states\n",
    "undefined_proj_len = len(ksp_pre[ksp_pre['state'] == 'undefined'].index)\n",
    "success_or_failed_len = len(ksp_pre[(ksp_pre['state'] == 'successful') | (ksp_pre['state'] == 'failed')].index)\n",
    "\n",
    "if undefined_proj_len != 0:\n",
    "    # apply first rule\n",
    "    ksp_pre.loc[ksp_pre['state'] == 'undefined', 'state'] = ksp_pre.apply(lambda p: 'failed' if (p['usd_goal_real'] > p['usd_pledged_real']) else 'successful', axis=1)\n",
    "\n",
    "# test that everything is right\n",
    "assert len(ksp_pre[ksp_pre['state'] == 'undefined'].index) == 0, \"Undefined rows length should be 0\"\n",
    "assert len(ksp_pre.loc[(ksp_pre['state'] == 'successful') | (ksp_pre['state'] == 'failed')].index) == success_or_failed_len + undefined_proj_len\n",
    "print(\"Project with state undefined successfuly identified.\")\n"
   ]
  },
  {
   "source": [
    "### Remove, derive columns"
   ],
   "cell_type": "markdown",
   "metadata": {}
  },
  {
   "source": [
    "We have here multiple columns, which does not have any meaning for our model or even could have negative effect on our model.\n",
    "\n",
    "- `name` - A lot of distinct values (could be even unique), not categorical, not numerical...\n",
    "- `backers` and `pledged` - If one of them is 0, then the other one too. It shows end-state of a project, but in the beginning it always equals 0. So all new data, that we have to predict will be predicted as Failed.\n",
    "\n",
    "Column `launched` gives us information about project beginning datetime on the kickstarter. It's 99.9% probability that it would be an unique value, because it has even seconds. Also, it gives us nothing for our prediction model.\n",
    "\n",
    "**BUT We can use `launched` values in the other way.** We have available **deadline** date too. We will derive a new column called **duration**, where we pass the difference between launched and deadline dates. The difference will be presented in days. Thus, duration represents how many days a project was/will be active on the Kickstarter.\n",
    "\n",
    "Next, we see some duplicated columns.\n",
    "- `usd_goal_real` -> `goal` converted to $\n",
    "- `usd_pledged_real` -> `pledged` converted to $ by Fixer.io API\n",
    "- `usd_pledged` -> `pledged` converted to $ by the kickstarter\n",
    "\n",
    "We mentioned above that pledged value is useless for us, so duplicate columns like usd_pledged_real and usd_pledged too. We can remove them.\n",
    "\n",
    "At this point currency column does not make sense for us anymore, because we have all project's goals converted to USD. Country column will do the job for categorization.\n",
    "\n",
    "Now, we remove mentioned columns.\n",
    "\n",
    "🚧 *Poznamka pro nas: `backers` a `usd_pledged_real` asi nemuzeme zahrnovat do modelu. Predstavuji totiz stav ke konci projektu, ale realne nova data budou vstupovat u obou sloupcu s hodnotou 0 - to by pak model vzdy vyhodnocoval jako Failed nebo Canceled. Ted me ale ani nenapada jak bychom tyto hodnoty mohli vyuzit k derivaci jinych hodnot. Asi nijak.. :(*"
   ],
   "cell_type": "markdown",
   "metadata": {}
  },
  {
   "cell_type": "code",
   "execution_count": 272,
   "metadata": {},
   "outputs": [
    {
     "output_type": "execute_result",
     "data": {
      "text/plain": [
       "                  category main_category    deadline             launched  \\\n",
       "ID                                                                          \n",
       "1000002330          Poetry    Publishing  2015-10-09  2015-08-11 12:12:28   \n",
       "1000003930  Narrative Film  Film & Video  2017-11-01  2017-09-02 04:43:57   \n",
       "1000004038  Narrative Film  Film & Video  2013-02-26  2013-01-12 00:20:50   \n",
       "1000007540           Music         Music  2012-04-16  2012-03-17 03:24:11   \n",
       "1000011046    Film & Video  Film & Video  2015-08-29  2015-07-04 08:35:03   \n",
       "\n",
       "             state country  usd_goal_real  \n",
       "ID                                         \n",
       "1000002330  failed      GB        1533.95  \n",
       "1000003930  failed      US       30000.00  \n",
       "1000004038  failed      US       45000.00  \n",
       "1000007540  failed      US        5000.00  \n",
       "1000011046  failed      US       19500.00  "
      ],
      "text/html": "<div>\n<style scoped>\n    .dataframe tbody tr th:only-of-type {\n        vertical-align: middle;\n    }\n\n    .dataframe tbody tr th {\n        vertical-align: top;\n    }\n\n    .dataframe thead th {\n        text-align: right;\n    }\n</style>\n<table border=\"1\" class=\"dataframe\">\n  <thead>\n    <tr style=\"text-align: right;\">\n      <th></th>\n      <th>category</th>\n      <th>main_category</th>\n      <th>deadline</th>\n      <th>launched</th>\n      <th>state</th>\n      <th>country</th>\n      <th>usd_goal_real</th>\n    </tr>\n    <tr>\n      <th>ID</th>\n      <th></th>\n      <th></th>\n      <th></th>\n      <th></th>\n      <th></th>\n      <th></th>\n      <th></th>\n    </tr>\n  </thead>\n  <tbody>\n    <tr>\n      <th>1000002330</th>\n      <td>Poetry</td>\n      <td>Publishing</td>\n      <td>2015-10-09</td>\n      <td>2015-08-11 12:12:28</td>\n      <td>failed</td>\n      <td>GB</td>\n      <td>1533.95</td>\n    </tr>\n    <tr>\n      <th>1000003930</th>\n      <td>Narrative Film</td>\n      <td>Film &amp; Video</td>\n      <td>2017-11-01</td>\n      <td>2017-09-02 04:43:57</td>\n      <td>failed</td>\n      <td>US</td>\n      <td>30000.00</td>\n    </tr>\n    <tr>\n      <th>1000004038</th>\n      <td>Narrative Film</td>\n      <td>Film &amp; Video</td>\n      <td>2013-02-26</td>\n      <td>2013-01-12 00:20:50</td>\n      <td>failed</td>\n      <td>US</td>\n      <td>45000.00</td>\n    </tr>\n    <tr>\n      <th>1000007540</th>\n      <td>Music</td>\n      <td>Music</td>\n      <td>2012-04-16</td>\n      <td>2012-03-17 03:24:11</td>\n      <td>failed</td>\n      <td>US</td>\n      <td>5000.00</td>\n    </tr>\n    <tr>\n      <th>1000011046</th>\n      <td>Film &amp; Video</td>\n      <td>Film &amp; Video</td>\n      <td>2015-08-29</td>\n      <td>2015-07-04 08:35:03</td>\n      <td>failed</td>\n      <td>US</td>\n      <td>19500.00</td>\n    </tr>\n  </tbody>\n</table>\n</div>"
     },
     "metadata": {},
     "execution_count": 272
    }
   ],
   "source": [
    "\n",
    "ksp_pre = ksp_pre.drop(['name', 'currency', 'goal', 'pledged', 'usd pledged', 'usd_pledged_real', 'backers'], axis=1)\n",
    "\n",
    "ksp_pre.head()"
   ]
  },
  {
   "source": [
    "At this point we can derive **duration** column and remove `launched` and `deadline` columns."
   ],
   "cell_type": "markdown",
   "metadata": {}
  },
  {
   "cell_type": "code",
   "execution_count": 273,
   "metadata": {
    "tags": []
   },
   "outputs": [
    {
     "output_type": "execute_result",
     "data": {
      "text/plain": [
       "                  category main_category    deadline             launched  \\\n",
       "ID                                                                          \n",
       "1000002330          Poetry    Publishing  2015-10-09  2015-08-11 12:12:28   \n",
       "1000003930  Narrative Film  Film & Video  2017-11-01  2017-09-02 04:43:57   \n",
       "1000004038  Narrative Film  Film & Video  2013-02-26  2013-01-12 00:20:50   \n",
       "1000007540           Music         Music  2012-04-16  2012-03-17 03:24:11   \n",
       "1000011046    Film & Video  Film & Video  2015-08-29  2015-07-04 08:35:03   \n",
       "\n",
       "             state country  usd_goal_real  duration  \n",
       "ID                                                   \n",
       "1000002330  failed      GB        1533.95        58  \n",
       "1000003930  failed      US       30000.00        59  \n",
       "1000004038  failed      US       45000.00        44  \n",
       "1000007540  failed      US        5000.00        29  \n",
       "1000011046  failed      US       19500.00        55  "
      ],
      "text/html": "<div>\n<style scoped>\n    .dataframe tbody tr th:only-of-type {\n        vertical-align: middle;\n    }\n\n    .dataframe tbody tr th {\n        vertical-align: top;\n    }\n\n    .dataframe thead th {\n        text-align: right;\n    }\n</style>\n<table border=\"1\" class=\"dataframe\">\n  <thead>\n    <tr style=\"text-align: right;\">\n      <th></th>\n      <th>category</th>\n      <th>main_category</th>\n      <th>deadline</th>\n      <th>launched</th>\n      <th>state</th>\n      <th>country</th>\n      <th>usd_goal_real</th>\n      <th>duration</th>\n    </tr>\n    <tr>\n      <th>ID</th>\n      <th></th>\n      <th></th>\n      <th></th>\n      <th></th>\n      <th></th>\n      <th></th>\n      <th></th>\n      <th></th>\n    </tr>\n  </thead>\n  <tbody>\n    <tr>\n      <th>1000002330</th>\n      <td>Poetry</td>\n      <td>Publishing</td>\n      <td>2015-10-09</td>\n      <td>2015-08-11 12:12:28</td>\n      <td>failed</td>\n      <td>GB</td>\n      <td>1533.95</td>\n      <td>58</td>\n    </tr>\n    <tr>\n      <th>1000003930</th>\n      <td>Narrative Film</td>\n      <td>Film &amp; Video</td>\n      <td>2017-11-01</td>\n      <td>2017-09-02 04:43:57</td>\n      <td>failed</td>\n      <td>US</td>\n      <td>30000.00</td>\n      <td>59</td>\n    </tr>\n    <tr>\n      <th>1000004038</th>\n      <td>Narrative Film</td>\n      <td>Film &amp; Video</td>\n      <td>2013-02-26</td>\n      <td>2013-01-12 00:20:50</td>\n      <td>failed</td>\n      <td>US</td>\n      <td>45000.00</td>\n      <td>44</td>\n    </tr>\n    <tr>\n      <th>1000007540</th>\n      <td>Music</td>\n      <td>Music</td>\n      <td>2012-04-16</td>\n      <td>2012-03-17 03:24:11</td>\n      <td>failed</td>\n      <td>US</td>\n      <td>5000.00</td>\n      <td>29</td>\n    </tr>\n    <tr>\n      <th>1000011046</th>\n      <td>Film &amp; Video</td>\n      <td>Film &amp; Video</td>\n      <td>2015-08-29</td>\n      <td>2015-07-04 08:35:03</td>\n      <td>failed</td>\n      <td>US</td>\n      <td>19500.00</td>\n      <td>55</td>\n    </tr>\n  </tbody>\n</table>\n</div>"
     },
     "metadata": {},
     "execution_count": 273
    }
   ],
   "source": [
    "from datetime import datetime\n",
    "\n",
    "# get datetime strings, convert them to datetime objects and return duration in days between two days\n",
    "def parse_and_get_duration_in_days(from_date_str, to_date_str):\n",
    "    from_date = datetime.strptime(from_date_str, '%Y-%m-%d %H:%M:%S')\n",
    "    to_date = datetime.strptime(to_date_str, '%Y-%m-%d')\n",
    "    duration = to_date - from_date\n",
    "    return duration.days\n",
    "\n",
    "# create new column duration and use function above to apply duration value derived from launched and deadline columns\n",
    "ksp_pre['duration'] = ksp_pre.apply(lambda x: parse_and_get_duration_in_days(x['launched'], x['deadline']), axis=1)\n",
    "\n",
    "ksp_pre.head()"
   ]
  },
  {
   "source": [
    "In the table above we see new `duration` column.\n",
    "\n",
    "Next, we derive column `launched_month` to have information about time of the year a project was launched."
   ],
   "cell_type": "markdown",
   "metadata": {}
  },
  {
   "cell_type": "code",
   "execution_count": 274,
   "metadata": {
    "tags": []
   },
   "outputs": [
    {
     "output_type": "execute_result",
     "data": {
      "text/plain": [
       "                  category main_category    deadline             launched  \\\n",
       "ID                                                                          \n",
       "1000002330          Poetry    Publishing  2015-10-09  2015-08-11 12:12:28   \n",
       "1000003930  Narrative Film  Film & Video  2017-11-01  2017-09-02 04:43:57   \n",
       "1000004038  Narrative Film  Film & Video  2013-02-26  2013-01-12 00:20:50   \n",
       "1000007540           Music         Music  2012-04-16  2012-03-17 03:24:11   \n",
       "1000011046    Film & Video  Film & Video  2015-08-29  2015-07-04 08:35:03   \n",
       "\n",
       "             state country  usd_goal_real  duration  launched_month  \n",
       "ID                                                                   \n",
       "1000002330  failed      GB        1533.95        58               8  \n",
       "1000003930  failed      US       30000.00        59               9  \n",
       "1000004038  failed      US       45000.00        44               1  \n",
       "1000007540  failed      US        5000.00        29               3  \n",
       "1000011046  failed      US       19500.00        55               7  "
      ],
      "text/html": "<div>\n<style scoped>\n    .dataframe tbody tr th:only-of-type {\n        vertical-align: middle;\n    }\n\n    .dataframe tbody tr th {\n        vertical-align: top;\n    }\n\n    .dataframe thead th {\n        text-align: right;\n    }\n</style>\n<table border=\"1\" class=\"dataframe\">\n  <thead>\n    <tr style=\"text-align: right;\">\n      <th></th>\n      <th>category</th>\n      <th>main_category</th>\n      <th>deadline</th>\n      <th>launched</th>\n      <th>state</th>\n      <th>country</th>\n      <th>usd_goal_real</th>\n      <th>duration</th>\n      <th>launched_month</th>\n    </tr>\n    <tr>\n      <th>ID</th>\n      <th></th>\n      <th></th>\n      <th></th>\n      <th></th>\n      <th></th>\n      <th></th>\n      <th></th>\n      <th></th>\n      <th></th>\n    </tr>\n  </thead>\n  <tbody>\n    <tr>\n      <th>1000002330</th>\n      <td>Poetry</td>\n      <td>Publishing</td>\n      <td>2015-10-09</td>\n      <td>2015-08-11 12:12:28</td>\n      <td>failed</td>\n      <td>GB</td>\n      <td>1533.95</td>\n      <td>58</td>\n      <td>8</td>\n    </tr>\n    <tr>\n      <th>1000003930</th>\n      <td>Narrative Film</td>\n      <td>Film &amp; Video</td>\n      <td>2017-11-01</td>\n      <td>2017-09-02 04:43:57</td>\n      <td>failed</td>\n      <td>US</td>\n      <td>30000.00</td>\n      <td>59</td>\n      <td>9</td>\n    </tr>\n    <tr>\n      <th>1000004038</th>\n      <td>Narrative Film</td>\n      <td>Film &amp; Video</td>\n      <td>2013-02-26</td>\n      <td>2013-01-12 00:20:50</td>\n      <td>failed</td>\n      <td>US</td>\n      <td>45000.00</td>\n      <td>44</td>\n      <td>1</td>\n    </tr>\n    <tr>\n      <th>1000007540</th>\n      <td>Music</td>\n      <td>Music</td>\n      <td>2012-04-16</td>\n      <td>2012-03-17 03:24:11</td>\n      <td>failed</td>\n      <td>US</td>\n      <td>5000.00</td>\n      <td>29</td>\n      <td>3</td>\n    </tr>\n    <tr>\n      <th>1000011046</th>\n      <td>Film &amp; Video</td>\n      <td>Film &amp; Video</td>\n      <td>2015-08-29</td>\n      <td>2015-07-04 08:35:03</td>\n      <td>failed</td>\n      <td>US</td>\n      <td>19500.00</td>\n      <td>55</td>\n      <td>7</td>\n    </tr>\n  </tbody>\n</table>\n</div>"
     },
     "metadata": {},
     "execution_count": 274
    }
   ],
   "source": [
    "# get datetime strings, convert them to datetime objects and return duration in days between two days\n",
    "def get_launched_month(launched_date_str):\n",
    "    launched_date = datetime.strptime(launched_date_str, '%Y-%m-%d %H:%M:%S')\n",
    "    return launched_date.month\n",
    "\n",
    "ksp_pre['launched_month'] = ksp_pre.apply(lambda x: get_launched_month(x['launched']), axis=1)\n",
    "\n",
    "ksp_pre.head()"
   ]
  },
  {
   "source": [
    "We have derived two new columns from dates provided by the dataset - duration and launched_month.\n",
    "\n",
    "We can remove launched and deadline columns as we do not need them anymore."
   ],
   "cell_type": "markdown",
   "metadata": {}
  },
  {
   "cell_type": "code",
   "execution_count": 275,
   "metadata": {},
   "outputs": [],
   "source": [
    "# remove launched and deadline columns\n",
    "ksp_pre = ksp_pre.drop(['launched', 'deadline'], axis=1)"
   ]
  },
  {
   "source": [
    "### Categorical to numerical"
   ],
   "cell_type": "markdown",
   "metadata": {}
  },
  {
   "cell_type": "code",
   "execution_count": 276,
   "metadata": {
    "tags": []
   },
   "outputs": [
    {
     "output_type": "execute_result",
     "data": {
      "text/plain": [
       "            category  main_category   state  country  usd_goal_real  duration  \\\n",
       "ID                                                                              \n",
       "1000002330       109             13  failed       11        1533.95        58   \n",
       "1000003930        94              7  failed       24       30000.00        59   \n",
       "1000004038        94              7  failed       24       45000.00        44   \n",
       "1000007540        91             11  failed       24        5000.00        29   \n",
       "1000011046        56              7  failed       24       19500.00        55   \n",
       "\n",
       "            launched_month  \n",
       "ID                          \n",
       "1000002330               8  \n",
       "1000003930               9  \n",
       "1000004038               1  \n",
       "1000007540               3  \n",
       "1000011046               7  "
      ],
      "text/html": "<div>\n<style scoped>\n    .dataframe tbody tr th:only-of-type {\n        vertical-align: middle;\n    }\n\n    .dataframe tbody tr th {\n        vertical-align: top;\n    }\n\n    .dataframe thead th {\n        text-align: right;\n    }\n</style>\n<table border=\"1\" class=\"dataframe\">\n  <thead>\n    <tr style=\"text-align: right;\">\n      <th></th>\n      <th>category</th>\n      <th>main_category</th>\n      <th>state</th>\n      <th>country</th>\n      <th>usd_goal_real</th>\n      <th>duration</th>\n      <th>launched_month</th>\n    </tr>\n    <tr>\n      <th>ID</th>\n      <th></th>\n      <th></th>\n      <th></th>\n      <th></th>\n      <th></th>\n      <th></th>\n      <th></th>\n    </tr>\n  </thead>\n  <tbody>\n    <tr>\n      <th>1000002330</th>\n      <td>109</td>\n      <td>13</td>\n      <td>failed</td>\n      <td>11</td>\n      <td>1533.95</td>\n      <td>58</td>\n      <td>8</td>\n    </tr>\n    <tr>\n      <th>1000003930</th>\n      <td>94</td>\n      <td>7</td>\n      <td>failed</td>\n      <td>24</td>\n      <td>30000.00</td>\n      <td>59</td>\n      <td>9</td>\n    </tr>\n    <tr>\n      <th>1000004038</th>\n      <td>94</td>\n      <td>7</td>\n      <td>failed</td>\n      <td>24</td>\n      <td>45000.00</td>\n      <td>44</td>\n      <td>1</td>\n    </tr>\n    <tr>\n      <th>1000007540</th>\n      <td>91</td>\n      <td>11</td>\n      <td>failed</td>\n      <td>24</td>\n      <td>5000.00</td>\n      <td>29</td>\n      <td>3</td>\n    </tr>\n    <tr>\n      <th>1000011046</th>\n      <td>56</td>\n      <td>7</td>\n      <td>failed</td>\n      <td>24</td>\n      <td>19500.00</td>\n      <td>55</td>\n      <td>7</td>\n    </tr>\n  </tbody>\n</table>\n</div>"
     },
     "metadata": {},
     "execution_count": 276
    }
   ],
   "source": [
    "# here we will save all dictionaries so we can use it later (two way mapping)\n",
    "replace_dictionary = {}\n",
    "\n",
    "# set columns we want to convert from string categories to numerical categories\n",
    "columns_to_replace = ['country', 'main_category', 'category']\n",
    "\n",
    "# help function for converting\n",
    "def replace_categorical_to_num(column):\n",
    "    # store category names to a list\n",
    "    labels = ksp_pre[column].astype('category').cat.categories.tolist()\n",
    "    # make mapping using dictionary comprehensions ({category: unique number})\n",
    "    replace_map_comp = {column : {k: v for k,v in zip(labels,list(range(1,len(labels)+1)))}}\n",
    "    # just save category dictionary for further usage\n",
    "    replace_dictionary[column] = replace_map_comp[column]\n",
    "    # use mapping function to replace categories for unique numbers\n",
    "    ksp_pre.replace(replace_map_comp, inplace=True)\n",
    "\n",
    "# iterate through columns and call help function\n",
    "for c in columns_to_replace:\n",
    "    replace_categorical_to_num(c)\n",
    "\n",
    "ksp_pre.head()"
   ]
  },
  {
   "source": [
    "### Handle missing values"
   ],
   "cell_type": "markdown",
   "metadata": {}
  },
  {
   "source": [
    "**@TODO**"
   ],
   "cell_type": "markdown",
   "metadata": {}
  },
  {
   "source": [
    "### Extract \"live\" projects"
   ],
   "cell_type": "markdown",
   "metadata": {}
  },
  {
   "cell_type": "code",
   "execution_count": 277,
   "metadata": {},
   "outputs": [
    {
     "output_type": "execute_result",
     "data": {
      "text/plain": [
       "            category  main_category state  country  usd_goal_real  duration  \\\n",
       "ID                                                                            \n",
       "1000149007        96             13  live        4        2396.36        59   \n",
       "1000761521       143              7  live       24        5000.00        44   \n",
       "1002183790        70              7  live       11        1159.38        17   \n",
       "1002599057        56              7  live       24        2000.00        59   \n",
       "1002629894        71              1  live       17          52.32        15   \n",
       "\n",
       "            launched_month  \n",
       "ID                          \n",
       "1000149007              11  \n",
       "1000761521              12  \n",
       "1002183790              12  \n",
       "1002599057              12  \n",
       "1002629894              12  "
      ],
      "text/html": "<div>\n<style scoped>\n    .dataframe tbody tr th:only-of-type {\n        vertical-align: middle;\n    }\n\n    .dataframe tbody tr th {\n        vertical-align: top;\n    }\n\n    .dataframe thead th {\n        text-align: right;\n    }\n</style>\n<table border=\"1\" class=\"dataframe\">\n  <thead>\n    <tr style=\"text-align: right;\">\n      <th></th>\n      <th>category</th>\n      <th>main_category</th>\n      <th>state</th>\n      <th>country</th>\n      <th>usd_goal_real</th>\n      <th>duration</th>\n      <th>launched_month</th>\n    </tr>\n    <tr>\n      <th>ID</th>\n      <th></th>\n      <th></th>\n      <th></th>\n      <th></th>\n      <th></th>\n      <th></th>\n      <th></th>\n    </tr>\n  </thead>\n  <tbody>\n    <tr>\n      <th>1000149007</th>\n      <td>96</td>\n      <td>13</td>\n      <td>live</td>\n      <td>4</td>\n      <td>2396.36</td>\n      <td>59</td>\n      <td>11</td>\n    </tr>\n    <tr>\n      <th>1000761521</th>\n      <td>143</td>\n      <td>7</td>\n      <td>live</td>\n      <td>24</td>\n      <td>5000.00</td>\n      <td>44</td>\n      <td>12</td>\n    </tr>\n    <tr>\n      <th>1002183790</th>\n      <td>70</td>\n      <td>7</td>\n      <td>live</td>\n      <td>11</td>\n      <td>1159.38</td>\n      <td>17</td>\n      <td>12</td>\n    </tr>\n    <tr>\n      <th>1002599057</th>\n      <td>56</td>\n      <td>7</td>\n      <td>live</td>\n      <td>24</td>\n      <td>2000.00</td>\n      <td>59</td>\n      <td>12</td>\n    </tr>\n    <tr>\n      <th>1002629894</th>\n      <td>71</td>\n      <td>1</td>\n      <td>live</td>\n      <td>17</td>\n      <td>52.32</td>\n      <td>15</td>\n      <td>12</td>\n    </tr>\n  </tbody>\n</table>\n</div>"
     },
     "metadata": {},
     "execution_count": 277
    }
   ],
   "source": [
    "# create copy of a live projects and drop them from ksp dataset\n",
    "old_ksp_len = len(ksp_pre)\n",
    "live_projects_index = ksp_pre[ksp_pre['state'] == 'live'].index\n",
    "ksp_live = ksp_pre.filter(items=live_projects_index, axis=0)\n",
    "ksp_live.head()"
   ]
  },
  {
   "cell_type": "code",
   "execution_count": 278,
   "metadata": {},
   "outputs": [
    {
     "output_type": "stream",
     "name": "stdout",
     "text": [
      "✅ 'live' projects extracted successfully.\nKSP data length before: 378661\nKSP data length after: 375862\nKSP 'live' data length: 2799\n"
     ]
    }
   ],
   "source": [
    "ksp_pre.drop(ksp_pre[ksp_pre['state'] == 'live'].index, inplace=True, axis=0)\n",
    "new_ksp_len = len(ksp_pre)\n",
    "assert old_ksp_len - new_ksp_len == len(ksp_live), \"Something went wrong when extracting live projects from a datase. Lengths do not match!\"\n",
    "print(\"✅ 'live' projects extracted successfully.\")\n",
    "print(\"KSP data length before: \" + str(old_ksp_len))\n",
    "print(\"KSP data length after: \" + str(new_ksp_len))\n",
    "print(\"KSP 'live' data length: \" + str(len(ksp_live)))"
   ]
  },
  {
   "source": [
    "## Model building"
   ],
   "cell_type": "markdown",
   "metadata": {}
  },
  {
   "source": [
    "We have preprocessed our Kickstarter projects dataset, so we can pass on to the most interesting part - model building.\n",
    "\n",
    "We will try to build model based on _ and _ algorithms.\n",
    "\n",
    "*🚧 Dopsat, ktery algoritmy nakonec pouzijeme.*"
   ],
   "cell_type": "markdown",
   "metadata": {}
  },
  {
   "cell_type": "code",
   "execution_count": 292,
   "metadata": {},
   "outputs": [
    {
     "output_type": "stream",
     "name": "stderr",
     "text": [
      "/home/dimot9/.local/lib/python3.8/site-packages/sklearn/utils/validation.py:63: DataConversionWarning: A column-vector y was passed when a 1d array was expected. Please change the shape of y to (n_samples, ), for example using ravel().\n  return f(*args, **kwargs)\n"
     ]
    },
    {
     "output_type": "execute_result",
     "data": {
      "text/plain": [
       "0.644584123183345"
      ]
     },
     "metadata": {},
     "execution_count": 292
    }
   ],
   "source": [
    "from sklearn.neighbors import KNeighborsClassifier\n",
    "from sklearn.linear_model import LogisticRegression\n",
    "from sklearn.model_selection import train_test_split\n",
    "\n",
    "split_random_state=24\n",
    "\n",
    "# split target data (state) from main dataset collection\n",
    "y = ksp_pre[['state']]\n",
    "X = ksp_pre.drop(['state'], axis=1)\n",
    "\n",
    "# convert categorical data to numerical\n",
    "y = pd.get_dummies(y)\n",
    "y = y.drop('state_failed', axis=1)\n",
    "# X = pd.get_dummies(X)\n",
    "\n",
    "X_train, X_test, y_train, y_test = train_test_split(X, y, test_size=0.4, random_state=split_random_state, stratify=y)\n",
    "# knn = KNeighborsClassifier(n_neighbors=4)\n",
    "# knn.fit(X_train, y_train)\n",
    "# y_pred = knn.predict(X_test)\n",
    "# knn.score(X_test, y_test)\n",
    "\n",
    "ridge = LogisticRegression().fit(X_train, y_train.values.ravel())\n",
    "ridge.score(X_test, y_test)"
   ]
  },
  {
   "cell_type": "code",
   "execution_count": null,
   "metadata": {},
   "outputs": [],
   "source": []
  }
 ],
 "metadata": {
  "kernelspec": {
   "display_name": "Python 3",
   "language": "python",
   "name": "python3"
  },
  "language_info": {
   "codemirror_mode": {
    "name": "ipython",
    "version": 3
   },
   "file_extension": ".py",
   "mimetype": "text/x-python",
   "name": "python",
   "nbconvert_exporter": "python",
   "pygments_lexer": "ipython3",
   "version": "3.8.6"
  }
 },
 "nbformat": 4,
 "nbformat_minor": 5
}